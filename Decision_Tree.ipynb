{
 "cells": [
  {
   "cell_type": "markdown",
   "metadata": {},
   "source": [
    "# Decision Tree Modelling"
   ]
  },
  {
   "cell_type": "code",
   "execution_count": 1,
   "metadata": {
    "ExecuteTime": {
     "end_time": "2020-07-05T19:09:00.612716Z",
     "start_time": "2020-07-05T19:08:57.616512Z"
    },
    "hidden": true
   },
   "outputs": [],
   "source": [
    "import pandas as pd\n",
    "import numpy as np\n",
    "import os\n",
    "import matplotlib.pyplot as plt\n",
    "%matplotlib inline \n",
    "import seaborn as sns\n",
    "\n",
    "# %matplotlib inline will make your plot outputs appear and be stored within the notebook."
   ]
  },
  {
   "cell_type": "code",
   "execution_count": 2,
   "metadata": {
    "ExecuteTime": {
     "end_time": "2020-07-05T19:09:00.628672Z",
     "start_time": "2020-07-05T19:09:00.617703Z"
    },
    "hidden": true
   },
   "outputs": [],
   "source": [
    "# Set Display parameters\n",
    "pd.set_option('display.max_rows', 1000)\n",
    "pd.set_option('display.max_columns', 1000)\n",
    "pd.set_option('display.width', 1000)"
   ]
  },
  {
   "cell_type": "code",
   "execution_count": 3,
   "metadata": {
    "ExecuteTime": {
     "end_time": "2020-07-05T19:09:00.680778Z",
     "start_time": "2020-07-05T19:09:00.651689Z"
    },
    "hidden": true,
    "scrolled": true
   },
   "outputs": [],
   "source": [
    "# Set Working directory\n",
    "os.chdir(r'C:\\Users\\SHALESH\\Desktop\\UC Module - 3 Week 5\\Assignment- 5')"
   ]
  },
  {
   "cell_type": "code",
   "execution_count": 4,
   "metadata": {
    "ExecuteTime": {
     "end_time": "2020-07-05T19:09:00.727652Z",
     "start_time": "2020-07-05T19:09:00.702719Z"
    },
    "hidden": true
   },
   "outputs": [
    {
     "data": {
      "text/plain": [
       "['Assignment 5 Decision Trees.pdf',\n",
       " 'bill_authentication.csv',\n",
       " 'Decision Tree Notes.txt',\n",
       " 'petrol_consumption.csv']"
      ]
     },
     "execution_count": 4,
     "metadata": {},
     "output_type": "execute_result"
    }
   ],
   "source": [
    "# Get List of files in working directory \n",
    "os.listdir()"
   ]
  },
  {
   "cell_type": "markdown",
   "metadata": {
    "heading_collapsed": true
   },
   "source": [
    "## Question - 1 (Prediction of gas consumption)"
   ]
  },
  {
   "attachments": {
    "11.jpg": {
     "image/jpeg": "[encoded data removed]"
    }
   },
   "cell_type": "markdown",
   "metadata": {
    "ExecuteTime": {
     "end_time": "2020-07-05T19:08:57.539282Z",
     "start_time": "2020-07-05T19:08:57.534812Z"
    }
   },
   "source": [
    "![11.jpg](attachment:11.jpg)"
   ]
  },
  {
   "cell_type": "code",
   "execution_count": 5,
   "metadata": {
    "ExecuteTime": {
     "end_time": "2020-07-05T19:09:00.752588Z",
     "start_time": "2020-07-05T19:09:00.732639Z"
    },
    "hidden": true
   },
   "outputs": [],
   "source": [
    "# Read the first dataset\n",
    "data=pd.read_csv(\"petrol_consumption.csv\",na_values=[\"\",\" \",\"NA\",\"N/A\"])"
   ]
  },
  {
   "cell_type": "code",
   "execution_count": 6,
   "metadata": {
    "ExecuteTime": {
     "end_time": "2020-07-05T19:09:00.803451Z",
     "start_time": "2020-07-05T19:09:00.761563Z"
    },
    "hidden": true
   },
   "outputs": [
    {
     "data": {
      "text/html": [
       "<div>\n",
       "<style scoped>\n",
       "    .dataframe tbody tr th:only-of-type {\n",
       "        vertical-align: middle;\n",
       "    }\n",
       "\n",
       "    .dataframe tbody tr th {\n",
       "        vertical-align: top;\n",
       "    }\n",
       "\n",
       "    .dataframe thead th {\n",
       "        text-align: right;\n",
       "    }\n",
       "</style>\n",
       "<table border=\"1\" class=\"dataframe\">\n",
       "  <thead>\n",
       "    <tr style=\"text-align: right;\">\n",
       "      <th></th>\n",
       "      <th>Petrol_tax</th>\n",
       "      <th>Average_income</th>\n",
       "      <th>Paved_Highways</th>\n",
       "      <th>Population_Driver_licence(%)</th>\n",
       "      <th>Petrol_Consumption</th>\n",
       "    </tr>\n",
       "  </thead>\n",
       "  <tbody>\n",
       "    <tr>\n",
       "      <th>0</th>\n",
       "      <td>9.0</td>\n",
       "      <td>3571</td>\n",
       "      <td>1976</td>\n",
       "      <td>0.525</td>\n",
       "      <td>541</td>\n",
       "    </tr>\n",
       "    <tr>\n",
       "      <th>1</th>\n",
       "      <td>9.0</td>\n",
       "      <td>4092</td>\n",
       "      <td>1250</td>\n",
       "      <td>0.572</td>\n",
       "      <td>524</td>\n",
       "    </tr>\n",
       "    <tr>\n",
       "      <th>2</th>\n",
       "      <td>9.0</td>\n",
       "      <td>3865</td>\n",
       "      <td>1586</td>\n",
       "      <td>0.580</td>\n",
       "      <td>561</td>\n",
       "    </tr>\n",
       "    <tr>\n",
       "      <th>3</th>\n",
       "      <td>7.5</td>\n",
       "      <td>4870</td>\n",
       "      <td>2351</td>\n",
       "      <td>0.529</td>\n",
       "      <td>414</td>\n",
       "    </tr>\n",
       "    <tr>\n",
       "      <th>4</th>\n",
       "      <td>8.0</td>\n",
       "      <td>4399</td>\n",
       "      <td>431</td>\n",
       "      <td>0.544</td>\n",
       "      <td>410</td>\n",
       "    </tr>\n",
       "  </tbody>\n",
       "</table>\n",
       "</div>"
      ],
      "text/plain": [
       "   Petrol_tax  Average_income  Paved_Highways  Population_Driver_licence(%)  Petrol_Consumption\n",
       "0         9.0            3571            1976                         0.525                 541\n",
       "1         9.0            4092            1250                         0.572                 524\n",
       "2         9.0            3865            1586                         0.580                 561\n",
       "3         7.5            4870            2351                         0.529                 414\n",
       "4         8.0            4399             431                         0.544                 410"
      ]
     },
     "execution_count": 6,
     "metadata": {},
     "output_type": "execute_result"
    }
   ],
   "source": [
    "data.head()\n",
    "# one row corresponds to a state"
   ]
  },
  {
   "cell_type": "markdown",
   "metadata": {
    "ExecuteTime": {
     "end_time": "2020-07-05T19:09:00.818410Z",
     "start_time": "2020-07-05T19:09:00.811429Z"
    },
    "hidden": true
   },
   "source": [
    "### Data Dictionary\n",
    "\n",
    "- For one year, the consumption of petrol was measured in 48 states.\n",
    "- The relevant variables are the petrol tax, the per capita\n",
    "- income, the number of miles of paved highway, and\n",
    "- the proportion of the population with driver's licenses.\n",
    "- Petrol tax (cents per gallon)"
   ]
  },
  {
   "cell_type": "markdown",
   "metadata": {},
   "source": [
    "There are 48 rows of data. The data include:\n",
    "-  the petrol tax;\n",
    "-  the per capita income; Average income (dollars)\n",
    "-  the number of miles of paved highway;Paved Highways (miles)\n",
    "-  the proportion of drivers; Proportion of population with driver's licenses\n",
    "-  the consumption of petrol. Consumption of petrol (millions of gallons)"
   ]
  },
  {
   "cell_type": "code",
   "execution_count": 7,
   "metadata": {
    "ExecuteTime": {
     "end_time": "2020-07-05T19:09:00.841349Z",
     "start_time": "2020-07-05T19:09:00.823397Z"
    },
    "hidden": true,
    "scrolled": true
   },
   "outputs": [
    {
     "data": {
      "text/plain": [
       "(48, 5)"
      ]
     },
     "execution_count": 7,
     "metadata": {},
     "output_type": "execute_result"
    }
   ],
   "source": [
    "data.shape"
   ]
  },
  {
   "cell_type": "code",
   "execution_count": 8,
   "metadata": {
    "ExecuteTime": {
     "end_time": "2020-07-05T19:09:00.887738Z",
     "start_time": "2020-07-05T19:09:00.857306Z"
    },
    "hidden": true
   },
   "outputs": [
    {
     "name": "stdout",
     "output_type": "stream",
     "text": [
      "['petrol_tax', 'average_income', 'paved_highways', 'population_driver_licence(%)', 'petrol_consumption']\n"
     ]
    }
   ],
   "source": [
    "# lower the case of column names \n",
    "data.columns = map(str.lower, data.columns)  \n",
    "print(list(data.columns))"
   ]
  },
  {
   "cell_type": "code",
   "execution_count": 9,
   "metadata": {
    "ExecuteTime": {
     "end_time": "2020-07-05T19:09:00.909679Z",
     "start_time": "2020-07-05T19:09:00.894718Z"
    },
    "hidden": true
   },
   "outputs": [
    {
     "data": {
      "text/plain": [
       "['petrol_tax',\n",
       " 'average_income',\n",
       " 'paved_highways',\n",
       " 'population_driver_licence(%)',\n",
       " 'petrol_consumption']"
      ]
     },
     "execution_count": 9,
     "metadata": {},
     "output_type": "execute_result"
    }
   ],
   "source": [
    "list(data.columns)"
   ]
  },
  {
   "cell_type": "code",
   "execution_count": 10,
   "metadata": {
    "ExecuteTime": {
     "end_time": "2020-07-05T19:09:00.944586Z",
     "start_time": "2020-07-05T19:09:00.913670Z"
    },
    "hidden": true
   },
   "outputs": [
    {
     "name": "stdout",
     "output_type": "stream",
     "text": [
      "<class 'pandas.core.frame.DataFrame'>\n",
      "RangeIndex: 48 entries, 0 to 47\n",
      "Data columns (total 5 columns):\n",
      " #   Column                        Non-Null Count  Dtype  \n",
      "---  ------                        --------------  -----  \n",
      " 0   petrol_tax                    48 non-null     float64\n",
      " 1   average_income                48 non-null     int64  \n",
      " 2   paved_highways                48 non-null     int64  \n",
      " 3   population_driver_licence(%)  48 non-null     float64\n",
      " 4   petrol_consumption            48 non-null     int64  \n",
      "dtypes: float64(2), int64(3)\n",
      "memory usage: 2.0 KB\n"
     ]
    }
   ],
   "source": [
    "data.info()"
   ]
  },
  {
   "cell_type": "code",
   "execution_count": 11,
   "metadata": {
    "ExecuteTime": {
     "end_time": "2020-07-05T19:09:00.987472Z",
     "start_time": "2020-07-05T19:09:00.950577Z"
    },
    "hidden": true
   },
   "outputs": [
    {
     "name": "stdout",
     "output_type": "stream",
     "text": [
      "petrol_tax                      0\n",
      "average_income                  0\n",
      "paved_highways                  0\n",
      "population_driver_licence(%)    0\n",
      "petrol_consumption              0\n",
      "dtype: int64\n",
      "\n",
      "0\n"
     ]
    }
   ],
   "source": [
    "print(data.isnull().sum())\n",
    "print('')\n",
    "print(data.isnull().sum().sum())  "
   ]
  },
  {
   "cell_type": "code",
   "execution_count": 12,
   "metadata": {
    "ExecuteTime": {
     "end_time": "2020-07-05T19:09:01.065265Z",
     "start_time": "2020-07-05T19:09:00.991460Z"
    },
    "hidden": true
   },
   "outputs": [
    {
     "data": {
      "text/html": [
       "<div>\n",
       "<style scoped>\n",
       "    .dataframe tbody tr th:only-of-type {\n",
       "        vertical-align: middle;\n",
       "    }\n",
       "\n",
       "    .dataframe tbody tr th {\n",
       "        vertical-align: top;\n",
       "    }\n",
       "\n",
       "    .dataframe thead th {\n",
       "        text-align: right;\n",
       "    }\n",
       "</style>\n",
       "<table border=\"1\" class=\"dataframe\">\n",
       "  <thead>\n",
       "    <tr style=\"text-align: right;\">\n",
       "      <th></th>\n",
       "      <th>petrol_tax</th>\n",
       "      <th>average_income</th>\n",
       "      <th>paved_highways</th>\n",
       "      <th>population_driver_licence(%)</th>\n",
       "      <th>petrol_consumption</th>\n",
       "    </tr>\n",
       "  </thead>\n",
       "  <tbody>\n",
       "    <tr>\n",
       "      <th>count</th>\n",
       "      <td>48.000000</td>\n",
       "      <td>48.000000</td>\n",
       "      <td>48.000000</td>\n",
       "      <td>48.000000</td>\n",
       "      <td>48.000000</td>\n",
       "    </tr>\n",
       "    <tr>\n",
       "      <th>mean</th>\n",
       "      <td>7.668333</td>\n",
       "      <td>4241.833333</td>\n",
       "      <td>5565.416667</td>\n",
       "      <td>0.570333</td>\n",
       "      <td>576.770833</td>\n",
       "    </tr>\n",
       "    <tr>\n",
       "      <th>std</th>\n",
       "      <td>0.950770</td>\n",
       "      <td>573.623768</td>\n",
       "      <td>3491.507166</td>\n",
       "      <td>0.055470</td>\n",
       "      <td>111.885816</td>\n",
       "    </tr>\n",
       "    <tr>\n",
       "      <th>min</th>\n",
       "      <td>5.000000</td>\n",
       "      <td>3063.000000</td>\n",
       "      <td>431.000000</td>\n",
       "      <td>0.451000</td>\n",
       "      <td>344.000000</td>\n",
       "    </tr>\n",
       "    <tr>\n",
       "      <th>25%</th>\n",
       "      <td>7.000000</td>\n",
       "      <td>3739.000000</td>\n",
       "      <td>3110.250000</td>\n",
       "      <td>0.529750</td>\n",
       "      <td>509.500000</td>\n",
       "    </tr>\n",
       "    <tr>\n",
       "      <th>50%</th>\n",
       "      <td>7.500000</td>\n",
       "      <td>4298.000000</td>\n",
       "      <td>4735.500000</td>\n",
       "      <td>0.564500</td>\n",
       "      <td>568.500000</td>\n",
       "    </tr>\n",
       "    <tr>\n",
       "      <th>75%</th>\n",
       "      <td>8.125000</td>\n",
       "      <td>4578.750000</td>\n",
       "      <td>7156.000000</td>\n",
       "      <td>0.595250</td>\n",
       "      <td>632.750000</td>\n",
       "    </tr>\n",
       "    <tr>\n",
       "      <th>max</th>\n",
       "      <td>10.000000</td>\n",
       "      <td>5342.000000</td>\n",
       "      <td>17782.000000</td>\n",
       "      <td>0.724000</td>\n",
       "      <td>968.000000</td>\n",
       "    </tr>\n",
       "  </tbody>\n",
       "</table>\n",
       "</div>"
      ],
      "text/plain": [
       "       petrol_tax  average_income  paved_highways  population_driver_licence(%)  petrol_consumption\n",
       "count   48.000000       48.000000       48.000000                     48.000000           48.000000\n",
       "mean     7.668333     4241.833333     5565.416667                      0.570333          576.770833\n",
       "std      0.950770      573.623768     3491.507166                      0.055470          111.885816\n",
       "min      5.000000     3063.000000      431.000000                      0.451000          344.000000\n",
       "25%      7.000000     3739.000000     3110.250000                      0.529750          509.500000\n",
       "50%      7.500000     4298.000000     4735.500000                      0.564500          568.500000\n",
       "75%      8.125000     4578.750000     7156.000000                      0.595250          632.750000\n",
       "max     10.000000     5342.000000    17782.000000                      0.724000          968.000000"
      ]
     },
     "execution_count": 12,
     "metadata": {},
     "output_type": "execute_result"
    }
   ],
   "source": [
    "### Get Descriptive statistics for clustering data\n",
    "data.describe()  "
   ]
  },
  {
   "cell_type": "markdown",
   "metadata": {
    "hidden": true
   },
   "source": [
    "###### <font color=red> <b><u><i> Insights: -\n",
    "  - <i><font color=red>  Range of mean paved_highways is 431-17,782 miles</font> </i>\n",
    "  - <i><font color=red>  Avg. of income ranges 3063 to 5342 (USD)</font> </i> \n",
    "  - <i><font color=red>  Avg. petrol consumption is 576 (USD)</font> </i>\n",
    "    </i></u></b> </font>\n",
    "\n",
    "\n"
   ]
  },
  {
   "cell_type": "code",
   "execution_count": 13,
   "metadata": {
    "ExecuteTime": {
     "end_time": "2020-07-05T19:09:01.087206Z",
     "start_time": "2020-07-05T19:09:01.069252Z"
    },
    "hidden": true
   },
   "outputs": [
    {
     "data": {
      "text/plain": [
       "(48, 5)"
      ]
     },
     "execution_count": 13,
     "metadata": {},
     "output_type": "execute_result"
    }
   ],
   "source": [
    "# Make a copy of original data\n",
    "datac=data.copy()\n",
    "datac.shape"
   ]
  },
  {
   "cell_type": "markdown",
   "metadata": {
    "heading_collapsed": true
   },
   "source": [
    "## Regression using Decision Tree Model"
   ]
  },
  {
   "cell_type": "markdown",
   "metadata": {
    "hidden": true
   },
   "source": [
    "#### 1. Fit Decision Tree model to predict petrol consumption"
   ]
  },
  {
   "cell_type": "code",
   "execution_count": 14,
   "metadata": {
    "ExecuteTime": {
     "end_time": "2020-07-05T19:09:01.223847Z",
     "start_time": "2020-07-05T19:09:01.091194Z"
    },
    "hidden": true
   },
   "outputs": [],
   "source": [
    "## Divide into train and test datasets\n",
    "from sklearn.model_selection import train_test_split"
   ]
  },
  {
   "cell_type": "code",
   "execution_count": 15,
   "metadata": {
    "ExecuteTime": {
     "end_time": "2020-07-05T19:09:01.323285Z",
     "start_time": "2020-07-05T19:09:01.226848Z"
    },
    "hidden": true
   },
   "outputs": [],
   "source": [
    "# Code for splitting the data into train and test splits \n",
    "import sklearn.model_selection as model_selection\n",
    "from sklearn.linear_model import LinearRegression\n",
    "from sklearn import metrics\n",
    "\n",
    "X = datac[['petrol_tax', 'average_income', 'paved_highways', 'population_driver_licence(%)']]\n",
    "y = datac['petrol_consumption']\n",
    "\n",
    "X_train,X_test,y_train,y_test=model_selection.train_test_split(X,y,test_size=0.25,random_state=200)"
   ]
  },
  {
   "cell_type": "code",
   "execution_count": 16,
   "metadata": {
    "ExecuteTime": {
     "end_time": "2020-07-05T19:09:01.428817Z",
     "start_time": "2020-07-05T19:09:01.328273Z"
    },
    "hidden": true
   },
   "outputs": [],
   "source": [
    "# Use Decisiontreeregressor class for creating decision tree on training set\n",
    "from sklearn.tree import DecisionTreeRegressor"
   ]
  },
  {
   "cell_type": "code",
   "execution_count": 17,
   "metadata": {
    "ExecuteTime": {
     "end_time": "2020-07-05T19:09:01.444227Z",
     "start_time": "2020-07-05T19:09:01.436071Z"
    },
    "hidden": true
   },
   "outputs": [],
   "source": [
    "tree = DecisionTreeRegressor(max_depth=2)"
   ]
  },
  {
   "cell_type": "code",
   "execution_count": 18,
   "metadata": {
    "ExecuteTime": {
     "end_time": "2020-07-05T19:09:01.470194Z",
     "start_time": "2020-07-05T19:09:01.449193Z"
    },
    "hidden": true
   },
   "outputs": [
    {
     "data": {
      "text/plain": [
       "DecisionTreeRegressor(max_depth=2)"
      ]
     },
     "execution_count": 18,
     "metadata": {},
     "output_type": "execute_result"
    }
   ],
   "source": [
    "tree.fit(X_train, y_train)"
   ]
  },
  {
   "cell_type": "code",
   "execution_count": 19,
   "metadata": {
    "ExecuteTime": {
     "end_time": "2020-07-05T19:09:01.501241Z",
     "start_time": "2020-07-05T19:09:01.477176Z"
    },
    "hidden": true
   },
   "outputs": [],
   "source": [
    "# Make predictions and evaluate output.\n",
    "predictions = tree.predict(X_test)"
   ]
  },
  {
   "cell_type": "code",
   "execution_count": 20,
   "metadata": {
    "ExecuteTime": {
     "end_time": "2020-07-05T19:09:01.535333Z",
     "start_time": "2020-07-05T19:09:01.517198Z"
    },
    "hidden": true
   },
   "outputs": [
    {
     "data": {
      "text/plain": [
       "array([592.15, 592.15, 592.15, 592.15, 592.15])"
      ]
     },
     "execution_count": 20,
     "metadata": {},
     "output_type": "execute_result"
    }
   ],
   "source": [
    "# Check the top 5 predictions and actual values\n",
    "\n",
    "# predicted values\n",
    "predictions[:5]"
   ]
  },
  {
   "cell_type": "code",
   "execution_count": 21,
   "metadata": {
    "ExecuteTime": {
     "end_time": "2020-07-05T19:09:01.556238Z",
     "start_time": "2020-07-05T19:09:01.542314Z"
    },
    "hidden": true
   },
   "outputs": [
    {
     "data": {
      "text/plain": [
       "30    571\n",
       "31    554\n",
       "29    534\n",
       "37    704\n",
       "17    714\n",
       "Name: petrol_consumption, dtype: int64"
      ]
     },
     "execution_count": 21,
     "metadata": {},
     "output_type": "execute_result"
    }
   ],
   "source": [
    "# actual values\n",
    "y_test[:5]"
   ]
  },
  {
   "cell_type": "markdown",
   "metadata": {
    "ExecuteTime": {
     "end_time": "2020-07-05T19:09:01.568206Z",
     "start_time": "2020-07-05T19:09:01.561225Z"
    },
    "hidden": true
   },
   "source": [
    "##### Reported model evaluation metrics for regression decision tree model "
   ]
  },
  {
   "cell_type": "code",
   "execution_count": 22,
   "metadata": {
    "ExecuteTime": {
     "end_time": "2020-07-05T19:09:01.582174Z",
     "start_time": "2020-07-05T19:09:01.574190Z"
    },
    "hidden": true
   },
   "outputs": [],
   "source": [
    "# We see that the predictions are not accurate. Let's evaluate the prediction accuracy.\n",
    "from sklearn.metrics import mean_absolute_error, r2_score"
   ]
  },
  {
   "cell_type": "code",
   "execution_count": 23,
   "metadata": {
    "ExecuteTime": {
     "end_time": "2020-07-05T19:09:01.602650Z",
     "start_time": "2020-07-05T19:09:01.588672Z"
    },
    "hidden": true
   },
   "outputs": [
    {
     "data": {
      "text/plain": [
       "54.51794871794871"
      ]
     },
     "execution_count": 23,
     "metadata": {},
     "output_type": "execute_result"
    }
   ],
   "source": [
    "# MAE \n",
    "mean_absolute_error(y_test, predictions) # actual vs predicted"
   ]
  },
  {
   "cell_type": "code",
   "execution_count": 24,
   "metadata": {
    "ExecuteTime": {
     "end_time": "2020-07-05T19:09:01.620586Z",
     "start_time": "2020-07-05T19:09:01.606625Z"
    },
    "hidden": true
   },
   "outputs": [
    {
     "data": {
      "text/plain": [
       "0.48488149618237164"
      ]
     },
     "execution_count": 24,
     "metadata": {},
     "output_type": "execute_result"
    }
   ],
   "source": [
    "# R-Square\n",
    "r2_score(y_test, predictions)  # actual vs predicted"
   ]
  },
  {
   "cell_type": "code",
   "execution_count": 25,
   "metadata": {
    "ExecuteTime": {
     "end_time": "2020-07-05T19:09:01.634549Z",
     "start_time": "2020-07-05T19:09:01.625573Z"
    },
    "hidden": true
   },
   "outputs": [],
   "source": [
    "from sklearn.tree import export_graphviz"
   ]
  },
  {
   "cell_type": "code",
   "execution_count": 26,
   "metadata": {
    "ExecuteTime": {
     "end_time": "2020-07-05T19:09:01.668473Z",
     "start_time": "2020-07-05T19:09:01.654495Z"
    },
    "hidden": true
   },
   "outputs": [],
   "source": [
    "dot_data = export_graphviz(tree, filled=True, rounded=True, feature_names=X.columns, out_file=None)"
   ]
  },
  {
   "cell_type": "code",
   "execution_count": 27,
   "metadata": {
    "ExecuteTime": {
     "end_time": "2020-07-05T19:09:01.920323Z",
     "start_time": "2020-07-05T19:09:01.673451Z"
    },
    "hidden": true,
    "scrolled": false
   },
   "outputs": [
    {
     "data": {
      "image/svg+xml": [
       "<?xml version=\"1.0\" encoding=\"UTF-8\" standalone=\"no\"?>\r\n",
       "<!DOCTYPE svg PUBLIC \"-//W3C//DTD SVG 1.1//EN\"\r\n",
       " \"http://www.w3.org/Graphics/SVG/1.1/DTD/svg11.dtd\">\r\n",
       "<!-- Generated by graphviz version 2.38.0 (20140413.2041)\r\n",
       " -->\r\n",
       "<!-- Title: Tree Pages: 1 -->\r\n",
       "<svg width=\"537pt\" height=\"269pt\"\r\n",
       " viewBox=\"0.00 0.00 537.00 269.00\" xmlns=\"http://www.w3.org/2000/svg\" xmlns:xlink=\"http://www.w3.org/1999/xlink\">\r\n",
       "<g id=\"graph0\" class=\"graph\" transform=\"scale(1 1) rotate(0) translate(4 265)\">\r\n",
       "<title>Tree</title>\r\n",
       "<polygon fill=\"white\" stroke=\"none\" points=\"-4,4 -4,-265 533,-265 533,4 -4,4\"/>\r\n",
       "<!-- 0 -->\r\n",
       "<g id=\"node1\" class=\"node\"><title>0</title>\r\n",
       "<path fill=\"#f9e2d1\" stroke=\"black\" d=\"M396.5,-261C396.5,-261 159.5,-261 159.5,-261 153.5,-261 147.5,-255 147.5,-249 147.5,-249 147.5,-205 147.5,-205 147.5,-199 153.5,-193 159.5,-193 159.5,-193 396.5,-193 396.5,-193 402.5,-193 408.5,-199 408.5,-205 408.5,-205 408.5,-249 408.5,-249 408.5,-255 402.5,-261 396.5,-261\"/>\r\n",
       "<text text-anchor=\"middle\" x=\"278\" y=\"-245.8\" font-family=\"Helvetica,sans-Serif\" font-size=\"14.00\">population_driver_licence(%) &lt;= 0.667</text>\r\n",
       "<text text-anchor=\"middle\" x=\"278\" y=\"-230.8\" font-family=\"Helvetica,sans-Serif\" font-size=\"14.00\">mse = 12253.934</text>\r\n",
       "<text text-anchor=\"middle\" x=\"278\" y=\"-215.8\" font-family=\"Helvetica,sans-Serif\" font-size=\"14.00\">samples = 36</text>\r\n",
       "<text text-anchor=\"middle\" x=\"278\" y=\"-200.8\" font-family=\"Helvetica,sans-Serif\" font-size=\"14.00\">value = 566.306</text>\r\n",
       "</g>\r\n",
       "<!-- 1 -->\r\n",
       "<g id=\"node2\" class=\"node\"><title>1</title>\r\n",
       "<path fill=\"#fae8dc\" stroke=\"black\" d=\"M272.5,-157C272.5,-157 105.5,-157 105.5,-157 99.5,-157 93.5,-151 93.5,-145 93.5,-145 93.5,-101 93.5,-101 93.5,-95 99.5,-89 105.5,-89 105.5,-89 272.5,-89 272.5,-89 278.5,-89 284.5,-95 284.5,-101 284.5,-101 284.5,-145 284.5,-145 284.5,-151 278.5,-157 272.5,-157\"/>\r\n",
       "<text text-anchor=\"middle\" x=\"189\" y=\"-141.8\" font-family=\"Helvetica,sans-Serif\" font-size=\"14.00\">average_income &lt;= 4395.0</text>\r\n",
       "<text text-anchor=\"middle\" x=\"189\" y=\"-126.8\" font-family=\"Helvetica,sans-Serif\" font-size=\"14.00\">mse = 6465.322</text>\r\n",
       "<text text-anchor=\"middle\" x=\"189\" y=\"-111.8\" font-family=\"Helvetica,sans-Serif\" font-size=\"14.00\">samples = 33</text>\r\n",
       "<text text-anchor=\"middle\" x=\"189\" y=\"-96.8\" font-family=\"Helvetica,sans-Serif\" font-size=\"14.00\">value = 545.364</text>\r\n",
       "</g>\r\n",
       "<!-- 0&#45;&gt;1 -->\r\n",
       "<g id=\"edge1\" class=\"edge\"><title>0&#45;&gt;1</title>\r\n",
       "<path fill=\"none\" stroke=\"black\" d=\"M249.104,-192.884C241.332,-183.976 232.833,-174.235 224.737,-164.957\"/>\r\n",
       "<polygon fill=\"black\" stroke=\"black\" points=\"227.267,-162.533 218.055,-157.299 221.993,-167.135 227.267,-162.533\"/>\r\n",
       "<text text-anchor=\"middle\" x=\"216.358\" y=\"-178.542\" font-family=\"Helvetica,sans-Serif\" font-size=\"14.00\">True</text>\r\n",
       "</g>\r\n",
       "<!-- 4 -->\r\n",
       "<g id=\"node5\" class=\"node\"><title>4</title>\r\n",
       "<path fill=\"#ea9a60\" stroke=\"black\" d=\"M421.5,-157C421.5,-157 314.5,-157 314.5,-157 308.5,-157 302.5,-151 302.5,-145 302.5,-145 302.5,-101 302.5,-101 302.5,-95 308.5,-89 314.5,-89 314.5,-89 421.5,-89 421.5,-89 427.5,-89 433.5,-95 433.5,-101 433.5,-101 433.5,-145 433.5,-145 433.5,-151 427.5,-157 421.5,-157\"/>\r\n",
       "<text text-anchor=\"middle\" x=\"368\" y=\"-141.8\" font-family=\"Helvetica,sans-Serif\" font-size=\"14.00\">petrol_tax &lt;= 7.75</text>\r\n",
       "<text text-anchor=\"middle\" x=\"368\" y=\"-126.8\" font-family=\"Helvetica,sans-Serif\" font-size=\"14.00\">mse = 18038.222</text>\r\n",
       "<text text-anchor=\"middle\" x=\"368\" y=\"-111.8\" font-family=\"Helvetica,sans-Serif\" font-size=\"14.00\">samples = 3</text>\r\n",
       "<text text-anchor=\"middle\" x=\"368\" y=\"-96.8\" font-family=\"Helvetica,sans-Serif\" font-size=\"14.00\">value = 796.667</text>\r\n",
       "</g>\r\n",
       "<!-- 0&#45;&gt;4 -->\r\n",
       "<g id=\"edge4\" class=\"edge\"><title>0&#45;&gt;4</title>\r\n",
       "<path fill=\"none\" stroke=\"black\" d=\"M307.22,-192.884C315.08,-183.976 323.675,-174.235 331.862,-164.957\"/>\r\n",
       "<polygon fill=\"black\" stroke=\"black\" points=\"334.626,-167.113 338.618,-157.299 329.378,-162.482 334.626,-167.113\"/>\r\n",
       "<text text-anchor=\"middle\" x=\"340.178\" y=\"-178.551\" font-family=\"Helvetica,sans-Serif\" font-size=\"14.00\">False</text>\r\n",
       "</g>\r\n",
       "<!-- 2 -->\r\n",
       "<g id=\"node3\" class=\"node\"><title>2</title>\r\n",
       "<path fill=\"#f7dac4\" stroke=\"black\" d=\"M110,-53C110,-53 12,-53 12,-53 6,-53 7.10543e-015,-47 7.10543e-015,-41 7.10543e-015,-41 7.10543e-015,-12 7.10543e-015,-12 7.10543e-015,-6 6,-0 12,-0 12,-0 110,-0 110,-0 116,-0 122,-6 122,-12 122,-12 122,-41 122,-41 122,-47 116,-53 110,-53\"/>\r\n",
       "<text text-anchor=\"middle\" x=\"61\" y=\"-37.8\" font-family=\"Helvetica,sans-Serif\" font-size=\"14.00\">mse = 2779.028</text>\r\n",
       "<text text-anchor=\"middle\" x=\"61\" y=\"-22.8\" font-family=\"Helvetica,sans-Serif\" font-size=\"14.00\">samples = 20</text>\r\n",
       "<text text-anchor=\"middle\" x=\"61\" y=\"-7.8\" font-family=\"Helvetica,sans-Serif\" font-size=\"14.00\">value = 592.15</text>\r\n",
       "</g>\r\n",
       "<!-- 1&#45;&gt;2 -->\r\n",
       "<g id=\"edge2\" class=\"edge\"><title>1&#45;&gt;2</title>\r\n",
       "<path fill=\"none\" stroke=\"black\" d=\"M144.232,-88.9485C131.221,-79.3431 117.042,-68.8747 104.134,-59.345\"/>\r\n",
       "<polygon fill=\"black\" stroke=\"black\" points=\"105.984,-56.3605 95.8603,-53.2367 101.827,-61.992 105.984,-56.3605\"/>\r\n",
       "</g>\r\n",
       "<!-- 3 -->\r\n",
       "<g id=\"node4\" class=\"node\"><title>3</title>\r\n",
       "<path fill=\"#ffffff\" stroke=\"black\" d=\"M250,-53C250,-53 152,-53 152,-53 146,-53 140,-47 140,-41 140,-41 140,-12 140,-12 140,-6 146,-0 152,-0 152,-0 250,-0 250,-0 256,-0 262,-6 262,-12 262,-12 262,-41 262,-41 262,-47 256,-53 250,-53\"/>\r\n",
       "<text text-anchor=\"middle\" x=\"201\" y=\"-37.8\" font-family=\"Helvetica,sans-Serif\" font-size=\"14.00\">mse = 3587.929</text>\r\n",
       "<text text-anchor=\"middle\" x=\"201\" y=\"-22.8\" font-family=\"Helvetica,sans-Serif\" font-size=\"14.00\">samples = 13</text>\r\n",
       "<text text-anchor=\"middle\" x=\"201\" y=\"-7.8\" font-family=\"Helvetica,sans-Serif\" font-size=\"14.00\">value = 473.385</text>\r\n",
       "</g>\r\n",
       "<!-- 1&#45;&gt;3 -->\r\n",
       "<g id=\"edge3\" class=\"edge\"><title>1&#45;&gt;3</title>\r\n",
       "<path fill=\"none\" stroke=\"black\" d=\"M193.197,-88.9485C194.254,-80.6238 195.394,-71.6509 196.466,-63.2027\"/>\r\n",
       "<polygon fill=\"black\" stroke=\"black\" points=\"199.944,-63.598 197.732,-53.2367 193,-62.7161 199.944,-63.598\"/>\r\n",
       "</g>\r\n",
       "<!-- 5 -->\r\n",
       "<g id=\"node6\" class=\"node\"><title>5</title>\r\n",
       "<path fill=\"#e58139\" stroke=\"black\" d=\"M396.5,-53C396.5,-53 315.5,-53 315.5,-53 309.5,-53 303.5,-47 303.5,-41 303.5,-41 303.5,-12 303.5,-12 303.5,-6 309.5,-0 315.5,-0 315.5,-0 396.5,-0 396.5,-0 402.5,-0 408.5,-6 408.5,-12 408.5,-12 408.5,-41 408.5,-41 408.5,-47 402.5,-53 396.5,-53\"/>\r\n",
       "<text text-anchor=\"middle\" x=\"356\" y=\"-37.8\" font-family=\"Helvetica,sans-Serif\" font-size=\"14.00\">mse = 8649.0</text>\r\n",
       "<text text-anchor=\"middle\" x=\"356\" y=\"-22.8\" font-family=\"Helvetica,sans-Serif\" font-size=\"14.00\">samples = 2</text>\r\n",
       "<text text-anchor=\"middle\" x=\"356\" y=\"-7.8\" font-family=\"Helvetica,sans-Serif\" font-size=\"14.00\">value = 875.0</text>\r\n",
       "</g>\r\n",
       "<!-- 4&#45;&gt;5 -->\r\n",
       "<g id=\"edge5\" class=\"edge\"><title>4&#45;&gt;5</title>\r\n",
       "<path fill=\"none\" stroke=\"black\" d=\"M363.803,-88.9485C362.746,-80.6238 361.606,-71.6509 360.534,-63.2027\"/>\r\n",
       "<polygon fill=\"black\" stroke=\"black\" points=\"364,-62.7161 359.268,-53.2367 357.056,-63.598 364,-62.7161\"/>\r\n",
       "</g>\r\n",
       "<!-- 6 -->\r\n",
       "<g id=\"node7\" class=\"node\"><title>6</title>\r\n",
       "<path fill=\"#f4cbad\" stroke=\"black\" d=\"M517,-53C517,-53 439,-53 439,-53 433,-53 427,-47 427,-41 427,-41 427,-12 427,-12 427,-6 433,-0 439,-0 439,-0 517,-0 517,-0 523,-0 529,-6 529,-12 529,-12 529,-41 529,-41 529,-47 523,-53 517,-53\"/>\r\n",
       "<text text-anchor=\"middle\" x=\"478\" y=\"-37.8\" font-family=\"Helvetica,sans-Serif\" font-size=\"14.00\">mse = 0.0</text>\r\n",
       "<text text-anchor=\"middle\" x=\"478\" y=\"-22.8\" font-family=\"Helvetica,sans-Serif\" font-size=\"14.00\">samples = 1</text>\r\n",
       "<text text-anchor=\"middle\" x=\"478\" y=\"-7.8\" font-family=\"Helvetica,sans-Serif\" font-size=\"14.00\">value = 640.0</text>\r\n",
       "</g>\r\n",
       "<!-- 4&#45;&gt;6 -->\r\n",
       "<g id=\"edge6\" class=\"edge\"><title>4&#45;&gt;6</title>\r\n",
       "<path fill=\"none\" stroke=\"black\" d=\"M406.473,-88.9485C417.441,-79.526 429.375,-69.2731 440.297,-59.8906\"/>\r\n",
       "<polygon fill=\"black\" stroke=\"black\" points=\"442.737,-62.408 448.042,-53.2367 438.176,-57.0983 442.737,-62.408\"/>\r\n",
       "</g>\r\n",
       "</g>\r\n",
       "</svg>\r\n"
      ],
      "text/plain": [
       "<graphviz.files.Source at 0x27a70145948>"
      ]
     },
     "execution_count": 27,
     "metadata": {},
     "output_type": "execute_result"
    }
   ],
   "source": [
    "# Draw Decision tree with depth of two\n",
    "import graphviz\n",
    "graphviz.Source(dot_data)"
   ]
  },
  {
   "cell_type": "markdown",
   "metadata": {
    "hidden": true
   },
   "source": [
    "###### <font color=blue> <b><u><i> Insights from the Decision Tree:-\n",
    "  - <i><font color=blue> The MSE evaluation metric for population_driver_licence feature is ~12k</font> </i>\n",
    "  - <i><font color=blue> There are more states with average Income<=4k compared with the petrol tax<=7 </font> </i> \n",
    "  - <i><font color=blue> The MSE evaluation metric for petrol tax is 18k </font> </i>\n",
    "  - <i><font color=blue> States with population driver license proportion < 66% and petrol_tax<7 USD has average petrol consumption of 875 millions of gallon </font> </i> \n",
    "    </i></u></b> </font>"
   ]
  },
  {
   "cell_type": "code",
   "execution_count": 28,
   "metadata": {
    "ExecuteTime": {
     "end_time": "2020-07-05T19:09:01.939794Z",
     "start_time": "2020-07-05T19:09:01.925310Z"
    },
    "hidden": true
   },
   "outputs": [
    {
     "data": {
      "text/plain": [
       "array([473.38461538, 592.15      , 875.        ])"
      ]
     },
     "execution_count": 28,
     "metadata": {},
     "output_type": "execute_result"
    }
   ],
   "source": [
    "import numpy as np\n",
    "np.unique(predictions)"
   ]
  },
  {
   "cell_type": "code",
   "execution_count": 29,
   "metadata": {
    "ExecuteTime": {
     "end_time": "2020-07-05T19:09:02.151014Z",
     "start_time": "2020-07-05T19:09:01.943298Z"
    },
    "hidden": true
   },
   "outputs": [],
   "source": [
    "from pydotplus import graph_from_dot_data\n",
    "graph = graph_from_dot_data(dot_data)"
   ]
  },
  {
   "cell_type": "code",
   "execution_count": 30,
   "metadata": {
    "ExecuteTime": {
     "end_time": "2020-07-05T19:09:02.454105Z",
     "start_time": "2020-07-05T19:09:02.154002Z"
    },
    "hidden": true,
    "scrolled": true
   },
   "outputs": [
    {
     "data": {
      "text/plain": [
       "True"
      ]
     },
     "execution_count": 30,
     "metadata": {},
     "output_type": "execute_result"
    }
   ],
   "source": [
    "# Import and save the image to the directory folder\n",
    "graph.write_png(\"Regressor_tree1.png\")"
   ]
  },
  {
   "cell_type": "markdown",
   "metadata": {
    "hidden": true
   },
   "source": [
    "#### 2. HYPER-PARAMETER TUNING: Use Grid Search to find the optimal value for the hyperparameters"
   ]
  },
  {
   "cell_type": "code",
   "execution_count": 31,
   "metadata": {
    "ExecuteTime": {
     "end_time": "2020-07-05T19:09:02.463079Z",
     "start_time": "2020-07-05T19:09:02.458093Z"
    },
    "hidden": true
   },
   "outputs": [],
   "source": [
    "from sklearn.tree import DecisionTreeRegressor\n",
    "from sklearn.model_selection import GridSearchCV"
   ]
  },
  {
   "cell_type": "markdown",
   "metadata": {
    "ExecuteTime": {
     "end_time": "2020-07-05T19:09:02.522216Z",
     "start_time": "2020-07-05T19:09:02.468066Z"
    },
    "hidden": true
   },
   "source": [
    "##### Hyperparameter tuning with GridSearchCV"
   ]
  },
  {
   "cell_type": "code",
   "execution_count": 34,
   "metadata": {},
   "outputs": [
    {
     "data": {
      "text/plain": [
       "GridSearchCV(cv=10, estimator=DecisionTreeRegressor(max_depth=2),\n",
       "             param_grid={'criterion': ['mse', 'mae'],\n",
       "                         'max_depth': [2, 3, 4, 5, 6],\n",
       "                         'max_features': [2, 3, 4],\n",
       "                         'max_leaf_nodes': [2, 5, 20, 100],\n",
       "                         'min_samples_leaf': [20, 40, 100],\n",
       "                         'min_samples_split': [10, 20, 40],\n",
       "                         'splitter': ['best']})"
      ]
     },
     "execution_count": 34,
     "metadata": {},
     "output_type": "execute_result"
    }
   ],
   "source": [
    "# fitting the model to max depth=6\n",
    "param_grid = {\"criterion\": [\"mse\", \"mae\"],\n",
    "              \"splitter\": [\"best\"],\n",
    "              \"max_depth\": [2,3,4,5,6],\n",
    "              \"min_samples_split\": [10, 20, 40],\n",
    "              \"min_samples_leaf\": [20, 40, 100],\n",
    "              \"max_features\": [2,3,4],\n",
    "              \"max_leaf_nodes\": [2,5,20,100]\n",
    "              }\n",
    "\n",
    "grid_cv_dtm = GridSearchCV(tree, param_grid, cv=10)\n",
    "grid_cv_dtm.fit(X_train, y_train)"
   ]
  },
  {
   "cell_type": "code",
   "execution_count": 35,
   "metadata": {},
   "outputs": [
    {
     "name": "stdout",
     "output_type": "stream",
     "text": [
      "R-Squared::-0.552571819485853\n",
      "Best Hyperparameters::\n",
      "{'criterion': 'mse', 'max_depth': 2, 'max_features': 2, 'max_leaf_nodes': 2, 'min_samples_leaf': 20, 'min_samples_split': 10, 'splitter': 'best'}\n"
     ]
    }
   ],
   "source": [
    "print(\"R-Squared::{}\".format(grid_cv_dtm.best_score_))\n",
    "print(\"Best Hyperparameters::\\n{}\".format(grid_cv_dtm.best_params_))"
   ]
  },
  {
   "cell_type": "markdown",
   "metadata": {
    "hidden": true
   },
   "source": [
    "###### <font color=red> <b><u><i> Insights from the Hyper-Parameter Tuning:-\n",
    "  - <i><font color=red> Most Optimal Decision tree model has depth of two levels and features utilised for tree pruning is 2</font> </i>\n",
    "  - <i><font color=red> Minimum records required for splitting is 10 with splitting stopping criteria as lowest MSE </font> </i> \n",
    "    </i></u></b> </font>"
   ]
  },
  {
   "cell_type": "code",
   "execution_count": 36,
   "metadata": {
    "ExecuteTime": {
     "end_time": "2020-07-05T19:11:17.612834Z",
     "start_time": "2020-07-05T19:11:17.553980Z"
    },
    "hidden": true
   },
   "outputs": [
    {
     "data": {
      "text/html": [
       "<div>\n",
       "<style scoped>\n",
       "    .dataframe tbody tr th:only-of-type {\n",
       "        vertical-align: middle;\n",
       "    }\n",
       "\n",
       "    .dataframe tbody tr th {\n",
       "        vertical-align: top;\n",
       "    }\n",
       "\n",
       "    .dataframe thead th {\n",
       "        text-align: right;\n",
       "    }\n",
       "</style>\n",
       "<table border=\"1\" class=\"dataframe\">\n",
       "  <thead>\n",
       "    <tr style=\"text-align: right;\">\n",
       "      <th></th>\n",
       "      <th>mean_fit_time</th>\n",
       "      <th>std_fit_time</th>\n",
       "      <th>mean_score_time</th>\n",
       "      <th>std_score_time</th>\n",
       "      <th>param_criterion</th>\n",
       "      <th>param_max_depth</th>\n",
       "      <th>param_max_features</th>\n",
       "      <th>param_max_leaf_nodes</th>\n",
       "      <th>param_min_samples_leaf</th>\n",
       "      <th>param_min_samples_split</th>\n",
       "      <th>param_splitter</th>\n",
       "      <th>params</th>\n",
       "      <th>split0_test_score</th>\n",
       "      <th>split1_test_score</th>\n",
       "      <th>split2_test_score</th>\n",
       "      <th>split3_test_score</th>\n",
       "      <th>split4_test_score</th>\n",
       "      <th>split5_test_score</th>\n",
       "      <th>split6_test_score</th>\n",
       "      <th>split7_test_score</th>\n",
       "      <th>split8_test_score</th>\n",
       "      <th>split9_test_score</th>\n",
       "      <th>mean_test_score</th>\n",
       "      <th>std_test_score</th>\n",
       "      <th>rank_test_score</th>\n",
       "    </tr>\n",
       "  </thead>\n",
       "  <tbody>\n",
       "    <tr>\n",
       "      <th>0</th>\n",
       "      <td>0.003595</td>\n",
       "      <td>0.000664</td>\n",
       "      <td>0.002098</td>\n",
       "      <td>0.000536</td>\n",
       "      <td>mse</td>\n",
       "      <td>2</td>\n",
       "      <td>2</td>\n",
       "      <td>2</td>\n",
       "      <td>20</td>\n",
       "      <td>10</td>\n",
       "      <td>best</td>\n",
       "      <td>{'criterion': 'mse', 'max_depth': 2, 'max_feat...</td>\n",
       "      <td>-0.146518</td>\n",
       "      <td>-0.001484</td>\n",
       "      <td>-2.064199</td>\n",
       "      <td>-0.182189</td>\n",
       "      <td>-0.184514</td>\n",
       "      <td>-0.526868</td>\n",
       "      <td>-0.002855</td>\n",
       "      <td>-0.579336</td>\n",
       "      <td>-0.280021</td>\n",
       "      <td>-1.557733</td>\n",
       "      <td>-0.552572</td>\n",
       "      <td>0.664413</td>\n",
       "      <td>1</td>\n",
       "    </tr>\n",
       "    <tr>\n",
       "      <th>1</th>\n",
       "      <td>0.002793</td>\n",
       "      <td>0.001076</td>\n",
       "      <td>0.001998</td>\n",
       "      <td>0.000638</td>\n",
       "      <td>mse</td>\n",
       "      <td>2</td>\n",
       "      <td>2</td>\n",
       "      <td>2</td>\n",
       "      <td>20</td>\n",
       "      <td>20</td>\n",
       "      <td>best</td>\n",
       "      <td>{'criterion': 'mse', 'max_depth': 2, 'max_feat...</td>\n",
       "      <td>-0.146518</td>\n",
       "      <td>-0.001484</td>\n",
       "      <td>-2.064199</td>\n",
       "      <td>-0.182189</td>\n",
       "      <td>-0.184514</td>\n",
       "      <td>-0.526868</td>\n",
       "      <td>-0.002855</td>\n",
       "      <td>-0.579336</td>\n",
       "      <td>-0.280021</td>\n",
       "      <td>-1.557733</td>\n",
       "      <td>-0.552572</td>\n",
       "      <td>0.664413</td>\n",
       "      <td>1</td>\n",
       "    </tr>\n",
       "    <tr>\n",
       "      <th>2</th>\n",
       "      <td>0.002401</td>\n",
       "      <td>0.000498</td>\n",
       "      <td>0.001691</td>\n",
       "      <td>0.000631</td>\n",
       "      <td>mse</td>\n",
       "      <td>2</td>\n",
       "      <td>2</td>\n",
       "      <td>2</td>\n",
       "      <td>20</td>\n",
       "      <td>40</td>\n",
       "      <td>best</td>\n",
       "      <td>{'criterion': 'mse', 'max_depth': 2, 'max_feat...</td>\n",
       "      <td>-0.146518</td>\n",
       "      <td>-0.001484</td>\n",
       "      <td>-2.064199</td>\n",
       "      <td>-0.182189</td>\n",
       "      <td>-0.184514</td>\n",
       "      <td>-0.526868</td>\n",
       "      <td>-0.002855</td>\n",
       "      <td>-0.579336</td>\n",
       "      <td>-0.280021</td>\n",
       "      <td>-1.557733</td>\n",
       "      <td>-0.552572</td>\n",
       "      <td>0.664413</td>\n",
       "      <td>1</td>\n",
       "    </tr>\n",
       "  </tbody>\n",
       "</table>\n",
       "</div>"
      ],
      "text/plain": [
       "   mean_fit_time  std_fit_time  mean_score_time  std_score_time param_criterion param_max_depth param_max_features param_max_leaf_nodes param_min_samples_leaf param_min_samples_split param_splitter                                             params  split0_test_score  split1_test_score  split2_test_score  split3_test_score  split4_test_score  split5_test_score  split6_test_score  split7_test_score  split8_test_score  split9_test_score  mean_test_score  std_test_score  rank_test_score\n",
       "0       0.003595      0.000664         0.002098        0.000536             mse               2                  2                    2                     20                      10           best  {'criterion': 'mse', 'max_depth': 2, 'max_feat...          -0.146518          -0.001484          -2.064199          -0.182189          -0.184514          -0.526868          -0.002855          -0.579336          -0.280021          -1.557733        -0.552572        0.664413                1\n",
       "1       0.002793      0.001076         0.001998        0.000638             mse               2                  2                    2                     20                      20           best  {'criterion': 'mse', 'max_depth': 2, 'max_feat...          -0.146518          -0.001484          -2.064199          -0.182189          -0.184514          -0.526868          -0.002855          -0.579336          -0.280021          -1.557733        -0.552572        0.664413                1\n",
       "2       0.002401      0.000498         0.001691        0.000631             mse               2                  2                    2                     20                      40           best  {'criterion': 'mse', 'max_depth': 2, 'max_feat...          -0.146518          -0.001484          -2.064199          -0.182189          -0.184514          -0.526868          -0.002855          -0.579336          -0.280021          -1.557733        -0.552572        0.664413                1"
      ]
     },
     "execution_count": 36,
     "metadata": {},
     "output_type": "execute_result"
    }
   ],
   "source": [
    "import pandas as pd\n",
    "df = pd.DataFrame(data=grid_cv_dtm.cv_results_)\n",
    "df.head(3)"
   ]
  },
  {
   "cell_type": "code",
   "execution_count": 37,
   "metadata": {
    "ExecuteTime": {
     "end_time": "2020-07-05T19:11:17.630774Z",
     "start_time": "2020-07-05T19:11:17.616811Z"
    },
    "hidden": true,
    "scrolled": true
   },
   "outputs": [
    {
     "data": {
      "text/plain": [
       "6    216\n",
       "5    216\n",
       "4    216\n",
       "3    216\n",
       "2    216\n",
       "Name: param_max_depth, dtype: int64"
      ]
     },
     "execution_count": 37,
     "metadata": {},
     "output_type": "execute_result"
    }
   ],
   "source": [
    "df['param_max_depth'].value_counts()"
   ]
  },
  {
   "cell_type": "markdown",
   "metadata": {
    "hidden": true
   },
   "source": [
    " #### 3. Use Grid Search to find the optimal value for the hyperparameters"
   ]
  },
  {
   "cell_type": "code",
   "execution_count": 38,
   "metadata": {
    "ExecuteTime": {
     "end_time": "2020-07-05T19:11:20.333085Z",
     "start_time": "2020-07-05T19:11:19.867974Z"
    },
    "hidden": true,
    "scrolled": false
   },
   "outputs": [
    {
     "data": {
      "image/png": "[encoded data removed]",
      "text/plain": [
       "<Figure size 432x288 with 1 Axes>"
      ]
     },
     "metadata": {
      "needs_background": "light"
     },
     "output_type": "display_data"
    }
   ],
   "source": [
    "# Evaluating training model\n",
    "predicted = grid_cv_dtm.best_estimator_.predict(X_train)\n",
    "residuals = y_train.values.flatten()-predicted\n",
    "\n",
    "fig, ax = plt.subplots()\n",
    "ax.scatter(y_train.values.flatten(), residuals)\n",
    "ax.axhline(lw=2,color='black')\n",
    "ax.set_xlabel('Observed')\n",
    "ax.set_ylabel('Residual')\n",
    "plt.show()"
   ]
  },
  {
   "cell_type": "code",
   "execution_count": 39,
   "metadata": {
    "ExecuteTime": {
     "end_time": "2020-07-05T19:11:20.760337Z",
     "start_time": "2020-07-05T19:11:20.362004Z"
    },
    "hidden": true
   },
   "outputs": [
    {
     "name": "stdout",
     "output_type": "stream",
     "text": [
      "avg R-squared::-0.553\n",
      "MSE::-12117.211\n"
     ]
    }
   ],
   "source": [
    "# Checking the training model scores\n",
    "from sklearn.model_selection import cross_val_score\n",
    "\n",
    "r2_scores = cross_val_score(grid_cv_dtm.best_estimator_, X_train, y_train, cv=10)\n",
    "mse_scores = cross_val_score(grid_cv_dtm.best_estimator_, X_train, y_train, cv=10,scoring='neg_mean_squared_error')\n",
    "\n",
    "print(\"avg R-squared::{:.3f}\".format(np.mean(r2_scores)))\n",
    "print(\"MSE::{:.3f}\".format(np.mean(mse_scores)))"
   ]
  },
  {
   "cell_type": "code",
   "execution_count": 40,
   "metadata": {
    "ExecuteTime": {
     "end_time": "2020-07-05T19:11:20.798236Z",
     "start_time": "2020-07-05T19:11:20.765323Z"
    },
    "hidden": true,
    "scrolled": true
   },
   "outputs": [
    {
     "name": "stdout",
     "output_type": "stream",
     "text": [
      "R-squared:-0.160\n",
      "MSE: 12706.82\n"
     ]
    }
   ],
   "source": [
    "# Checking the test model scores\n",
    "from sklearn.metrics import mean_squared_error\n",
    "\n",
    "best_dtm_model = grid_cv_dtm.best_estimator_\n",
    "\n",
    "y_pred = best_dtm_model.predict(X_test)\n",
    "residuals = y_test.values.flatten() - y_pred\n",
    "\n",
    "r2_score = best_dtm_model.score(X_test,y_test)\n",
    "print(\"R-squared:{:.3f}\".format(r2_score))\n",
    "print(\"MSE: %.2f\" % mean_squared_error(y_test, y_pred))"
   ]
  },
  {
   "cell_type": "markdown",
   "metadata": {
    "hidden": true
   },
   "source": [
    "###### <font color=red> <b><u><i> What does the negative R-square value signify here?\n",
    "  - <i><font color=red> For train dataset, r-square (-0.55) is more negative when fitted the decision tree model with hyper-parameter tuning </font> </i>\n",
    "  - <i><font color=red> For test dataset, r-square (-0.16) is less negative when fitted the decision tree model with hyper-parameter tuning </font> </i> \n",
    "    </i></u></b> </font>"
   ]
  },
  {
   "cell_type": "markdown",
   "metadata": {
    "hidden": true
   },
   "source": [
    "#### 4. Refinement of Decision tree model based on Best Hyperparameter tuning to improve rsquare metric"
   ]
  },
  {
   "cell_type": "code",
   "execution_count": 41,
   "metadata": {
    "ExecuteTime": {
     "end_time": "2020-07-05T19:11:20.831148Z",
     "start_time": "2020-07-05T19:11:20.804219Z"
    },
    "hidden": true
   },
   "outputs": [],
   "source": [
    "## Refit Decision tree model based on Best Hyperparameters::\n",
    "tree2 = DecisionTreeRegressor(criterion='mse',max_depth=2,max_features=2,min_samples_leaf=4,min_samples_split=18,random_state=1234)\n",
    "\n",
    "tree2.fit(X_train, y_train)\n",
    "predictions = tree2.predict(X_test)"
   ]
  },
  {
   "cell_type": "code",
   "execution_count": 42,
   "metadata": {
    "ExecuteTime": {
     "end_time": "2020-07-05T19:11:20.845110Z",
     "start_time": "2020-07-05T19:11:20.837133Z"
    },
    "hidden": true
   },
   "outputs": [],
   "source": [
    "# We see that the predictions are not accurate. Let's evaluate the prediction accuracy.\n",
    "from sklearn.metrics import mean_absolute_error, r2_score"
   ]
  },
  {
   "cell_type": "code",
   "execution_count": 43,
   "metadata": {
    "ExecuteTime": {
     "end_time": "2020-07-05T19:11:20.862066Z",
     "start_time": "2020-07-05T19:11:20.849099Z"
    },
    "hidden": true
   },
   "outputs": [
    {
     "data": {
      "text/plain": [
       "55.86111111111111"
      ]
     },
     "execution_count": 43,
     "metadata": {},
     "output_type": "execute_result"
    }
   ],
   "source": [
    "# MAE \n",
    "mean_absolute_error(y_test, predictions) # actual vs predicted"
   ]
  },
  {
   "cell_type": "code",
   "execution_count": 44,
   "metadata": {
    "ExecuteTime": {
     "end_time": "2020-07-05T19:11:20.883009Z",
     "start_time": "2020-07-05T19:11:20.866054Z"
    },
    "hidden": true
   },
   "outputs": [
    {
     "data": {
      "text/plain": [
       "0.5281684928026302"
      ]
     },
     "execution_count": 44,
     "metadata": {},
     "output_type": "execute_result"
    }
   ],
   "source": [
    "# R-Square\n",
    "r2_score(y_test, predictions)  # actual vs predicted"
   ]
  },
  {
   "cell_type": "code",
   "execution_count": 45,
   "metadata": {
    "ExecuteTime": {
     "end_time": "2020-07-05T19:11:20.902955Z",
     "start_time": "2020-07-05T19:11:20.887997Z"
    },
    "hidden": true
   },
   "outputs": [],
   "source": [
    "from sklearn.tree import export_graphviz\n",
    "dot_data = export_graphviz(tree2, filled=True, rounded=True, feature_names=X.columns, out_file=None)"
   ]
  },
  {
   "cell_type": "code",
   "execution_count": 46,
   "metadata": {
    "ExecuteTime": {
     "end_time": "2020-07-05T19:11:21.269021Z",
     "start_time": "2020-07-05T19:11:20.915938Z"
    },
    "hidden": true
   },
   "outputs": [
    {
     "data": {
      "image/svg+xml": [
       "<?xml version=\"1.0\" encoding=\"UTF-8\" standalone=\"no\"?>\r\n",
       "<!DOCTYPE svg PUBLIC \"-//W3C//DTD SVG 1.1//EN\"\r\n",
       " \"http://www.w3.org/Graphics/SVG/1.1/DTD/svg11.dtd\">\r\n",
       "<!-- Generated by graphviz version 2.38.0 (20140413.2041)\r\n",
       " -->\r\n",
       "<!-- Title: Tree Pages: 1 -->\r\n",
       "<svg width=\"375pt\" height=\"269pt\"\r\n",
       " viewBox=\"0.00 0.00 375.00 269.00\" xmlns=\"http://www.w3.org/2000/svg\" xmlns:xlink=\"http://www.w3.org/1999/xlink\">\r\n",
       "<g id=\"graph0\" class=\"graph\" transform=\"scale(1 1) rotate(0) translate(4 265)\">\r\n",
       "<title>Tree</title>\r\n",
       "<polygon fill=\"white\" stroke=\"none\" points=\"-4,4 -4,-265 371,-265 371,4 -4,4\"/>\r\n",
       "<!-- 0 -->\r\n",
       "<g id=\"node1\" class=\"node\"><title>0</title>\r\n",
       "<path fill=\"#f6d2b9\" stroke=\"black\" d=\"M336.5,-261C336.5,-261 99.5,-261 99.5,-261 93.5,-261 87.5,-255 87.5,-249 87.5,-249 87.5,-205 87.5,-205 87.5,-199 93.5,-193 99.5,-193 99.5,-193 336.5,-193 336.5,-193 342.5,-193 348.5,-199 348.5,-205 348.5,-205 348.5,-249 348.5,-249 348.5,-255 342.5,-261 336.5,-261\"/>\r\n",
       "<text text-anchor=\"middle\" x=\"218\" y=\"-245.8\" font-family=\"Helvetica,sans-Serif\" font-size=\"14.00\">population_driver_licence(%) &lt;= 0.627</text>\r\n",
       "<text text-anchor=\"middle\" x=\"218\" y=\"-230.8\" font-family=\"Helvetica,sans-Serif\" font-size=\"14.00\">mse = 12253.934</text>\r\n",
       "<text text-anchor=\"middle\" x=\"218\" y=\"-215.8\" font-family=\"Helvetica,sans-Serif\" font-size=\"14.00\">samples = 36</text>\r\n",
       "<text text-anchor=\"middle\" x=\"218\" y=\"-200.8\" font-family=\"Helvetica,sans-Serif\" font-size=\"14.00\">value = 566.306</text>\r\n",
       "</g>\r\n",
       "<!-- 1 -->\r\n",
       "<g id=\"node2\" class=\"node\"><title>1</title>\r\n",
       "<path fill=\"#f9e0ce\" stroke=\"black\" d=\"M214.5,-157C214.5,-157 47.5,-157 47.5,-157 41.5,-157 35.5,-151 35.5,-145 35.5,-145 35.5,-101 35.5,-101 35.5,-95 41.5,-89 47.5,-89 47.5,-89 214.5,-89 214.5,-89 220.5,-89 226.5,-95 226.5,-101 226.5,-101 226.5,-145 226.5,-145 226.5,-151 220.5,-157 214.5,-157\"/>\r\n",
       "<text text-anchor=\"middle\" x=\"131\" y=\"-141.8\" font-family=\"Helvetica,sans-Serif\" font-size=\"14.00\">average_income &lt;= 4395.0</text>\r\n",
       "<text text-anchor=\"middle\" x=\"131\" y=\"-126.8\" font-family=\"Helvetica,sans-Serif\" font-size=\"14.00\">mse = 6186.629</text>\r\n",
       "<text text-anchor=\"middle\" x=\"131\" y=\"-111.8\" font-family=\"Helvetica,sans-Serif\" font-size=\"14.00\">samples = 31</text>\r\n",
       "<text text-anchor=\"middle\" x=\"131\" y=\"-96.8\" font-family=\"Helvetica,sans-Serif\" font-size=\"14.00\">value = 538.871</text>\r\n",
       "</g>\r\n",
       "<!-- 0&#45;&gt;1 -->\r\n",
       "<g id=\"edge1\" class=\"edge\"><title>0&#45;&gt;1</title>\r\n",
       "<path fill=\"none\" stroke=\"black\" d=\"M189.754,-192.884C182.156,-183.976 173.848,-174.235 165.934,-164.957\"/>\r\n",
       "<polygon fill=\"black\" stroke=\"black\" points=\"168.555,-162.636 159.402,-157.299 163.229,-167.179 168.555,-162.636\"/>\r\n",
       "<text text-anchor=\"middle\" x=\"157.424\" y=\"-178.521\" font-family=\"Helvetica,sans-Serif\" font-size=\"14.00\">True</text>\r\n",
       "</g>\r\n",
       "<!-- 4 -->\r\n",
       "<g id=\"node5\" class=\"node\"><title>4</title>\r\n",
       "<path fill=\"#e58139\" stroke=\"black\" d=\"M355,-149.5C355,-149.5 257,-149.5 257,-149.5 251,-149.5 245,-143.5 245,-137.5 245,-137.5 245,-108.5 245,-108.5 245,-102.5 251,-96.5 257,-96.5 257,-96.5 355,-96.5 355,-96.5 361,-96.5 367,-102.5 367,-108.5 367,-108.5 367,-137.5 367,-137.5 367,-143.5 361,-149.5 355,-149.5\"/>\r\n",
       "<text text-anchor=\"middle\" x=\"306\" y=\"-134.3\" font-family=\"Helvetica,sans-Serif\" font-size=\"14.00\">mse = 16272.64</text>\r\n",
       "<text text-anchor=\"middle\" x=\"306\" y=\"-119.3\" font-family=\"Helvetica,sans-Serif\" font-size=\"14.00\">samples = 5</text>\r\n",
       "<text text-anchor=\"middle\" x=\"306\" y=\"-104.3\" font-family=\"Helvetica,sans-Serif\" font-size=\"14.00\">value = 736.4</text>\r\n",
       "</g>\r\n",
       "<!-- 0&#45;&gt;4 -->\r\n",
       "<g id=\"edge4\" class=\"edge\"><title>0&#45;&gt;4</title>\r\n",
       "<path fill=\"none\" stroke=\"black\" d=\"M246.571,-192.884C256.439,-181.446 267.492,-168.634 277.365,-157.19\"/>\r\n",
       "<polygon fill=\"black\" stroke=\"black\" points=\"280.1,-159.378 283.983,-149.52 274.8,-154.805 280.1,-159.378\"/>\r\n",
       "<text text-anchor=\"middle\" x=\"285.82\" y=\"-170.752\" font-family=\"Helvetica,sans-Serif\" font-size=\"14.00\">False</text>\r\n",
       "</g>\r\n",
       "<!-- 2 -->\r\n",
       "<g id=\"node3\" class=\"node\"><title>2</title>\r\n",
       "<path fill=\"#f4c9aa\" stroke=\"black\" d=\"M110,-53C110,-53 12,-53 12,-53 6,-53 7.10543e-015,-47 7.10543e-015,-41 7.10543e-015,-41 7.10543e-015,-12 7.10543e-015,-12 7.10543e-015,-6 6,-0 12,-0 12,-0 110,-0 110,-0 116,-0 122,-6 122,-12 122,-12 122,-41 122,-41 122,-47 116,-53 110,-53\"/>\r\n",
       "<text text-anchor=\"middle\" x=\"61\" y=\"-37.8\" font-family=\"Helvetica,sans-Serif\" font-size=\"14.00\">mse = 2729.361</text>\r\n",
       "<text text-anchor=\"middle\" x=\"61\" y=\"-22.8\" font-family=\"Helvetica,sans-Serif\" font-size=\"14.00\">samples = 18</text>\r\n",
       "<text text-anchor=\"middle\" x=\"61\" y=\"-7.8\" font-family=\"Helvetica,sans-Serif\" font-size=\"14.00\">value = 586.167</text>\r\n",
       "</g>\r\n",
       "<!-- 1&#45;&gt;2 -->\r\n",
       "<g id=\"edge2\" class=\"edge\"><title>1&#45;&gt;2</title>\r\n",
       "<path fill=\"none\" stroke=\"black\" d=\"M106.517,-88.9485C99.9444,-80.0749 92.8258,-70.4648 86.2139,-61.5388\"/>\r\n",
       "<polygon fill=\"black\" stroke=\"black\" points=\"88.829,-59.189 80.0642,-53.2367 83.2041,-63.3556 88.829,-59.189\"/>\r\n",
       "</g>\r\n",
       "<!-- 3 -->\r\n",
       "<g id=\"node4\" class=\"node\"><title>3</title>\r\n",
       "<path fill=\"#ffffff\" stroke=\"black\" d=\"M250,-53C250,-53 152,-53 152,-53 146,-53 140,-47 140,-41 140,-41 140,-12 140,-12 140,-6 146,-0 152,-0 152,-0 250,-0 250,-0 256,-0 262,-6 262,-12 262,-12 262,-41 262,-41 262,-47 256,-53 250,-53\"/>\r\n",
       "<text text-anchor=\"middle\" x=\"201\" y=\"-37.8\" font-family=\"Helvetica,sans-Serif\" font-size=\"14.00\">mse = 3587.929</text>\r\n",
       "<text text-anchor=\"middle\" x=\"201\" y=\"-22.8\" font-family=\"Helvetica,sans-Serif\" font-size=\"14.00\">samples = 13</text>\r\n",
       "<text text-anchor=\"middle\" x=\"201\" y=\"-7.8\" font-family=\"Helvetica,sans-Serif\" font-size=\"14.00\">value = 473.385</text>\r\n",
       "</g>\r\n",
       "<!-- 1&#45;&gt;3 -->\r\n",
       "<g id=\"edge3\" class=\"edge\"><title>1&#45;&gt;3</title>\r\n",
       "<path fill=\"none\" stroke=\"black\" d=\"M155.483,-88.9485C162.056,-80.0749 169.174,-70.4648 175.786,-61.5388\"/>\r\n",
       "<polygon fill=\"black\" stroke=\"black\" points=\"178.796,-63.3556 181.936,-53.2367 173.171,-59.189 178.796,-63.3556\"/>\r\n",
       "</g>\r\n",
       "</g>\r\n",
       "</svg>\r\n"
      ],
      "text/plain": [
       "<graphviz.files.Source at 0x27a704016c8>"
      ]
     },
     "execution_count": 46,
     "metadata": {},
     "output_type": "execute_result"
    }
   ],
   "source": [
    "# Draw Decision tree with depth of two\n",
    "import graphviz\n",
    "graphviz.Source(dot_data)"
   ]
  },
  {
   "cell_type": "code",
   "execution_count": 47,
   "metadata": {
    "ExecuteTime": {
     "end_time": "2020-07-05T19:11:21.647710Z",
     "start_time": "2020-07-05T19:11:21.273008Z"
    },
    "hidden": true
   },
   "outputs": [
    {
     "data": {
      "text/plain": [
       "True"
      ]
     },
     "execution_count": 47,
     "metadata": {},
     "output_type": "execute_result"
    }
   ],
   "source": [
    "# Import and save the final tree in the original directory\n",
    "from pydotplus import graph_from_dot_data\n",
    "graph = graph_from_dot_data(dot_data)\n",
    "\n",
    "graph.write_png(\"Regressor_tree_final.png\")"
   ]
  },
  {
   "cell_type": "markdown",
   "metadata": {
    "hidden": true
   },
   "source": [
    "#### 5. Refit the Final Decision tree model based on Best Hyperparameters & Best Features to improve model r-square and error"
   ]
  },
  {
   "cell_type": "markdown",
   "metadata": {
    "ExecuteTime": {
     "end_time": "2020-07-05T19:11:21.657442Z",
     "start_time": "2020-07-05T19:11:21.652697Z"
    },
    "hidden": true
   },
   "source": [
    "##### Evaluate Final Decision Tree model (based on various key metrics)"
   ]
  },
  {
   "cell_type": "code",
   "execution_count": 52,
   "metadata": {},
   "outputs": [],
   "source": [
    "# Fit the Decision tree model\n",
    "tree3 = DecisionTreeRegressor(max_depth=6,\n",
    "                           min_samples_split=5,\n",
    "                           max_leaf_nodes=10,\n",
    "                           random_state=5678)"
   ]
  },
  {
   "cell_type": "code",
   "execution_count": 53,
   "metadata": {},
   "outputs": [
    {
     "name": "stdout",
     "output_type": "stream",
     "text": [
      "R-Squared on train dataset=0.8334723056634809\n",
      "R-Squared on test dataset=0.9501877721174254\n"
     ]
    }
   ],
   "source": [
    "tree3.fit(X_train, y_train)\n",
    "print(\"R-Squared on train dataset={}\".format(tree3.score(X_train,y_train)))\n",
    "\n",
    "tree3.fit(X_test,y_test)   \n",
    "print(\"R-Squared on test dataset={}\".format(tree3.score(X_test,y_test)))"
   ]
  },
  {
   "cell_type": "code",
   "execution_count": 54,
   "metadata": {
    "ExecuteTime": {
     "end_time": "2020-07-05T19:11:21.785418Z",
     "start_time": "2020-07-05T19:11:21.773450Z"
    },
    "hidden": true
   },
   "outputs": [],
   "source": [
    "# Predict final tree model on test dataset\n",
    "predictions = tree3.predict(X_test)"
   ]
  },
  {
   "cell_type": "code",
   "execution_count": 55,
   "metadata": {
    "ExecuteTime": {
     "end_time": "2020-07-05T19:11:21.812347Z",
     "start_time": "2020-07-05T19:11:21.790406Z"
    },
    "hidden": true
   },
   "outputs": [
    {
     "data": {
      "text/plain": [
       "19.5"
      ]
     },
     "execution_count": 55,
     "metadata": {},
     "output_type": "execute_result"
    }
   ],
   "source": [
    "# MAE \n",
    "mean_absolute_error(y_test, predictions) # actual vs predicted"
   ]
  },
  {
   "cell_type": "code",
   "execution_count": 56,
   "metadata": {
    "ExecuteTime": {
     "end_time": "2020-07-05T19:11:21.830299Z",
     "start_time": "2020-07-05T19:11:21.819328Z"
    },
    "hidden": true
   },
   "outputs": [
    {
     "data": {
      "text/plain": [
       "0.9501877721174254"
      ]
     },
     "execution_count": 56,
     "metadata": {},
     "output_type": "execute_result"
    }
   ],
   "source": [
    "# R-Square\n",
    "r2_score(y_test, predictions)  # actual vs predicted"
   ]
  },
  {
   "cell_type": "code",
   "execution_count": 57,
   "metadata": {
    "ExecuteTime": {
     "end_time": "2020-07-05T19:11:21.846278Z",
     "start_time": "2020-07-05T19:11:21.835286Z"
    },
    "hidden": true
   },
   "outputs": [],
   "source": [
    "from sklearn.tree import export_graphviz\n",
    "dot_data = export_graphviz(tree3, filled=True, rounded=True, feature_names=X.columns, out_file=None)"
   ]
  },
  {
   "cell_type": "code",
   "execution_count": 58,
   "metadata": {
    "ExecuteTime": {
     "end_time": "2020-07-05T19:11:22.100631Z",
     "start_time": "2020-07-05T19:11:21.853239Z"
    },
    "hidden": true,
    "scrolled": false
   },
   "outputs": [
    {
     "data": {
      "image/svg+xml": [
       "<?xml version=\"1.0\" encoding=\"UTF-8\" standalone=\"no\"?>\r\n",
       "<!DOCTYPE svg PUBLIC \"-//W3C//DTD SVG 1.1//EN\"\r\n",
       " \"http://www.w3.org/Graphics/SVG/1.1/DTD/svg11.dtd\">\r\n",
       "<!-- Generated by graphviz version 2.38.0 (20140413.2041)\r\n",
       " -->\r\n",
       "<!-- Title: Tree Pages: 1 -->\r\n",
       "<svg width=\"457pt\" height=\"477pt\"\r\n",
       " viewBox=\"0.00 0.00 456.50 477.00\" xmlns=\"http://www.w3.org/2000/svg\" xmlns:xlink=\"http://www.w3.org/1999/xlink\">\r\n",
       "<g id=\"graph0\" class=\"graph\" transform=\"scale(1 1) rotate(0) translate(4 473)\">\r\n",
       "<title>Tree</title>\r\n",
       "<polygon fill=\"white\" stroke=\"none\" points=\"-4,4 -4,-473 452.5,-473 452.5,4 -4,4\"/>\r\n",
       "<!-- 0 -->\r\n",
       "<g id=\"node1\" class=\"node\"><title>0</title>\r\n",
       "<path fill=\"#f7d7c1\" stroke=\"black\" d=\"M433,-469C433,-469 196,-469 196,-469 190,-469 184,-463 184,-457 184,-457 184,-413 184,-413 184,-407 190,-401 196,-401 196,-401 433,-401 433,-401 439,-401 445,-407 445,-413 445,-413 445,-457 445,-457 445,-463 439,-469 433,-469\"/>\r\n",
       "<text text-anchor=\"middle\" x=\"314.5\" y=\"-453.8\" font-family=\"Helvetica,sans-Serif\" font-size=\"14.00\">population_driver_licence(%) &lt;= 0.693</text>\r\n",
       "<text text-anchor=\"middle\" x=\"314.5\" y=\"-438.8\" font-family=\"Helvetica,sans-Serif\" font-size=\"14.00\">mse = 10954.472</text>\r\n",
       "<text text-anchor=\"middle\" x=\"314.5\" y=\"-423.8\" font-family=\"Helvetica,sans-Serif\" font-size=\"14.00\">samples = 12</text>\r\n",
       "<text text-anchor=\"middle\" x=\"314.5\" y=\"-408.8\" font-family=\"Helvetica,sans-Serif\" font-size=\"14.00\">value = 608.167</text>\r\n",
       "</g>\r\n",
       "<!-- 1 -->\r\n",
       "<g id=\"node2\" class=\"node\"><title>1</title>\r\n",
       "<path fill=\"#f8dfcd\" stroke=\"black\" d=\"M316,-365C316,-365 149,-365 149,-365 143,-365 137,-359 137,-353 137,-353 137,-309 137,-309 137,-303 143,-297 149,-297 149,-297 316,-297 316,-297 322,-297 328,-303 328,-309 328,-309 328,-353 328,-353 328,-359 322,-365 316,-365\"/>\r\n",
       "<text text-anchor=\"middle\" x=\"232.5\" y=\"-349.8\" font-family=\"Helvetica,sans-Serif\" font-size=\"14.00\">average_income &lt;= 4797.5</text>\r\n",
       "<text text-anchor=\"middle\" x=\"232.5\" y=\"-334.8\" font-family=\"Helvetica,sans-Serif\" font-size=\"14.00\">mse = 5408.512</text>\r\n",
       "<text text-anchor=\"middle\" x=\"232.5\" y=\"-319.8\" font-family=\"Helvetica,sans-Serif\" font-size=\"14.00\">samples = 11</text>\r\n",
       "<text text-anchor=\"middle\" x=\"232.5\" y=\"-304.8\" font-family=\"Helvetica,sans-Serif\" font-size=\"14.00\">value = 584.818</text>\r\n",
       "</g>\r\n",
       "<!-- 0&#45;&gt;1 -->\r\n",
       "<g id=\"edge1\" class=\"edge\"><title>0&#45;&gt;1</title>\r\n",
       "<path fill=\"none\" stroke=\"black\" d=\"M287.877,-400.884C280.788,-392.065 273.042,-382.43 265.65,-373.235\"/>\r\n",
       "<polygon fill=\"black\" stroke=\"black\" points=\"268.264,-370.9 259.27,-365.299 262.808,-375.286 268.264,-370.9\"/>\r\n",
       "<text text-anchor=\"middle\" x=\"256.569\" y=\"-386.453\" font-family=\"Helvetica,sans-Serif\" font-size=\"14.00\">True</text>\r\n",
       "</g>\r\n",
       "<!-- 2 -->\r\n",
       "<g id=\"node9\" class=\"node\"><title>2</title>\r\n",
       "<path fill=\"#e58139\" stroke=\"black\" d=\"M436.5,-357.5C436.5,-357.5 358.5,-357.5 358.5,-357.5 352.5,-357.5 346.5,-351.5 346.5,-345.5 346.5,-345.5 346.5,-316.5 346.5,-316.5 346.5,-310.5 352.5,-304.5 358.5,-304.5 358.5,-304.5 436.5,-304.5 436.5,-304.5 442.5,-304.5 448.5,-310.5 448.5,-316.5 448.5,-316.5 448.5,-345.5 448.5,-345.5 448.5,-351.5 442.5,-357.5 436.5,-357.5\"/>\r\n",
       "<text text-anchor=\"middle\" x=\"397.5\" y=\"-342.3\" font-family=\"Helvetica,sans-Serif\" font-size=\"14.00\">mse = 0.0</text>\r\n",
       "<text text-anchor=\"middle\" x=\"397.5\" y=\"-327.3\" font-family=\"Helvetica,sans-Serif\" font-size=\"14.00\">samples = 1</text>\r\n",
       "<text text-anchor=\"middle\" x=\"397.5\" y=\"-312.3\" font-family=\"Helvetica,sans-Serif\" font-size=\"14.00\">value = 865.0</text>\r\n",
       "</g>\r\n",
       "<!-- 0&#45;&gt;2 -->\r\n",
       "<g id=\"edge8\" class=\"edge\"><title>0&#45;&gt;2</title>\r\n",
       "<path fill=\"none\" stroke=\"black\" d=\"M341.448,-400.884C350.665,-389.556 360.98,-376.88 370.223,-365.521\"/>\r\n",
       "<polygon fill=\"black\" stroke=\"black\" points=\"373.137,-367.486 376.734,-357.52 367.707,-363.067 373.137,-367.486\"/>\r\n",
       "<text text-anchor=\"middle\" x=\"379.288\" y=\"-378.689\" font-family=\"Helvetica,sans-Serif\" font-size=\"14.00\">False</text>\r\n",
       "</g>\r\n",
       "<!-- 3 -->\r\n",
       "<g id=\"node3\" class=\"node\"><title>3</title>\r\n",
       "<path fill=\"#f7d8c2\" stroke=\"black\" d=\"M249,-261C249,-261 12,-261 12,-261 6,-261 0,-255 0,-249 0,-249 0,-205 0,-205 0,-199 6,-193 12,-193 12,-193 249,-193 249,-193 255,-193 261,-199 261,-205 261,-205 261,-249 261,-249 261,-255 255,-261 249,-261\"/>\r\n",
       "<text text-anchor=\"middle\" x=\"130.5\" y=\"-245.8\" font-family=\"Helvetica,sans-Serif\" font-size=\"14.00\">population_driver_licence(%) &lt;= 0.529</text>\r\n",
       "<text text-anchor=\"middle\" x=\"130.5\" y=\"-230.8\" font-family=\"Helvetica,sans-Serif\" font-size=\"14.00\">mse = 3944.84</text>\r\n",
       "<text text-anchor=\"middle\" x=\"130.5\" y=\"-215.8\" font-family=\"Helvetica,sans-Serif\" font-size=\"14.00\">samples = 9</text>\r\n",
       "<text text-anchor=\"middle\" x=\"130.5\" y=\"-200.8\" font-family=\"Helvetica,sans-Serif\" font-size=\"14.00\">value = 605.778</text>\r\n",
       "</g>\r\n",
       "<!-- 1&#45;&gt;3 -->\r\n",
       "<g id=\"edge2\" class=\"edge\"><title>1&#45;&gt;3</title>\r\n",
       "<path fill=\"none\" stroke=\"black\" d=\"M199.384,-296.884C190.298,-287.798 180.345,-277.845 170.9,-268.4\"/>\r\n",
       "<polygon fill=\"black\" stroke=\"black\" points=\"173.345,-265.896 163.799,-261.299 168.396,-270.845 173.345,-265.896\"/>\r\n",
       "</g>\r\n",
       "<!-- 4 -->\r\n",
       "<g id=\"node8\" class=\"node\"><title>4</title>\r\n",
       "<path fill=\"#ffffff\" stroke=\"black\" d=\"M380,-253.5C380,-253.5 291,-253.5 291,-253.5 285,-253.5 279,-247.5 279,-241.5 279,-241.5 279,-212.5 279,-212.5 279,-206.5 285,-200.5 291,-200.5 291,-200.5 380,-200.5 380,-200.5 386,-200.5 392,-206.5 392,-212.5 392,-212.5 392,-241.5 392,-241.5 392,-247.5 386,-253.5 380,-253.5\"/>\r\n",
       "<text text-anchor=\"middle\" x=\"335.5\" y=\"-238.3\" font-family=\"Helvetica,sans-Serif\" font-size=\"14.00\">mse = 1122.25</text>\r\n",
       "<text text-anchor=\"middle\" x=\"335.5\" y=\"-223.3\" font-family=\"Helvetica,sans-Serif\" font-size=\"14.00\">samples = 2</text>\r\n",
       "<text text-anchor=\"middle\" x=\"335.5\" y=\"-208.3\" font-family=\"Helvetica,sans-Serif\" font-size=\"14.00\">value = 490.5</text>\r\n",
       "</g>\r\n",
       "<!-- 1&#45;&gt;4 -->\r\n",
       "<g id=\"edge7\" class=\"edge\"><title>1&#45;&gt;4</title>\r\n",
       "<path fill=\"none\" stroke=\"black\" d=\"M265.941,-296.884C277.602,-285.336 290.677,-272.387 302.317,-260.86\"/>\r\n",
       "<polygon fill=\"black\" stroke=\"black\" points=\"305.087,-263.043 309.73,-253.52 300.162,-258.07 305.087,-263.043\"/>\r\n",
       "</g>\r\n",
       "<!-- 5 -->\r\n",
       "<g id=\"node4\" class=\"node\"><title>5</title>\r\n",
       "<path fill=\"#fae7d9\" stroke=\"black\" d=\"M105,-149.5C105,-149.5 24,-149.5 24,-149.5 18,-149.5 12,-143.5 12,-137.5 12,-137.5 12,-108.5 12,-108.5 12,-102.5 18,-96.5 24,-96.5 24,-96.5 105,-96.5 105,-96.5 111,-96.5 117,-102.5 117,-108.5 117,-108.5 117,-137.5 117,-137.5 117,-143.5 111,-149.5 105,-149.5\"/>\r\n",
       "<text text-anchor=\"middle\" x=\"64.5\" y=\"-134.3\" font-family=\"Helvetica,sans-Serif\" font-size=\"14.00\">mse = 442.25</text>\r\n",
       "<text text-anchor=\"middle\" x=\"64.5\" y=\"-119.3\" font-family=\"Helvetica,sans-Serif\" font-size=\"14.00\">samples = 4</text>\r\n",
       "<text text-anchor=\"middle\" x=\"64.5\" y=\"-104.3\" font-family=\"Helvetica,sans-Serif\" font-size=\"14.00\">value = 562.5</text>\r\n",
       "</g>\r\n",
       "<!-- 3&#45;&gt;5 -->\r\n",
       "<g id=\"edge3\" class=\"edge\"><title>3&#45;&gt;5</title>\r\n",
       "<path fill=\"none\" stroke=\"black\" d=\"M109.072,-192.884C101.884,-181.776 93.8583,-169.372 86.619,-158.184\"/>\r\n",
       "<polygon fill=\"black\" stroke=\"black\" points=\"89.384,-156.014 81.0129,-149.52 83.507,-159.817 89.384,-156.014\"/>\r\n",
       "</g>\r\n",
       "<!-- 6 -->\r\n",
       "<g id=\"node5\" class=\"node\"><title>6</title>\r\n",
       "<path fill=\"#f5cdb0\" stroke=\"black\" d=\"M246,-157C246,-157 147,-157 147,-157 141,-157 135,-151 135,-145 135,-145 135,-101 135,-101 135,-95 141,-89 147,-89 147,-89 246,-89 246,-89 252,-89 258,-95 258,-101 258,-101 258,-145 258,-145 258,-151 252,-157 246,-157\"/>\r\n",
       "<text text-anchor=\"middle\" x=\"196.5\" y=\"-141.8\" font-family=\"Helvetica,sans-Serif\" font-size=\"14.00\">petrol_tax &lt;= 7.5</text>\r\n",
       "<text text-anchor=\"middle\" x=\"196.5\" y=\"-126.8\" font-family=\"Helvetica,sans-Serif\" font-size=\"14.00\">mse = 4049.84</text>\r\n",
       "<text text-anchor=\"middle\" x=\"196.5\" y=\"-111.8\" font-family=\"Helvetica,sans-Serif\" font-size=\"14.00\">samples = 5</text>\r\n",
       "<text text-anchor=\"middle\" x=\"196.5\" y=\"-96.8\" font-family=\"Helvetica,sans-Serif\" font-size=\"14.00\">value = 640.4</text>\r\n",
       "</g>\r\n",
       "<!-- 3&#45;&gt;6 -->\r\n",
       "<g id=\"edge4\" class=\"edge\"><title>3&#45;&gt;6</title>\r\n",
       "<path fill=\"none\" stroke=\"black\" d=\"M151.928,-192.884C157.519,-184.243 163.617,-174.819 169.458,-165.793\"/>\r\n",
       "<polygon fill=\"black\" stroke=\"black\" points=\"172.459,-167.596 174.953,-157.299 166.582,-163.794 172.459,-167.596\"/>\r\n",
       "</g>\r\n",
       "<!-- 7 -->\r\n",
       "<g id=\"node6\" class=\"node\"><title>7</title>\r\n",
       "<path fill=\"#f1bc96\" stroke=\"black\" d=\"M178,-53C178,-53 89,-53 89,-53 83,-53 77,-47 77,-41 77,-41 77,-12 77,-12 77,-6 83,-0 89,-0 89,-0 178,-0 178,-0 184,-0 190,-6 190,-12 190,-12 190,-41 190,-41 190,-47 184,-53 178,-53\"/>\r\n",
       "<text text-anchor=\"middle\" x=\"133.5\" y=\"-37.8\" font-family=\"Helvetica,sans-Serif\" font-size=\"14.00\">mse = 816.667</text>\r\n",
       "<text text-anchor=\"middle\" x=\"133.5\" y=\"-22.8\" font-family=\"Helvetica,sans-Serif\" font-size=\"14.00\">samples = 3</text>\r\n",
       "<text text-anchor=\"middle\" x=\"133.5\" y=\"-7.8\" font-family=\"Helvetica,sans-Serif\" font-size=\"14.00\">value = 689.0</text>\r\n",
       "</g>\r\n",
       "<!-- 6&#45;&gt;7 -->\r\n",
       "<g id=\"edge5\" class=\"edge\"><title>6&#45;&gt;7</title>\r\n",
       "<path fill=\"none\" stroke=\"black\" d=\"M174.466,-88.9485C168.611,-80.1664 162.275,-70.6629 156.377,-61.815\"/>\r\n",
       "<polygon fill=\"black\" stroke=\"black\" points=\"159.117,-59.6158 150.658,-53.2367 153.293,-63.4987 159.117,-59.6158\"/>\r\n",
       "</g>\r\n",
       "<!-- 8 -->\r\n",
       "<g id=\"node7\" class=\"node\"><title>8</title>\r\n",
       "<path fill=\"#fae5d6\" stroke=\"black\" d=\"M298.5,-53C298.5,-53 220.5,-53 220.5,-53 214.5,-53 208.5,-47 208.5,-41 208.5,-41 208.5,-12 208.5,-12 208.5,-6 214.5,-0 220.5,-0 220.5,-0 298.5,-0 298.5,-0 304.5,-0 310.5,-6 310.5,-12 310.5,-12 310.5,-41 310.5,-41 310.5,-47 304.5,-53 298.5,-53\"/>\r\n",
       "<text text-anchor=\"middle\" x=\"259.5\" y=\"-37.8\" font-family=\"Helvetica,sans-Serif\" font-size=\"14.00\">mse = 42.25</text>\r\n",
       "<text text-anchor=\"middle\" x=\"259.5\" y=\"-22.8\" font-family=\"Helvetica,sans-Serif\" font-size=\"14.00\">samples = 2</text>\r\n",
       "<text text-anchor=\"middle\" x=\"259.5\" y=\"-7.8\" font-family=\"Helvetica,sans-Serif\" font-size=\"14.00\">value = 567.5</text>\r\n",
       "</g>\r\n",
       "<!-- 6&#45;&gt;8 -->\r\n",
       "<g id=\"edge6\" class=\"edge\"><title>6&#45;&gt;8</title>\r\n",
       "<path fill=\"none\" stroke=\"black\" d=\"M218.534,-88.9485C224.389,-80.1664 230.725,-70.6629 236.623,-61.815\"/>\r\n",
       "<polygon fill=\"black\" stroke=\"black\" points=\"239.707,-63.4987 242.342,-53.2367 233.883,-59.6158 239.707,-63.4987\"/>\r\n",
       "</g>\r\n",
       "</g>\r\n",
       "</svg>\r\n"
      ],
      "text/plain": [
       "<graphviz.files.Source at 0x27a70399288>"
      ]
     },
     "execution_count": 58,
     "metadata": {},
     "output_type": "execute_result"
    }
   ],
   "source": [
    "# Draw Decision tree diagram \n",
    "import graphviz\n",
    "graphviz.Source(dot_data)  "
   ]
  },
  {
   "cell_type": "markdown",
   "metadata": {},
   "source": [
    "## Final predictions about the gas consumption from the best fit decision tree: -"
   ]
  },
  {
   "cell_type": "markdown",
   "metadata": {},
   "source": [
    "- States with Driver license proportion > 70% have avg. predicted petrol consumption of 865 millions of gallon\n",
    "- States with Driver license proportion < 70% and avg. income < 4k USD and petrol_tax< 7.5 cents per gallon have avg. predicted petrol consumption of 689 millions of gallon \n",
    "- States with Driver license proportion < 50% and avg. income < 4k USD and petrol_tax> 7.5 cents per gallon have avg. predicted petrol consumption of 640 millions of gallon "
   ]
  },
  {
   "cell_type": "code",
   "execution_count": 59,
   "metadata": {
    "ExecuteTime": {
     "end_time": "2020-07-05T19:11:22.134577Z",
     "start_time": "2020-07-05T19:11:22.116624Z"
    },
    "hidden": true
   },
   "outputs": [
    {
     "data": {
      "text/plain": [
       "<bound method BaseEstimator.get_params of DecisionTreeRegressor(max_depth=6, max_leaf_nodes=10, min_samples_split=5,\n",
       "                      random_state=5678)>"
      ]
     },
     "execution_count": 59,
     "metadata": {},
     "output_type": "execute_result"
    }
   ],
   "source": [
    "tree3.get_params"
   ]
  },
  {
   "cell_type": "code",
   "execution_count": 60,
   "metadata": {
    "ExecuteTime": {
     "end_time": "2020-07-05T19:11:22.147544Z",
     "start_time": "2020-07-05T19:11:22.139572Z"
    },
    "hidden": true
   },
   "outputs": [
    {
     "name": "stdout",
     "output_type": "stream",
     "text": [
      "[0.14182463 0.17409603 0.         0.68407934]\n"
     ]
    }
   ],
   "source": [
    "print(tree3.feature_importances_)"
   ]
  },
  {
   "cell_type": "code",
   "execution_count": 61,
   "metadata": {
    "ExecuteTime": {
     "end_time": "2020-07-05T19:11:22.182449Z",
     "start_time": "2020-07-05T19:11:22.171480Z"
    },
    "hidden": true
   },
   "outputs": [
    {
     "name": "stdout",
     "output_type": "stream",
     "text": [
      "Mean squared error: 545.67\n"
     ]
    }
   ],
   "source": [
    "from sklearn.metrics import mean_squared_error, r2_score\n",
    "\n",
    "# The mean squared error (MSE)\n",
    "print(\"Mean squared error: %.2f\"% mean_squared_error(y_test, predictions))"
   ]
  },
  {
   "cell_type": "code",
   "execution_count": 62,
   "metadata": {
    "ExecuteTime": {
     "end_time": "2020-07-05T19:11:22.203393Z",
     "start_time": "2020-07-05T19:11:22.190433Z"
    },
    "hidden": true,
    "scrolled": true
   },
   "outputs": [
    {
     "name": "stdout",
     "output_type": "stream",
     "text": [
      "Test Variance score: 0.95\n"
     ]
    }
   ],
   "source": [
    "# Explained variance score (R-Square): 1 is perfect prediction  \n",
    "print('Test Variance score: %.2f' % r2_score(y_test, predictions))"
   ]
  },
  {
   "cell_type": "markdown",
   "metadata": {
    "heading_collapsed": true
   },
   "source": [
    "## Question-2 (Prediction of fake or authentic bank note)"
   ]
  },
  {
   "attachments": {
    "2.gif": {
     "image/gif": "[encoded data removed]"
    }
   },
   "cell_type": "markdown",
   "metadata": {},
   "source": [
    "![2.gif](attachment:2.gif)"
   ]
  },
  {
   "cell_type": "code",
   "execution_count": 63,
   "metadata": {
    "ExecuteTime": {
     "end_time": "2020-07-05T19:11:22.226331Z",
     "start_time": "2020-07-05T19:11:22.207382Z"
    },
    "hidden": true
   },
   "outputs": [],
   "source": [
    "# Pull data for bill authentication (Each record contains info about each note)\n",
    "data1=pd.read_csv(\"bill_authentication.csv\",na_values=[\"\",\" \",\"NA\",\"N/A\"])"
   ]
  },
  {
   "cell_type": "code",
   "execution_count": 64,
   "metadata": {
    "ExecuteTime": {
     "end_time": "2020-07-05T19:11:22.243288Z",
     "start_time": "2020-07-05T19:11:22.232316Z"
    },
    "hidden": true
   },
   "outputs": [
    {
     "name": "stdout",
     "output_type": "stream",
     "text": [
      "['variance', 'skewness', 'curtosis', 'entropy', 'class']\n"
     ]
    }
   ],
   "source": [
    "# lower the case of column names \n",
    "data1.columns = map(str.lower, data1.columns)  \n",
    "print(list(data1.columns))"
   ]
  },
  {
   "cell_type": "code",
   "execution_count": 65,
   "metadata": {
    "ExecuteTime": {
     "end_time": "2020-07-05T19:11:22.283180Z",
     "start_time": "2020-07-05T19:11:22.249275Z"
    },
    "hidden": true,
    "scrolled": true
   },
   "outputs": [
    {
     "data": {
      "text/html": [
       "<div>\n",
       "<style scoped>\n",
       "    .dataframe tbody tr th:only-of-type {\n",
       "        vertical-align: middle;\n",
       "    }\n",
       "\n",
       "    .dataframe tbody tr th {\n",
       "        vertical-align: top;\n",
       "    }\n",
       "\n",
       "    .dataframe thead th {\n",
       "        text-align: right;\n",
       "    }\n",
       "</style>\n",
       "<table border=\"1\" class=\"dataframe\">\n",
       "  <thead>\n",
       "    <tr style=\"text-align: right;\">\n",
       "      <th></th>\n",
       "      <th>variance</th>\n",
       "      <th>skewness</th>\n",
       "      <th>curtosis</th>\n",
       "      <th>entropy</th>\n",
       "      <th>class</th>\n",
       "    </tr>\n",
       "  </thead>\n",
       "  <tbody>\n",
       "    <tr>\n",
       "      <th>0</th>\n",
       "      <td>3.62160</td>\n",
       "      <td>8.6661</td>\n",
       "      <td>-2.8073</td>\n",
       "      <td>-0.44699</td>\n",
       "      <td>0</td>\n",
       "    </tr>\n",
       "    <tr>\n",
       "      <th>1</th>\n",
       "      <td>4.54590</td>\n",
       "      <td>8.1674</td>\n",
       "      <td>-2.4586</td>\n",
       "      <td>-1.46210</td>\n",
       "      <td>0</td>\n",
       "    </tr>\n",
       "    <tr>\n",
       "      <th>2</th>\n",
       "      <td>3.86600</td>\n",
       "      <td>-2.6383</td>\n",
       "      <td>1.9242</td>\n",
       "      <td>0.10645</td>\n",
       "      <td>0</td>\n",
       "    </tr>\n",
       "    <tr>\n",
       "      <th>3</th>\n",
       "      <td>3.45660</td>\n",
       "      <td>9.5228</td>\n",
       "      <td>-4.0112</td>\n",
       "      <td>-3.59440</td>\n",
       "      <td>0</td>\n",
       "    </tr>\n",
       "    <tr>\n",
       "      <th>4</th>\n",
       "      <td>0.32924</td>\n",
       "      <td>-4.4552</td>\n",
       "      <td>4.5718</td>\n",
       "      <td>-0.98880</td>\n",
       "      <td>0</td>\n",
       "    </tr>\n",
       "  </tbody>\n",
       "</table>\n",
       "</div>"
      ],
      "text/plain": [
       "   variance  skewness  curtosis  entropy  class\n",
       "0   3.62160    8.6661   -2.8073 -0.44699      0\n",
       "1   4.54590    8.1674   -2.4586 -1.46210      0\n",
       "2   3.86600   -2.6383    1.9242  0.10645      0\n",
       "3   3.45660    9.5228   -4.0112 -3.59440      0\n",
       "4   0.32924   -4.4552    4.5718 -0.98880      0"
      ]
     },
     "execution_count": 65,
     "metadata": {},
     "output_type": "execute_result"
    }
   ],
   "source": [
    "data1.head()    "
   ]
  },
  {
   "cell_type": "markdown",
   "metadata": {
    "ExecuteTime": {
     "end_time": "2020-07-05T19:11:22.294154Z",
     "start_time": "2020-07-05T19:11:22.289164Z"
    },
    "hidden": true
   },
   "source": [
    "### Data Dictionary:-\n",
    "\n",
    "Data were extracted from images that were taken from genuine and forged banknote-like specimens. For digitization, an industrial camera usually used for print inspection was used. The final images have 400x 400 pixels. Due to the object lens and distance to the investigated object gray-scale pictures with a resolution of about 660 dpi were gained. Wavelet Transform tool were used to extract features from images.\n",
    "- Attribute Information:\n",
    " 1. variance of Wavelet Transformed image (continuous)\n",
    " 2. skewness of Wavelet Transformed image (continuous)\n",
    " 3. curtosis of Wavelet Transformed image (continuous)\n",
    " 4. entropy of image (continuous)\n",
    " 5. class (integer)"
   ]
  },
  {
   "cell_type": "code",
   "execution_count": 66,
   "metadata": {
    "ExecuteTime": {
     "end_time": "2020-07-05T19:11:22.326071Z",
     "start_time": "2020-07-05T19:11:22.311107Z"
    },
    "hidden": true
   },
   "outputs": [
    {
     "data": {
      "text/plain": [
       "(1372, 5)"
      ]
     },
     "execution_count": 66,
     "metadata": {},
     "output_type": "execute_result"
    }
   ],
   "source": [
    "data1.shape"
   ]
  },
  {
   "cell_type": "code",
   "execution_count": 67,
   "metadata": {
    "ExecuteTime": {
     "end_time": "2020-07-05T19:11:22.347011Z",
     "start_time": "2020-07-05T19:11:22.333048Z"
    },
    "hidden": true
   },
   "outputs": [
    {
     "data": {
      "text/plain": [
       "['variance', 'skewness', 'curtosis', 'entropy', 'class']"
      ]
     },
     "execution_count": 67,
     "metadata": {},
     "output_type": "execute_result"
    }
   ],
   "source": [
    "list(data1.columns) ## Weekday data (04Jan2010-29Oct2013) ~ 4 yrs   "
   ]
  },
  {
   "cell_type": "code",
   "execution_count": 68,
   "metadata": {
    "ExecuteTime": {
     "end_time": "2020-07-05T19:11:22.363965Z",
     "start_time": "2020-07-05T19:11:22.351000Z"
    },
    "hidden": true
   },
   "outputs": [
    {
     "data": {
      "text/plain": [
       "variance    float64\n",
       "skewness    float64\n",
       "curtosis    float64\n",
       "entropy     float64\n",
       "class         int64\n",
       "dtype: object"
      ]
     },
     "execution_count": 68,
     "metadata": {},
     "output_type": "execute_result"
    }
   ],
   "source": [
    "### \n",
    "data1.dtypes  "
   ]
  },
  {
   "cell_type": "code",
   "execution_count": 69,
   "metadata": {
    "ExecuteTime": {
     "end_time": "2020-07-05T19:11:22.387901Z",
     "start_time": "2020-07-05T19:11:22.368951Z"
    },
    "hidden": true
   },
   "outputs": [
    {
     "data": {
      "text/plain": [
       "0    762\n",
       "1    610\n",
       "Name: class, dtype: int64"
      ]
     },
     "execution_count": 69,
     "metadata": {},
     "output_type": "execute_result"
    }
   ],
   "source": [
    "data1['class'].value_counts()"
   ]
  },
  {
   "cell_type": "code",
   "execution_count": 70,
   "metadata": {
    "ExecuteTime": {
     "end_time": "2020-07-05T19:11:22.425800Z",
     "start_time": "2020-07-05T19:11:22.390891Z"
    },
    "hidden": true
   },
   "outputs": [
    {
     "data": {
      "text/plain": [
       "0    0.555394\n",
       "1    0.444606\n",
       "Name: class, dtype: float64"
      ]
     },
     "execution_count": 70,
     "metadata": {},
     "output_type": "execute_result"
    }
   ],
   "source": [
    "data1['class'].value_counts(normalize=True)"
   ]
  },
  {
   "cell_type": "code",
   "execution_count": 71,
   "metadata": {
    "ExecuteTime": {
     "end_time": "2020-07-05T19:11:22.446742Z",
     "start_time": "2020-07-05T19:11:22.431782Z"
    },
    "hidden": true
   },
   "outputs": [
    {
     "name": "stdout",
     "output_type": "stream",
     "text": [
      "0\n"
     ]
    }
   ],
   "source": [
    "### \n",
    "print(data1.isnull().sum().sum())  "
   ]
  },
  {
   "cell_type": "code",
   "execution_count": 72,
   "metadata": {
    "ExecuteTime": {
     "end_time": "2020-07-05T19:11:22.478659Z",
     "start_time": "2020-07-05T19:11:22.453727Z"
    },
    "hidden": true
   },
   "outputs": [
    {
     "data": {
      "text/plain": [
       "(1372, 5)"
      ]
     },
     "execution_count": 72,
     "metadata": {},
     "output_type": "execute_result"
    }
   ],
   "source": [
    "# Make a copy of original data\n",
    "data1c=data1.copy()\n",
    "data1c.shape"
   ]
  },
  {
   "cell_type": "code",
   "execution_count": 73,
   "metadata": {
    "ExecuteTime": {
     "end_time": "2020-07-05T19:11:22.501599Z",
     "start_time": "2020-07-05T19:11:22.484642Z"
    },
    "hidden": true
   },
   "outputs": [],
   "source": [
    "# Split the data into train and test sets.\n",
    "from sklearn.model_selection import train_test_split"
   ]
  },
  {
   "cell_type": "code",
   "execution_count": 74,
   "metadata": {
    "ExecuteTime": {
     "end_time": "2020-07-05T19:11:22.541011Z",
     "start_time": "2020-07-05T19:11:22.511571Z"
    },
    "hidden": true
   },
   "outputs": [],
   "source": [
    "# Code for splitting the data into train and test splits \n",
    "import sklearn.model_selection as model_selection\n",
    "\n",
    "X = data1c[['variance', 'skewness', 'curtosis', 'entropy']]\n",
    "y = data1c['class']\n",
    "\n",
    "X_train,X_test,y_train,y_test=model_selection.train_test_split(X,y,test_size=0.25,random_state=200)"
   ]
  },
  {
   "cell_type": "markdown",
   "metadata": {
    "hidden": true
   },
   "source": [
    "#### 1. Fit the Final Decision tree model to predict whether a bank note is fake or real"
   ]
  },
  {
   "cell_type": "code",
   "execution_count": 75,
   "metadata": {
    "ExecuteTime": {
     "end_time": "2020-07-05T19:11:22.552978Z",
     "start_time": "2020-07-05T19:11:22.544998Z"
    },
    "hidden": true
   },
   "outputs": [],
   "source": [
    "# Import Decision Tree Classifier and fit the model to the training data.\n",
    "from sklearn.tree import DecisionTreeClassifier"
   ]
  },
  {
   "cell_type": "code",
   "execution_count": 76,
   "metadata": {
    "ExecuteTime": {
     "end_time": "2020-07-05T19:11:22.564949Z",
     "start_time": "2020-07-05T19:11:22.557964Z"
    },
    "hidden": true
   },
   "outputs": [],
   "source": [
    "# Make the tree with the required depth\n",
    "tree4 = DecisionTreeClassifier(max_depth=3)"
   ]
  },
  {
   "cell_type": "code",
   "execution_count": 77,
   "metadata": {
    "ExecuteTime": {
     "end_time": "2020-07-05T19:11:22.579429Z",
     "start_time": "2020-07-05T19:11:22.571450Z"
    },
    "hidden": true
   },
   "outputs": [],
   "source": [
    "import numpy as np\n",
    "from sklearn import metrics, svm\n",
    "from sklearn.linear_model import LogisticRegression\n",
    "from sklearn import preprocessing\n",
    "from sklearn import utils"
   ]
  },
  {
   "cell_type": "code",
   "execution_count": 78,
   "metadata": {
    "ExecuteTime": {
     "end_time": "2020-07-05T19:11:22.607357Z",
     "start_time": "2020-07-05T19:11:22.587410Z"
    },
    "hidden": true,
    "scrolled": false
   },
   "outputs": [
    {
     "data": {
      "text/plain": [
       "DecisionTreeClassifier(max_depth=3)"
      ]
     },
     "execution_count": 78,
     "metadata": {},
     "output_type": "execute_result"
    }
   ],
   "source": [
    "# fit \n",
    "tree4.fit(X_train, y_train)"
   ]
  },
  {
   "cell_type": "code",
   "execution_count": 79,
   "metadata": {
    "ExecuteTime": {
     "end_time": "2020-07-05T19:11:22.625306Z",
     "start_time": "2020-07-05T19:11:22.612342Z"
    },
    "hidden": true
   },
   "outputs": [],
   "source": [
    "# Check the top 5 predictions and actual values.\n",
    "predictions = tree4.predict(X_test)"
   ]
  },
  {
   "cell_type": "code",
   "execution_count": 80,
   "metadata": {
    "ExecuteTime": {
     "end_time": "2020-07-05T19:11:22.654230Z",
     "start_time": "2020-07-05T19:11:22.630293Z"
    },
    "hidden": true
   },
   "outputs": [
    {
     "data": {
      "text/plain": [
       "array([0, 1, 1, 0, 0], dtype=int64)"
      ]
     },
     "execution_count": 80,
     "metadata": {},
     "output_type": "execute_result"
    }
   ],
   "source": [
    "predictions[:5]"
   ]
  },
  {
   "cell_type": "code",
   "execution_count": 81,
   "metadata": {
    "ExecuteTime": {
     "end_time": "2020-07-05T19:11:22.678177Z",
     "start_time": "2020-07-05T19:11:22.658219Z"
    },
    "hidden": true
   },
   "outputs": [
    {
     "data": {
      "text/plain": [
       "96      0\n",
       "983     1\n",
       "956     1\n",
       "577     0\n",
       "1352    1\n",
       "Name: class, dtype: int64"
      ]
     },
     "execution_count": 81,
     "metadata": {},
     "output_type": "execute_result"
    }
   ],
   "source": [
    "y_test[:5]"
   ]
  },
  {
   "cell_type": "markdown",
   "metadata": {
    "hidden": true
   },
   "source": [
    "### Model Evaluation metrics for Decision Tree Classifier model "
   ]
  },
  {
   "cell_type": "code",
   "execution_count": 83,
   "metadata": {
    "ExecuteTime": {
     "end_time": "2020-07-05T19:11:22.690133Z",
     "start_time": "2020-07-05T19:11:22.683152Z"
    },
    "hidden": true
   },
   "outputs": [],
   "source": [
    "# We see that the predictions are pretty accurate. Let's evaluate the prediction accuracy.\n",
    "from sklearn.metrics import accuracy_score, confusion_matrix"
   ]
  },
  {
   "cell_type": "code",
   "execution_count": 84,
   "metadata": {
    "ExecuteTime": {
     "end_time": "2020-07-05T19:11:22.713072Z",
     "start_time": "2020-07-05T19:11:22.695120Z"
    },
    "hidden": true
   },
   "outputs": [
    {
     "data": {
      "text/plain": [
       "0.9446064139941691"
      ]
     },
     "execution_count": 84,
     "metadata": {},
     "output_type": "execute_result"
    }
   ],
   "source": [
    "# To check the accuracy score of the model\n",
    "accuracy_score(y_test, predictions)"
   ]
  },
  {
   "cell_type": "code",
   "execution_count": 85,
   "metadata": {
    "ExecuteTime": {
     "end_time": "2020-07-05T19:11:22.730034Z",
     "start_time": "2020-07-05T19:11:22.716064Z"
    },
    "hidden": true
   },
   "outputs": [
    {
     "data": {
      "text/plain": [
       "324"
      ]
     },
     "execution_count": 85,
     "metadata": {},
     "output_type": "execute_result"
    }
   ],
   "source": [
    "# To check correct predictions\n",
    "accuracy_score(y_test, predictions, normalize=False)"
   ]
  },
  {
   "cell_type": "code",
   "execution_count": 86,
   "metadata": {
    "ExecuteTime": {
     "end_time": "2020-07-05T19:11:22.747979Z",
     "start_time": "2020-07-05T19:11:22.733018Z"
    },
    "hidden": true
   },
   "outputs": [],
   "source": [
    "confusion_mat = confusion_matrix(y_test, predictions) # actual vs predicted\n",
    "confusion_df = pd.DataFrame(confusion_mat, index=['Actual neg','Actual pos'],\\\n",
    "                            columns=['Predicted neg','Predicted pos'])"
   ]
  },
  {
   "cell_type": "code",
   "execution_count": 87,
   "metadata": {
    "ExecuteTime": {
     "end_time": "2020-07-05T19:11:22.777903Z",
     "start_time": "2020-07-05T19:11:22.753964Z"
    },
    "hidden": true
   },
   "outputs": [
    {
     "data": {
      "text/html": [
       "<div>\n",
       "<style scoped>\n",
       "    .dataframe tbody tr th:only-of-type {\n",
       "        vertical-align: middle;\n",
       "    }\n",
       "\n",
       "    .dataframe tbody tr th {\n",
       "        vertical-align: top;\n",
       "    }\n",
       "\n",
       "    .dataframe thead th {\n",
       "        text-align: right;\n",
       "    }\n",
       "</style>\n",
       "<table border=\"1\" class=\"dataframe\">\n",
       "  <thead>\n",
       "    <tr style=\"text-align: right;\">\n",
       "      <th></th>\n",
       "      <th>Predicted neg</th>\n",
       "      <th>Predicted pos</th>\n",
       "    </tr>\n",
       "  </thead>\n",
       "  <tbody>\n",
       "    <tr>\n",
       "      <th>Actual neg</th>\n",
       "      <td>185</td>\n",
       "      <td>10</td>\n",
       "    </tr>\n",
       "    <tr>\n",
       "      <th>Actual pos</th>\n",
       "      <td>9</td>\n",
       "      <td>139</td>\n",
       "    </tr>\n",
       "  </tbody>\n",
       "</table>\n",
       "</div>"
      ],
      "text/plain": [
       "            Predicted neg  Predicted pos\n",
       "Actual neg            185             10\n",
       "Actual pos              9            139"
      ]
     },
     "execution_count": 87,
     "metadata": {},
     "output_type": "execute_result"
    }
   ],
   "source": [
    "# To plot a confusion matrix\n",
    "confusion_df"
   ]
  },
  {
   "cell_type": "code",
   "execution_count": 88,
   "metadata": {
    "ExecuteTime": {
     "end_time": "2020-07-05T19:11:23.277092Z",
     "start_time": "2020-07-05T19:11:22.782885Z"
    },
    "hidden": true,
    "scrolled": true
   },
   "outputs": [
    {
     "data": {
      "image/png": "[encoded data removed]",
      "text/plain": [
       "<Figure size 432x288 with 2 Axes>"
      ]
     },
     "metadata": {
      "needs_background": "light"
     },
     "output_type": "display_data"
    }
   ],
   "source": [
    "# To make a heatmap of the confusion matrix\n",
    "cf_=sns.heatmap(confusion_df, cmap='Greens_r', annot=True,fmt='.2f')"
   ]
  },
  {
   "cell_type": "code",
   "execution_count": 89,
   "metadata": {
    "ExecuteTime": {
     "end_time": "2020-07-05T19:11:23.296550Z",
     "start_time": "2020-07-05T19:11:23.281081Z"
    },
    "hidden": true
   },
   "outputs": [
    {
     "data": {
      "text/plain": [
       "matplotlib.axes._subplots.AxesSubplot"
      ]
     },
     "execution_count": 89,
     "metadata": {},
     "output_type": "execute_result"
    }
   ],
   "source": [
    "type(cf_)"
   ]
  },
  {
   "cell_type": "code",
   "execution_count": 90,
   "metadata": {
    "ExecuteTime": {
     "end_time": "2020-07-05T19:11:23.343539Z",
     "start_time": "2020-07-05T19:11:23.304071Z"
    },
    "hidden": true
   },
   "outputs": [],
   "source": [
    "from sklearn.tree import export_graphviz\n",
    "import graphviz"
   ]
  },
  {
   "cell_type": "code",
   "execution_count": 91,
   "metadata": {
    "ExecuteTime": {
     "end_time": "2020-07-05T19:13:46.130654Z",
     "start_time": "2020-07-05T19:13:46.121679Z"
    },
    "hidden": true
   },
   "outputs": [],
   "source": [
    "y=pd.DataFrame(y)"
   ]
  },
  {
   "cell_type": "code",
   "execution_count": 92,
   "metadata": {
    "ExecuteTime": {
     "end_time": "2020-07-05T19:19:58.650283Z",
     "start_time": "2020-07-05T19:19:58.639035Z"
    },
    "hidden": true
   },
   "outputs": [],
   "source": [
    "dot_data = export_graphviz(tree4, filled=True, rounded=True, feature_names=X.columns,out_file=None,precision=2)"
   ]
  },
  {
   "cell_type": "code",
   "execution_count": 93,
   "metadata": {
    "ExecuteTime": {
     "end_time": "2020-07-05T19:20:00.664095Z",
     "start_time": "2020-07-05T19:20:00.351554Z"
    },
    "hidden": true,
    "scrolled": false
   },
   "outputs": [
    {
     "data": {
      "image/svg+xml": [
       "<?xml version=\"1.0\" encoding=\"UTF-8\" standalone=\"no\"?>\r\n",
       "<!DOCTYPE svg PUBLIC \"-//W3C//DTD SVG 1.1//EN\"\r\n",
       " \"http://www.w3.org/Graphics/SVG/1.1/DTD/svg11.dtd\">\r\n",
       "<!-- Generated by graphviz version 2.38.0 (20140413.2041)\r\n",
       " -->\r\n",
       "<!-- Title: Tree Pages: 1 -->\r\n",
       "<svg width=\"1018pt\" height=\"373pt\"\r\n",
       " viewBox=\"0.00 0.00 1017.50 373.00\" xmlns=\"http://www.w3.org/2000/svg\" xmlns:xlink=\"http://www.w3.org/1999/xlink\">\r\n",
       "<g id=\"graph0\" class=\"graph\" transform=\"scale(1 1) rotate(0) translate(4 369)\">\r\n",
       "<title>Tree</title>\r\n",
       "<polygon fill=\"white\" stroke=\"none\" points=\"-4,4 -4,-369 1013.5,-369 1013.5,4 -4,4\"/>\r\n",
       "<!-- 0 -->\r\n",
       "<g id=\"node1\" class=\"node\"><title>0</title>\r\n",
       "<path fill=\"#fae8da\" stroke=\"black\" d=\"M561,-365C561,-365 455,-365 455,-365 449,-365 443,-359 443,-353 443,-353 443,-309 443,-309 443,-303 449,-297 455,-297 455,-297 561,-297 561,-297 567,-297 573,-303 573,-309 573,-309 573,-353 573,-353 573,-359 567,-365 561,-365\"/>\r\n",
       "<text text-anchor=\"middle\" x=\"508\" y=\"-349.8\" font-family=\"Helvetica,sans-Serif\" font-size=\"14.00\">variance &lt;= 0.32</text>\r\n",
       "<text text-anchor=\"middle\" x=\"508\" y=\"-334.8\" font-family=\"Helvetica,sans-Serif\" font-size=\"14.00\">gini = 0.49</text>\r\n",
       "<text text-anchor=\"middle\" x=\"508\" y=\"-319.8\" font-family=\"Helvetica,sans-Serif\" font-size=\"14.00\">samples = 1029</text>\r\n",
       "<text text-anchor=\"middle\" x=\"508\" y=\"-304.8\" font-family=\"Helvetica,sans-Serif\" font-size=\"14.00\">value = [567, 462]</text>\r\n",
       "</g>\r\n",
       "<!-- 1 -->\r\n",
       "<g id=\"node2\" class=\"node\"><title>1</title>\r\n",
       "<path fill=\"#64b2eb\" stroke=\"black\" d=\"M469,-261C469,-261 361,-261 361,-261 355,-261 349,-255 349,-249 349,-249 349,-205 349,-205 349,-199 355,-193 361,-193 361,-193 469,-193 469,-193 475,-193 481,-199 481,-205 481,-205 481,-249 481,-249 481,-255 475,-261 469,-261\"/>\r\n",
       "<text text-anchor=\"middle\" x=\"415\" y=\"-245.8\" font-family=\"Helvetica,sans-Serif\" font-size=\"14.00\">skewness &lt;= 7.57</text>\r\n",
       "<text text-anchor=\"middle\" x=\"415\" y=\"-230.8\" font-family=\"Helvetica,sans-Serif\" font-size=\"14.00\">gini = 0.29</text>\r\n",
       "<text text-anchor=\"middle\" x=\"415\" y=\"-215.8\" font-family=\"Helvetica,sans-Serif\" font-size=\"14.00\">samples = 493</text>\r\n",
       "<text text-anchor=\"middle\" x=\"415\" y=\"-200.8\" font-family=\"Helvetica,sans-Serif\" font-size=\"14.00\">value = [88, 405]</text>\r\n",
       "</g>\r\n",
       "<!-- 0&#45;&gt;1 -->\r\n",
       "<g id=\"edge1\" class=\"edge\"><title>0&#45;&gt;1</title>\r\n",
       "<path fill=\"none\" stroke=\"black\" d=\"M477.806,-296.884C469.684,-287.976 460.803,-278.235 452.343,-268.957\"/>\r\n",
       "<polygon fill=\"black\" stroke=\"black\" points=\"454.685,-266.331 445.361,-261.299 449.512,-271.047 454.685,-266.331\"/>\r\n",
       "<text text-anchor=\"middle\" x=\"444.209\" y=\"-282.573\" font-family=\"Helvetica,sans-Serif\" font-size=\"14.00\">True</text>\r\n",
       "</g>\r\n",
       "<!-- 8 -->\r\n",
       "<g id=\"node9\" class=\"node\"><title>8</title>\r\n",
       "<path fill=\"#e89051\" stroke=\"black\" d=\"M651.5,-261C651.5,-261 552.5,-261 552.5,-261 546.5,-261 540.5,-255 540.5,-249 540.5,-249 540.5,-205 540.5,-205 540.5,-199 546.5,-193 552.5,-193 552.5,-193 651.5,-193 651.5,-193 657.5,-193 663.5,-199 663.5,-205 663.5,-205 663.5,-249 663.5,-249 663.5,-255 657.5,-261 651.5,-261\"/>\r\n",
       "<text text-anchor=\"middle\" x=\"602\" y=\"-245.8\" font-family=\"Helvetica,sans-Serif\" font-size=\"14.00\">curtosis &lt;= &#45;4.39</text>\r\n",
       "<text text-anchor=\"middle\" x=\"602\" y=\"-230.8\" font-family=\"Helvetica,sans-Serif\" font-size=\"14.00\">gini = 0.19</text>\r\n",
       "<text text-anchor=\"middle\" x=\"602\" y=\"-215.8\" font-family=\"Helvetica,sans-Serif\" font-size=\"14.00\">samples = 536</text>\r\n",
       "<text text-anchor=\"middle\" x=\"602\" y=\"-200.8\" font-family=\"Helvetica,sans-Serif\" font-size=\"14.00\">value = [479, 57]</text>\r\n",
       "</g>\r\n",
       "<!-- 0&#45;&gt;8 -->\r\n",
       "<g id=\"edge8\" class=\"edge\"><title>0&#45;&gt;8</title>\r\n",
       "<path fill=\"none\" stroke=\"black\" d=\"M538.519,-296.884C546.81,-287.887 555.884,-278.041 564.512,-268.678\"/>\r\n",
       "<polygon fill=\"black\" stroke=\"black\" points=\"567.109,-271.025 571.312,-261.299 561.962,-266.281 567.109,-271.025\"/>\r\n",
       "<text text-anchor=\"middle\" x=\"572.332\" y=\"-282.579\" font-family=\"Helvetica,sans-Serif\" font-size=\"14.00\">False</text>\r\n",
       "</g>\r\n",
       "<!-- 2 -->\r\n",
       "<g id=\"node3\" class=\"node\"><title>2</title>\r\n",
       "<path fill=\"#48a4e7\" stroke=\"black\" d=\"M248,-157C248,-157 146,-157 146,-157 140,-157 134,-151 134,-145 134,-145 134,-101 134,-101 134,-95 140,-89 146,-89 146,-89 248,-89 248,-89 254,-89 260,-95 260,-101 260,-101 260,-145 260,-145 260,-151 254,-157 248,-157\"/>\r\n",
       "<text text-anchor=\"middle\" x=\"197\" y=\"-141.8\" font-family=\"Helvetica,sans-Serif\" font-size=\"14.00\">variance &lt;= &#45;0.46</text>\r\n",
       "<text text-anchor=\"middle\" x=\"197\" y=\"-126.8\" font-family=\"Helvetica,sans-Serif\" font-size=\"14.00\">gini = 0.13</text>\r\n",
       "<text text-anchor=\"middle\" x=\"197\" y=\"-111.8\" font-family=\"Helvetica,sans-Serif\" font-size=\"14.00\">samples = 420</text>\r\n",
       "<text text-anchor=\"middle\" x=\"197\" y=\"-96.8\" font-family=\"Helvetica,sans-Serif\" font-size=\"14.00\">value = [29, 391]</text>\r\n",
       "</g>\r\n",
       "<!-- 1&#45;&gt;2 -->\r\n",
       "<g id=\"edge2\" class=\"edge\"><title>1&#45;&gt;2</title>\r\n",
       "<path fill=\"none\" stroke=\"black\" d=\"M348.705,-194.981C323.714,-183.288 295.166,-169.931 269.627,-157.981\"/>\r\n",
       "<polygon fill=\"black\" stroke=\"black\" points=\"270.907,-154.716 260.366,-153.648 267.94,-161.056 270.907,-154.716\"/>\r\n",
       "</g>\r\n",
       "<!-- 5 -->\r\n",
       "<g id=\"node6\" class=\"node\"><title>5</title>\r\n",
       "<path fill=\"#eb9f68\" stroke=\"black\" d=\"M466,-157C466,-157 364,-157 364,-157 358,-157 352,-151 352,-145 352,-145 352,-101 352,-101 352,-95 358,-89 364,-89 364,-89 466,-89 466,-89 472,-89 478,-95 478,-101 478,-101 478,-145 478,-145 478,-151 472,-157 466,-157\"/>\r\n",
       "<text text-anchor=\"middle\" x=\"415\" y=\"-141.8\" font-family=\"Helvetica,sans-Serif\" font-size=\"14.00\">variance &lt;= &#45;4.73</text>\r\n",
       "<text text-anchor=\"middle\" x=\"415\" y=\"-126.8\" font-family=\"Helvetica,sans-Serif\" font-size=\"14.00\">gini = 0.31</text>\r\n",
       "<text text-anchor=\"middle\" x=\"415\" y=\"-111.8\" font-family=\"Helvetica,sans-Serif\" font-size=\"14.00\">samples = 73</text>\r\n",
       "<text text-anchor=\"middle\" x=\"415\" y=\"-96.8\" font-family=\"Helvetica,sans-Serif\" font-size=\"14.00\">value = [59, 14]</text>\r\n",
       "</g>\r\n",
       "<!-- 1&#45;&gt;5 -->\r\n",
       "<g id=\"edge5\" class=\"edge\"><title>1&#45;&gt;5</title>\r\n",
       "<path fill=\"none\" stroke=\"black\" d=\"M415,-192.884C415,-184.778 415,-175.982 415,-167.472\"/>\r\n",
       "<polygon fill=\"black\" stroke=\"black\" points=\"418.5,-167.299 415,-157.299 411.5,-167.299 418.5,-167.299\"/>\r\n",
       "</g>\r\n",
       "<!-- 3 -->\r\n",
       "<g id=\"node4\" class=\"node\"><title>3</title>\r\n",
       "<path fill=\"#3fa0e6\" stroke=\"black\" d=\"M110,-53C110,-53 12,-53 12,-53 6,-53 7.10543e-015,-47 7.10543e-015,-41 7.10543e-015,-41 7.10543e-015,-12 7.10543e-015,-12 7.10543e-015,-6 6,-0 12,-0 12,-0 110,-0 110,-0 116,-0 122,-6 122,-12 122,-12 122,-41 122,-41 122,-47 116,-53 110,-53\"/>\r\n",
       "<text text-anchor=\"middle\" x=\"61\" y=\"-37.8\" font-family=\"Helvetica,sans-Serif\" font-size=\"14.00\">gini = 0.06</text>\r\n",
       "<text text-anchor=\"middle\" x=\"61\" y=\"-22.8\" font-family=\"Helvetica,sans-Serif\" font-size=\"14.00\">samples = 353</text>\r\n",
       "<text text-anchor=\"middle\" x=\"61\" y=\"-7.8\" font-family=\"Helvetica,sans-Serif\" font-size=\"14.00\">value = [11, 342]</text>\r\n",
       "</g>\r\n",
       "<!-- 2&#45;&gt;3 -->\r\n",
       "<g id=\"edge3\" class=\"edge\"><title>2&#45;&gt;3</title>\r\n",
       "<path fill=\"none\" stroke=\"black\" d=\"M149.434,-88.9485C135.478,-79.2516 120.257,-68.6752 106.438,-59.073\"/>\r\n",
       "<polygon fill=\"black\" stroke=\"black\" points=\"108.248,-56.0687 98.0391,-53.2367 104.254,-61.8172 108.248,-56.0687\"/>\r\n",
       "</g>\r\n",
       "<!-- 4 -->\r\n",
       "<g id=\"node5\" class=\"node\"><title>4</title>\r\n",
       "<path fill=\"#82c1ef\" stroke=\"black\" d=\"M241.5,-53C241.5,-53 152.5,-53 152.5,-53 146.5,-53 140.5,-47 140.5,-41 140.5,-41 140.5,-12 140.5,-12 140.5,-6 146.5,-0 152.5,-0 152.5,-0 241.5,-0 241.5,-0 247.5,-0 253.5,-6 253.5,-12 253.5,-12 253.5,-41 253.5,-41 253.5,-47 247.5,-53 241.5,-53\"/>\r\n",
       "<text text-anchor=\"middle\" x=\"197\" y=\"-37.8\" font-family=\"Helvetica,sans-Serif\" font-size=\"14.00\">gini = 0.39</text>\r\n",
       "<text text-anchor=\"middle\" x=\"197\" y=\"-22.8\" font-family=\"Helvetica,sans-Serif\" font-size=\"14.00\">samples = 67</text>\r\n",
       "<text text-anchor=\"middle\" x=\"197\" y=\"-7.8\" font-family=\"Helvetica,sans-Serif\" font-size=\"14.00\">value = [18, 49]</text>\r\n",
       "</g>\r\n",
       "<!-- 2&#45;&gt;4 -->\r\n",
       "<g id=\"edge4\" class=\"edge\"><title>2&#45;&gt;4</title>\r\n",
       "<path fill=\"none\" stroke=\"black\" d=\"M197,-88.9485C197,-80.7153 197,-71.848 197,-63.4814\"/>\r\n",
       "<polygon fill=\"black\" stroke=\"black\" points=\"200.5,-63.2367 197,-53.2367 193.5,-63.2367 200.5,-63.2367\"/>\r\n",
       "</g>\r\n",
       "<!-- 6 -->\r\n",
       "<g id=\"node7\" class=\"node\"><title>6</title>\r\n",
       "<path fill=\"#399de5\" stroke=\"black\" d=\"M364.5,-53C364.5,-53 283.5,-53 283.5,-53 277.5,-53 271.5,-47 271.5,-41 271.5,-41 271.5,-12 271.5,-12 271.5,-6 277.5,-0 283.5,-0 283.5,-0 364.5,-0 364.5,-0 370.5,-0 376.5,-6 376.5,-12 376.5,-12 376.5,-41 376.5,-41 376.5,-47 370.5,-53 364.5,-53\"/>\r\n",
       "<text text-anchor=\"middle\" x=\"324\" y=\"-37.8\" font-family=\"Helvetica,sans-Serif\" font-size=\"14.00\">gini = 0.0</text>\r\n",
       "<text text-anchor=\"middle\" x=\"324\" y=\"-22.8\" font-family=\"Helvetica,sans-Serif\" font-size=\"14.00\">samples = 14</text>\r\n",
       "<text text-anchor=\"middle\" x=\"324\" y=\"-7.8\" font-family=\"Helvetica,sans-Serif\" font-size=\"14.00\">value = [0, 14]</text>\r\n",
       "</g>\r\n",
       "<!-- 5&#45;&gt;6 -->\r\n",
       "<g id=\"edge6\" class=\"edge\"><title>5&#45;&gt;6</title>\r\n",
       "<path fill=\"none\" stroke=\"black\" d=\"M383.173,-88.9485C374.363,-79.8005 364.8,-69.8697 355.982,-60.7126\"/>\r\n",
       "<polygon fill=\"black\" stroke=\"black\" points=\"358.241,-58.0122 348.783,-53.2367 353.199,-62.8677 358.241,-58.0122\"/>\r\n",
       "</g>\r\n",
       "<!-- 7 -->\r\n",
       "<g id=\"node8\" class=\"node\"><title>7</title>\r\n",
       "<path fill=\"#e58139\" stroke=\"black\" d=\"M487.5,-53C487.5,-53 406.5,-53 406.5,-53 400.5,-53 394.5,-47 394.5,-41 394.5,-41 394.5,-12 394.5,-12 394.5,-6 400.5,-0 406.5,-0 406.5,-0 487.5,-0 487.5,-0 493.5,-0 499.5,-6 499.5,-12 499.5,-12 499.5,-41 499.5,-41 499.5,-47 493.5,-53 487.5,-53\"/>\r\n",
       "<text text-anchor=\"middle\" x=\"447\" y=\"-37.8\" font-family=\"Helvetica,sans-Serif\" font-size=\"14.00\">gini = 0.0</text>\r\n",
       "<text text-anchor=\"middle\" x=\"447\" y=\"-22.8\" font-family=\"Helvetica,sans-Serif\" font-size=\"14.00\">samples = 59</text>\r\n",
       "<text text-anchor=\"middle\" x=\"447\" y=\"-7.8\" font-family=\"Helvetica,sans-Serif\" font-size=\"14.00\">value = [59, 0]</text>\r\n",
       "</g>\r\n",
       "<!-- 5&#45;&gt;7 -->\r\n",
       "<g id=\"edge7\" class=\"edge\"><title>5&#45;&gt;7</title>\r\n",
       "<path fill=\"none\" stroke=\"black\" d=\"M426.192,-88.9485C429.042,-80.5323 432.116,-71.4536 435.004,-62.9243\"/>\r\n",
       "<polygon fill=\"black\" stroke=\"black\" points=\"438.393,-63.831 438.285,-53.2367 431.762,-61.5858 438.393,-63.831\"/>\r\n",
       "</g>\r\n",
       "<!-- 9 -->\r\n",
       "<g id=\"node10\" class=\"node\"><title>9</title>\r\n",
       "<path fill=\"#72b9ec\" stroke=\"black\" d=\"M646.5,-157C646.5,-157 557.5,-157 557.5,-157 551.5,-157 545.5,-151 545.5,-145 545.5,-145 545.5,-101 545.5,-101 545.5,-95 551.5,-89 557.5,-89 557.5,-89 646.5,-89 646.5,-89 652.5,-89 658.5,-95 658.5,-101 658.5,-101 658.5,-145 658.5,-145 658.5,-151 652.5,-157 646.5,-157\"/>\r\n",
       "<text text-anchor=\"middle\" x=\"602\" y=\"-141.8\" font-family=\"Helvetica,sans-Serif\" font-size=\"14.00\">variance &lt;= 3.3</text>\r\n",
       "<text text-anchor=\"middle\" x=\"602\" y=\"-126.8\" font-family=\"Helvetica,sans-Serif\" font-size=\"14.00\">gini = 0.35</text>\r\n",
       "<text text-anchor=\"middle\" x=\"602\" y=\"-111.8\" font-family=\"Helvetica,sans-Serif\" font-size=\"14.00\">samples = 27</text>\r\n",
       "<text text-anchor=\"middle\" x=\"602\" y=\"-96.8\" font-family=\"Helvetica,sans-Serif\" font-size=\"14.00\">value = [6, 21]</text>\r\n",
       "</g>\r\n",
       "<!-- 8&#45;&gt;9 -->\r\n",
       "<g id=\"edge9\" class=\"edge\"><title>8&#45;&gt;9</title>\r\n",
       "<path fill=\"none\" stroke=\"black\" d=\"M602,-192.884C602,-184.778 602,-175.982 602,-167.472\"/>\r\n",
       "<polygon fill=\"black\" stroke=\"black\" points=\"605.5,-167.299 602,-157.299 598.5,-167.299 605.5,-167.299\"/>\r\n",
       "</g>\r\n",
       "<!-- 12 -->\r\n",
       "<g id=\"node13\" class=\"node\"><title>12</title>\r\n",
       "<path fill=\"#e78b48\" stroke=\"black\" d=\"M866,-157C866,-157 768,-157 768,-157 762,-157 756,-151 756,-145 756,-145 756,-101 756,-101 756,-95 762,-89 768,-89 768,-89 866,-89 866,-89 872,-89 878,-95 878,-101 878,-101 878,-145 878,-145 878,-151 872,-157 866,-157\"/>\r\n",
       "<text text-anchor=\"middle\" x=\"817\" y=\"-141.8\" font-family=\"Helvetica,sans-Serif\" font-size=\"14.00\">variance &lt;= 1.6</text>\r\n",
       "<text text-anchor=\"middle\" x=\"817\" y=\"-126.8\" font-family=\"Helvetica,sans-Serif\" font-size=\"14.00\">gini = 0.13</text>\r\n",
       "<text text-anchor=\"middle\" x=\"817\" y=\"-111.8\" font-family=\"Helvetica,sans-Serif\" font-size=\"14.00\">samples = 509</text>\r\n",
       "<text text-anchor=\"middle\" x=\"817\" y=\"-96.8\" font-family=\"Helvetica,sans-Serif\" font-size=\"14.00\">value = [473, 36]</text>\r\n",
       "</g>\r\n",
       "<!-- 8&#45;&gt;12 -->\r\n",
       "<g id=\"edge12\" class=\"edge\"><title>8&#45;&gt;12</title>\r\n",
       "<path fill=\"none\" stroke=\"black\" d=\"M663.61,-196.771C689.473,-184.501 719.698,-170.162 746.449,-157.471\"/>\r\n",
       "<polygon fill=\"black\" stroke=\"black\" points=\"748.218,-160.505 755.753,-153.057 745.218,-154.181 748.218,-160.505\"/>\r\n",
       "</g>\r\n",
       "<!-- 10 -->\r\n",
       "<g id=\"node11\" class=\"node\"><title>10</title>\r\n",
       "<path fill=\"#399de5\" stroke=\"black\" d=\"M610.5,-53C610.5,-53 529.5,-53 529.5,-53 523.5,-53 517.5,-47 517.5,-41 517.5,-41 517.5,-12 517.5,-12 517.5,-6 523.5,-0 529.5,-0 529.5,-0 610.5,-0 610.5,-0 616.5,-0 622.5,-6 622.5,-12 622.5,-12 622.5,-41 622.5,-41 622.5,-47 616.5,-53 610.5,-53\"/>\r\n",
       "<text text-anchor=\"middle\" x=\"570\" y=\"-37.8\" font-family=\"Helvetica,sans-Serif\" font-size=\"14.00\">gini = 0.0</text>\r\n",
       "<text text-anchor=\"middle\" x=\"570\" y=\"-22.8\" font-family=\"Helvetica,sans-Serif\" font-size=\"14.00\">samples = 21</text>\r\n",
       "<text text-anchor=\"middle\" x=\"570\" y=\"-7.8\" font-family=\"Helvetica,sans-Serif\" font-size=\"14.00\">value = [0, 21]</text>\r\n",
       "</g>\r\n",
       "<!-- 9&#45;&gt;10 -->\r\n",
       "<g id=\"edge10\" class=\"edge\"><title>9&#45;&gt;10</title>\r\n",
       "<path fill=\"none\" stroke=\"black\" d=\"M590.808,-88.9485C587.958,-80.5323 584.884,-71.4536 581.996,-62.9243\"/>\r\n",
       "<polygon fill=\"black\" stroke=\"black\" points=\"585.238,-61.5858 578.715,-53.2367 578.607,-63.831 585.238,-61.5858\"/>\r\n",
       "</g>\r\n",
       "<!-- 11 -->\r\n",
       "<g id=\"node12\" class=\"node\"><title>11</title>\r\n",
       "<path fill=\"#e58139\" stroke=\"black\" d=\"M725.5,-53C725.5,-53 652.5,-53 652.5,-53 646.5,-53 640.5,-47 640.5,-41 640.5,-41 640.5,-12 640.5,-12 640.5,-6 646.5,-0 652.5,-0 652.5,-0 725.5,-0 725.5,-0 731.5,-0 737.5,-6 737.5,-12 737.5,-12 737.5,-41 737.5,-41 737.5,-47 731.5,-53 725.5,-53\"/>\r\n",
       "<text text-anchor=\"middle\" x=\"689\" y=\"-37.8\" font-family=\"Helvetica,sans-Serif\" font-size=\"14.00\">gini = 0.0</text>\r\n",
       "<text text-anchor=\"middle\" x=\"689\" y=\"-22.8\" font-family=\"Helvetica,sans-Serif\" font-size=\"14.00\">samples = 6</text>\r\n",
       "<text text-anchor=\"middle\" x=\"689\" y=\"-7.8\" font-family=\"Helvetica,sans-Serif\" font-size=\"14.00\">value = [6, 0]</text>\r\n",
       "</g>\r\n",
       "<!-- 9&#45;&gt;11 -->\r\n",
       "<g id=\"edge11\" class=\"edge\"><title>9&#45;&gt;11</title>\r\n",
       "<path fill=\"none\" stroke=\"black\" d=\"M632.428,-88.9485C640.85,-79.8005 649.993,-69.8697 658.423,-60.7126\"/>\r\n",
       "<polygon fill=\"black\" stroke=\"black\" points=\"661.108,-62.9643 665.306,-53.2367 655.958,-58.2231 661.108,-62.9643\"/>\r\n",
       "</g>\r\n",
       "<!-- 13 -->\r\n",
       "<g id=\"node14\" class=\"node\"><title>13</title>\r\n",
       "<path fill=\"#eda978\" stroke=\"black\" d=\"M866,-53C866,-53 768,-53 768,-53 762,-53 756,-47 756,-41 756,-41 756,-12 756,-12 756,-6 762,-0 768,-0 768,-0 866,-0 866,-0 872,-0 878,-6 878,-12 878,-12 878,-41 878,-41 878,-47 872,-53 866,-53\"/>\r\n",
       "<text text-anchor=\"middle\" x=\"817\" y=\"-37.8\" font-family=\"Helvetica,sans-Serif\" font-size=\"14.00\">gini = 0.37</text>\r\n",
       "<text text-anchor=\"middle\" x=\"817\" y=\"-22.8\" font-family=\"Helvetica,sans-Serif\" font-size=\"14.00\">samples = 137</text>\r\n",
       "<text text-anchor=\"middle\" x=\"817\" y=\"-7.8\" font-family=\"Helvetica,sans-Serif\" font-size=\"14.00\">value = [104, 33]</text>\r\n",
       "</g>\r\n",
       "<!-- 12&#45;&gt;13 -->\r\n",
       "<g id=\"edge13\" class=\"edge\"><title>12&#45;&gt;13</title>\r\n",
       "<path fill=\"none\" stroke=\"black\" d=\"M817,-88.9485C817,-80.7153 817,-71.848 817,-63.4814\"/>\r\n",
       "<polygon fill=\"black\" stroke=\"black\" points=\"820.5,-63.2367 817,-53.2367 813.5,-63.2367 820.5,-63.2367\"/>\r\n",
       "</g>\r\n",
       "<!-- 14 -->\r\n",
       "<g id=\"node15\" class=\"node\"><title>14</title>\r\n",
       "<path fill=\"#e5823b\" stroke=\"black\" d=\"M997.5,-53C997.5,-53 908.5,-53 908.5,-53 902.5,-53 896.5,-47 896.5,-41 896.5,-41 896.5,-12 896.5,-12 896.5,-6 902.5,-0 908.5,-0 908.5,-0 997.5,-0 997.5,-0 1003.5,-0 1009.5,-6 1009.5,-12 1009.5,-12 1009.5,-41 1009.5,-41 1009.5,-47 1003.5,-53 997.5,-53\"/>\r\n",
       "<text text-anchor=\"middle\" x=\"953\" y=\"-37.8\" font-family=\"Helvetica,sans-Serif\" font-size=\"14.00\">gini = 0.02</text>\r\n",
       "<text text-anchor=\"middle\" x=\"953\" y=\"-22.8\" font-family=\"Helvetica,sans-Serif\" font-size=\"14.00\">samples = 372</text>\r\n",
       "<text text-anchor=\"middle\" x=\"953\" y=\"-7.8\" font-family=\"Helvetica,sans-Serif\" font-size=\"14.00\">value = [369, 3]</text>\r\n",
       "</g>\r\n",
       "<!-- 12&#45;&gt;14 -->\r\n",
       "<g id=\"edge14\" class=\"edge\"><title>12&#45;&gt;14</title>\r\n",
       "<path fill=\"none\" stroke=\"black\" d=\"M864.566,-88.9485C878.522,-79.2516 893.743,-68.6752 907.562,-59.073\"/>\r\n",
       "<polygon fill=\"black\" stroke=\"black\" points=\"909.746,-61.8172 915.961,-53.2367 905.752,-56.0687 909.746,-61.8172\"/>\r\n",
       "</g>\r\n",
       "</g>\r\n",
       "</svg>\r\n"
      ],
      "text/plain": [
       "<graphviz.files.Source at 0x27a7029e6c8>"
      ]
     },
     "execution_count": 93,
     "metadata": {},
     "output_type": "execute_result"
    }
   ],
   "source": [
    "graph=graphviz.Source(dot_data)\n",
    "graph"
   ]
  },
  {
   "cell_type": "markdown",
   "metadata": {
    "hidden": true
   },
   "source": [
    "###### <font color=red> <b><u><i> Insights from the Initial Classification Decision Tree Model :-\n",
    "- <i><font color=red> Depth-0: Bank Notes with Variance <= 0.32 have predicted values as 88 & 405 with its gini value being 0.29 </font> </i>\n",
    "- <i><font color=red> Depth-2: Bank Notes with cutoff for variance column <= -0.46 has pure leaf node with  gini(0.06) and the other impure leaf node with gini(0.39).</font> </i> \n",
    "- <i><font color=red>Depth-2: Bank Notes with the variance <-4.73 have both the leaf nodes being pure as gini=0</font> </i> \n",
    "- <i><font color=red>Depth-0: Bank Notes with the variance >= 0.32 have curtosis as the first internal node (curtosis<-4.39) with skewness feature (7.33) of the note as having 2 pure gini leaves </font> </i> \n",
    "- <i><font color=red>Depth-2: Bank Notes with the variance >= 1.6 has more pure leaf node as compared with variance < 1.6 </font> </i>     \n",
    "    </i></u></b> </font>"
   ]
  },
  {
   "cell_type": "code",
   "execution_count": 94,
   "metadata": {
    "ExecuteTime": {
     "end_time": "2020-07-05T19:20:03.084747Z",
     "start_time": "2020-07-05T19:20:02.616799Z"
    },
    "hidden": true
   },
   "outputs": [
    {
     "data": {
      "text/plain": [
       "'DT_Classifier_Initial.pdf'"
      ]
     },
     "execution_count": 94,
     "metadata": {},
     "output_type": "execute_result"
    }
   ],
   "source": [
    "# export decision tree to PDF file \n",
    "graph.render(\"DT_Classifier_Initial\",view = True)"
   ]
  },
  {
   "cell_type": "code",
   "execution_count": 95,
   "metadata": {
    "ExecuteTime": {
     "end_time": "2020-07-05T19:17:04.062341Z",
     "start_time": "2020-07-05T19:17:04.055361Z"
    },
    "hidden": true
   },
   "outputs": [],
   "source": [
    "from pydotplus import graph_from_dot_data"
   ]
  },
  {
   "cell_type": "code",
   "execution_count": 96,
   "metadata": {
    "ExecuteTime": {
     "end_time": "2020-07-05T19:17:09.074761Z",
     "start_time": "2020-07-05T19:17:08.828525Z"
    },
    "hidden": true
   },
   "outputs": [],
   "source": [
    "graph = graph_from_dot_data(dot_data)"
   ]
  },
  {
   "cell_type": "code",
   "execution_count": 97,
   "metadata": {
    "ExecuteTime": {
     "end_time": "2020-07-05T19:17:16.535395Z",
     "start_time": "2020-07-05T19:17:16.055280Z"
    },
    "hidden": true
   },
   "outputs": [
    {
     "data": {
      "text/plain": [
       "True"
      ]
     },
     "execution_count": 97,
     "metadata": {},
     "output_type": "execute_result"
    }
   ],
   "source": [
    "# To save the decision classifier tree in png format \n",
    "graph.write_png(\"Classifier_tree.png\")"
   ]
  },
  {
   "cell_type": "markdown",
   "metadata": {
    "hidden": true
   },
   "source": [
    "### Feature Importance from Final Decision Tree Classifier Model"
   ]
  },
  {
   "cell_type": "code",
   "execution_count": 149,
   "metadata": {
    "ExecuteTime": {
     "end_time": "2020-07-05T22:16:36.375545Z",
     "start_time": "2020-07-05T22:16:36.286729Z"
    },
    "hidden": true
   },
   "outputs": [],
   "source": [
    "from sklearn.model_selection import cross_validate, ShuffleSplit, GridSearchCV\n",
    "base_results = cross_validate(tree4, X, y, cv=5, return_train_score=True)"
   ]
  },
  {
   "cell_type": "code",
   "execution_count": 150,
   "metadata": {
    "ExecuteTime": {
     "end_time": "2020-07-05T22:16:39.871360Z",
     "start_time": "2020-07-05T22:16:39.858230Z"
    },
    "hidden": true
   },
   "outputs": [],
   "source": [
    "def plot_feature_importances(df):\n",
    "    \n",
    "    # Sort features according to importance\n",
    "    df = df.sort_values('importance', ascending = False).reset_index()\n",
    "    \n",
    "    # Normalize the feature importances to add up to one\n",
    "    df['importance_normalized'] = df['importance'] / df['importance'].sum()\n",
    "\n",
    "    # Make a horizontal bar chart of feature importances\n",
    "    plt.figure(figsize = (10, 6))\n",
    "    ax = plt.subplot()\n",
    "    \n",
    "    # Need to reverse the index to plot most important on top\n",
    "    ax.barh(list(reversed(list(df.index[:15]))), \n",
    "            df['importance_normalized'].head(15), \n",
    "            align = 'center', edgecolor = 'k')\n",
    "    \n",
    "    # Set the yticks and labels\n",
    "    ax.set_yticks(list(reversed(list(df.index[:15]))))\n",
    "    ax.set_yticklabels(df['feature'].head(15))\n",
    "    \n",
    "    # Plot labeling\n",
    "    plt.xlabel('Normalized Importance'); plt.title('Feature Importances')\n",
    "    plt.show()\n",
    "    \n",
    "    return df"
   ]
  },
  {
   "cell_type": "code",
   "execution_count": 151,
   "metadata": {
    "ExecuteTime": {
     "end_time": "2020-07-05T22:17:19.930972Z",
     "start_time": "2020-07-05T22:17:19.769381Z"
    },
    "hidden": true,
    "scrolled": false
   },
   "outputs": [
    {
     "data": {
      "image/png": "[encoded data removed]",
      "text/plain": [
       "<Figure size 720x432 with 1 Axes>"
      ]
     },
     "metadata": {
      "needs_background": "light"
     },
     "output_type": "display_data"
    }
   ],
   "source": [
    "importance = tree4.feature_importances_\n",
    "feature = X.columns\n",
    "fi = pd.DataFrame()\n",
    "fi['importance'] = importance\n",
    "fi['feature'] = feature\n",
    "fi_sorted = plot_feature_importances(fi)"
   ]
  },
  {
   "cell_type": "markdown",
   "metadata": {
    "hidden": true
   },
   "source": [
    "###### <font color=red> <b><u><i> Best Features from the Final Classification Decision Tree Model :-\n",
    "- <i><font color=red> 76% of variable importance is contributed by variance and rest 24% by curtosis, skewness and entropy </font> </i>\n",
    "    </i></u></b> </font>"
   ]
  },
  {
   "cell_type": "markdown",
   "metadata": {
    "hidden": true
   },
   "source": [
    "#### 2 .Perform Hyper-parameter tuning for decision tree classifier model "
   ]
  },
  {
   "cell_type": "markdown",
   "metadata": {
    "hidden": true
   },
   "source": [
    "The parameters important for tuning are:\n",
    "\n",
    "- 'criterion': gini or entropy - measure of impurity (can be treated as a loss function)\n",
    "- 'splitter': best or random - methodology to select the next feature to split on\n",
    "- 'max_depth': maximum height to restrict the growth of the tree beyond certain point (to avoid overfitting sometimes)\n",
    "- 'min_samples_split': minimum number of samples at a node required to split"
   ]
  },
  {
   "cell_type": "markdown",
   "metadata": {},
   "source": [
    "#### Early Stopping in Decision Trees -\n",
    "- Decision tree grows by splitting the data based on the selected feature/variable (nodes in terms of trees), but a big question arises while implementing the trees that when should we stop. One answer to this question is Early Stopping. The tree grows in such a manner so as to minimize the loss function or the error by recursively splitting the variables, but at some point, the improvement in the error is not significant, then we can stop. This stopping is called as early stopping."
   ]
  },
  {
   "cell_type": "code",
   "execution_count": 99,
   "metadata": {
    "ExecuteTime": {
     "end_time": "2020-07-05T19:50:17.046268Z",
     "start_time": "2020-07-05T19:50:17.039286Z"
    },
    "hidden": true
   },
   "outputs": [],
   "source": [
    "from sklearn.tree import DecisionTreeClassifier\n",
    "from sklearn.model_selection import GridSearchCV"
   ]
  },
  {
   "cell_type": "markdown",
   "metadata": {
    "ExecuteTime": {
     "end_time": "2020-07-05T19:09:02.522216Z",
     "start_time": "2020-07-05T19:09:02.468066Z"
    },
    "hidden": true
   },
   "source": [
    "### Hyperparameter tuning with GridSearchCV"
   ]
  },
  {
   "cell_type": "code",
   "execution_count": 100,
   "metadata": {
    "ExecuteTime": {
     "end_time": "2020-07-05T20:21:19.527009Z",
     "start_time": "2020-07-05T20:05:12.892769Z"
    },
    "hidden": true
   },
   "outputs": [
    {
     "data": {
      "text/plain": [
       "GridSearchCV(cv=10, estimator=DecisionTreeClassifier(max_depth=3),\n",
       "             param_grid={'criterion': ['gini', 'entropy'],\n",
       "                         'max_depth': [2, 3, 4, 5, 6, 7, 8],\n",
       "                         'max_features': [2, 3, 4],\n",
       "                         'max_leaf_nodes': [2, 5, 10, 20, 100],\n",
       "                         'min_samples_leaf': [1, 2, 5, 10, 20, 40, 100],\n",
       "                         'min_samples_split': [2, 5, 10, 20, 40],\n",
       "                         'splitter': ['best']})"
      ]
     },
     "execution_count": 100,
     "metadata": {},
     "output_type": "execute_result"
    }
   ],
   "source": [
    "param_grid = {\"criterion\": [\"gini\", \"entropy\"],\n",
    "              \"splitter\": [\"best\"],\n",
    "              \"max_depth\": [2,3,4,5,6,7,8],\n",
    "              \"min_samples_split\": [2,5,10,20,40],\n",
    "              \"min_samples_leaf\": [1,2,5,10,20,40,100],\n",
    "              \"max_features\": [2,3,4],\n",
    "              \"max_leaf_nodes\": [2,5,10,20,100]\n",
    "              }\n",
    "       \n",
    "grid_cv_dtm = GridSearchCV(tree4, param_grid, cv=10)\n",
    "grid_cv_dtm.fit(X_train, y_train)"
   ]
  },
  {
   "cell_type": "code",
   "execution_count": 101,
   "metadata": {
    "ExecuteTime": {
     "end_time": "2020-07-05T20:48:49.830190Z",
     "start_time": "2020-07-05T20:48:49.824201Z"
    },
    "hidden": true,
    "scrolled": true
   },
   "outputs": [
    {
     "name": "stdout",
     "output_type": "stream",
     "text": [
      "Best Hyperparameters::\n",
      "{'criterion': 'entropy', 'max_depth': 7, 'max_features': 3, 'max_leaf_nodes': 20, 'min_samples_leaf': 1, 'min_samples_split': 2, 'splitter': 'best'}\n"
     ]
    }
   ],
   "source": [
    "print(\"Best Hyperparameters::\\n{}\".format(grid_cv_dtm.best_params_))"
   ]
  },
  {
   "cell_type": "markdown",
   "metadata": {
    "hidden": true
   },
   "source": [
    "###### <font color=red> <b><u><i> Insights from the Hyper-Parameter Tuning of Decision Tree Classifier model:-\n",
    "  - <i><font color=red> Most Optimal Decision tree model has depth of 8 levels and features utilised for tree pruning is 2</font> </i>\n",
    "  - <i><font color=red> Minimum records required for splitting is 2 with splitting stopping criteria as Entropy </font> </i> \n",
    "    </i></u></b> </font>"
   ]
  },
  {
   "cell_type": "code",
   "execution_count": 102,
   "metadata": {
    "ExecuteTime": {
     "end_time": "2020-07-05T20:24:13.377970Z",
     "start_time": "2020-07-05T20:24:13.306951Z"
    },
    "hidden": true
   },
   "outputs": [
    {
     "data": {
      "text/html": [
       "<div>\n",
       "<style scoped>\n",
       "    .dataframe tbody tr th:only-of-type {\n",
       "        vertical-align: middle;\n",
       "    }\n",
       "\n",
       "    .dataframe tbody tr th {\n",
       "        vertical-align: top;\n",
       "    }\n",
       "\n",
       "    .dataframe thead th {\n",
       "        text-align: right;\n",
       "    }\n",
       "</style>\n",
       "<table border=\"1\" class=\"dataframe\">\n",
       "  <thead>\n",
       "    <tr style=\"text-align: right;\">\n",
       "      <th></th>\n",
       "      <th>mean_fit_time</th>\n",
       "      <th>std_fit_time</th>\n",
       "      <th>mean_score_time</th>\n",
       "      <th>std_score_time</th>\n",
       "      <th>param_criterion</th>\n",
       "      <th>param_max_depth</th>\n",
       "      <th>param_max_features</th>\n",
       "      <th>param_max_leaf_nodes</th>\n",
       "      <th>param_min_samples_leaf</th>\n",
       "      <th>param_min_samples_split</th>\n",
       "      <th>param_splitter</th>\n",
       "      <th>params</th>\n",
       "      <th>split0_test_score</th>\n",
       "      <th>split1_test_score</th>\n",
       "      <th>split2_test_score</th>\n",
       "      <th>split3_test_score</th>\n",
       "      <th>split4_test_score</th>\n",
       "      <th>split5_test_score</th>\n",
       "      <th>split6_test_score</th>\n",
       "      <th>split7_test_score</th>\n",
       "      <th>split8_test_score</th>\n",
       "      <th>split9_test_score</th>\n",
       "      <th>mean_test_score</th>\n",
       "      <th>std_test_score</th>\n",
       "      <th>rank_test_score</th>\n",
       "    </tr>\n",
       "  </thead>\n",
       "  <tbody>\n",
       "    <tr>\n",
       "      <th>0</th>\n",
       "      <td>0.003184</td>\n",
       "      <td>0.000872</td>\n",
       "      <td>0.002002</td>\n",
       "      <td>0.000447</td>\n",
       "      <td>gini</td>\n",
       "      <td>2</td>\n",
       "      <td>2</td>\n",
       "      <td>2</td>\n",
       "      <td>1</td>\n",
       "      <td>2</td>\n",
       "      <td>best</td>\n",
       "      <td>{'criterion': 'gini', 'max_depth': 2, 'max_fea...</td>\n",
       "      <td>0.834951</td>\n",
       "      <td>0.84466</td>\n",
       "      <td>0.679612</td>\n",
       "      <td>0.912621</td>\n",
       "      <td>0.844660</td>\n",
       "      <td>0.737864</td>\n",
       "      <td>0.621359</td>\n",
       "      <td>0.689320</td>\n",
       "      <td>0.737864</td>\n",
       "      <td>0.843137</td>\n",
       "      <td>0.774605</td>\n",
       "      <td>0.089266</td>\n",
       "      <td>6991</td>\n",
       "    </tr>\n",
       "    <tr>\n",
       "      <th>1</th>\n",
       "      <td>0.002987</td>\n",
       "      <td>0.001093</td>\n",
       "      <td>0.001897</td>\n",
       "      <td>0.000540</td>\n",
       "      <td>gini</td>\n",
       "      <td>2</td>\n",
       "      <td>2</td>\n",
       "      <td>2</td>\n",
       "      <td>1</td>\n",
       "      <td>5</td>\n",
       "      <td>best</td>\n",
       "      <td>{'criterion': 'gini', 'max_depth': 2, 'max_fea...</td>\n",
       "      <td>0.718447</td>\n",
       "      <td>0.84466</td>\n",
       "      <td>0.834951</td>\n",
       "      <td>0.650485</td>\n",
       "      <td>0.844660</td>\n",
       "      <td>0.883495</td>\n",
       "      <td>0.834951</td>\n",
       "      <td>0.834951</td>\n",
       "      <td>0.834951</td>\n",
       "      <td>0.843137</td>\n",
       "      <td>0.812469</td>\n",
       "      <td>0.067200</td>\n",
       "      <td>6529</td>\n",
       "    </tr>\n",
       "    <tr>\n",
       "      <th>2</th>\n",
       "      <td>0.004987</td>\n",
       "      <td>0.004699</td>\n",
       "      <td>0.002094</td>\n",
       "      <td>0.000698</td>\n",
       "      <td>gini</td>\n",
       "      <td>2</td>\n",
       "      <td>2</td>\n",
       "      <td>2</td>\n",
       "      <td>1</td>\n",
       "      <td>10</td>\n",
       "      <td>best</td>\n",
       "      <td>{'criterion': 'gini', 'max_depth': 2, 'max_fea...</td>\n",
       "      <td>0.718447</td>\n",
       "      <td>0.84466</td>\n",
       "      <td>0.834951</td>\n",
       "      <td>0.912621</td>\n",
       "      <td>0.699029</td>\n",
       "      <td>0.883495</td>\n",
       "      <td>0.640777</td>\n",
       "      <td>0.834951</td>\n",
       "      <td>0.834951</td>\n",
       "      <td>0.843137</td>\n",
       "      <td>0.804702</td>\n",
       "      <td>0.083158</td>\n",
       "      <td>6642</td>\n",
       "    </tr>\n",
       "  </tbody>\n",
       "</table>\n",
       "</div>"
      ],
      "text/plain": [
       "   mean_fit_time  std_fit_time  mean_score_time  std_score_time param_criterion param_max_depth param_max_features param_max_leaf_nodes param_min_samples_leaf param_min_samples_split param_splitter                                             params  split0_test_score  split1_test_score  split2_test_score  split3_test_score  split4_test_score  split5_test_score  split6_test_score  split7_test_score  split8_test_score  split9_test_score  mean_test_score  std_test_score  rank_test_score\n",
       "0       0.003184      0.000872         0.002002        0.000447            gini               2                  2                    2                      1                       2           best  {'criterion': 'gini', 'max_depth': 2, 'max_fea...           0.834951            0.84466           0.679612           0.912621           0.844660           0.737864           0.621359           0.689320           0.737864           0.843137         0.774605        0.089266             6991\n",
       "1       0.002987      0.001093         0.001897        0.000540            gini               2                  2                    2                      1                       5           best  {'criterion': 'gini', 'max_depth': 2, 'max_fea...           0.718447            0.84466           0.834951           0.650485           0.844660           0.883495           0.834951           0.834951           0.834951           0.843137         0.812469        0.067200             6529\n",
       "2       0.004987      0.004699         0.002094        0.000698            gini               2                  2                    2                      1                      10           best  {'criterion': 'gini', 'max_depth': 2, 'max_fea...           0.718447            0.84466           0.834951           0.912621           0.699029           0.883495           0.640777           0.834951           0.834951           0.843137         0.804702        0.083158             6642"
      ]
     },
     "execution_count": 102,
     "metadata": {},
     "output_type": "execute_result"
    }
   ],
   "source": [
    "import pandas as pd\n",
    "df = pd.DataFrame(data=grid_cv_dtm.cv_results_)\n",
    "df.head(3)"
   ]
  },
  {
   "cell_type": "code",
   "execution_count": 103,
   "metadata": {
    "ExecuteTime": {
     "end_time": "2020-07-05T20:26:30.424590Z",
     "start_time": "2020-07-05T20:26:30.411239Z"
    },
    "hidden": true,
    "scrolled": true
   },
   "outputs": [
    {
     "data": {
      "text/plain": [
       "gini       3675\n",
       "entropy    3675\n",
       "Name: param_criterion, dtype: int64"
      ]
     },
     "execution_count": 103,
     "metadata": {},
     "output_type": "execute_result"
    }
   ],
   "source": [
    "df['param_criterion'].value_counts()"
   ]
  },
  {
   "cell_type": "markdown",
   "metadata": {
    "hidden": true
   },
   "source": [
    " #### 3. Use Grid Search to find the optimal value for the hyperparameters"
   ]
  },
  {
   "cell_type": "code",
   "execution_count": 104,
   "metadata": {
    "ExecuteTime": {
     "end_time": "2020-07-05T20:26:42.936602Z",
     "start_time": "2020-07-05T20:26:38.508842Z"
    },
    "hidden": true,
    "scrolled": true
   },
   "outputs": [
    {
     "data": {
      "text/plain": [
       "[Text(0.5, 1.0, 'Effect of Depth and Leaf Nodes on Model Performance')]"
      ]
     },
     "execution_count": 104,
     "metadata": {},
     "output_type": "execute_result"
    },
    {
     "data": {
      "image/png": "[encoded data removed]",
      "text/plain": [
       "<Figure size 432x288 with 1 Axes>"
      ]
     },
     "metadata": {
      "needs_background": "light"
     },
     "output_type": "display_data"
    }
   ],
   "source": [
    "import seaborn as sns\n",
    "import matplotlib.pyplot as plt  \n",
    "\n",
    "fig,ax = plt.subplots()\n",
    "sns.pointplot(data=df[['mean_test_score',\n",
    "                           'param_max_leaf_nodes',\n",
    "                           'param_max_depth']],\n",
    "             y='mean_test_score',x='param_max_depth',\n",
    "             hue='param_max_leaf_nodes',ax=ax)\n",
    "ax.set(title=\"Effect of Depth and Leaf Nodes on Model Performance\")"
   ]
  },
  {
   "cell_type": "markdown",
   "metadata": {
    "hidden": true
   },
   "source": [
    "###### <font color=blue> <b><u><i> Insights from the Hyper-Parameter Tuning of Decision Tree Classifier model:-\n",
    "  - <i><font color=blue> The test score improves with depth > 5 and max leaf nodes > 10 </font> </i>\n",
    "    </i></u></b> </font>"
   ]
  },
  {
   "cell_type": "code",
   "execution_count": 105,
   "metadata": {
    "ExecuteTime": {
     "end_time": "2020-07-05T20:48:21.798866Z",
     "start_time": "2020-07-05T20:48:21.788891Z"
    },
    "hidden": true
   },
   "outputs": [
    {
     "data": {
      "text/plain": [
       "DecisionTreeClassifier(criterion='entropy', max_depth=7, max_features=3,\n",
       "                       max_leaf_nodes=20)"
      ]
     },
     "execution_count": 105,
     "metadata": {},
     "output_type": "execute_result"
    }
   ],
   "source": [
    "clf = grid_cv_dtm.best_estimator_\n",
    "clf"
   ]
  },
  {
   "cell_type": "code",
   "execution_count": 106,
   "metadata": {
    "ExecuteTime": {
     "end_time": "2020-07-05T20:50:15.402600Z",
     "start_time": "2020-07-05T20:50:15.392626Z"
    },
    "hidden": true
   },
   "outputs": [
    {
     "data": {
      "text/plain": [
       "0.9902817437654674"
      ]
     },
     "execution_count": 106,
     "metadata": {},
     "output_type": "execute_result"
    }
   ],
   "source": [
    "# Accuracy rate \n",
    "grid_cv_dtm.best_score_"
   ]
  },
  {
   "cell_type": "code",
   "execution_count": 107,
   "metadata": {
    "ExecuteTime": {
     "end_time": "2020-07-05T20:50:26.843914Z",
     "start_time": "2020-07-05T20:50:26.837769Z"
    },
    "hidden": true
   },
   "outputs": [
    {
     "data": {
      "text/plain": [
       "array([0, 1], dtype=int64)"
      ]
     },
     "execution_count": 107,
     "metadata": {},
     "output_type": "execute_result"
    }
   ],
   "source": [
    "grid_cv_dtm.classes_"
   ]
  },
  {
   "cell_type": "code",
   "execution_count": 108,
   "metadata": {
    "ExecuteTime": {
     "end_time": "2020-07-05T20:50:58.012924Z",
     "start_time": "2020-07-05T20:50:58.005369Z"
    },
    "hidden": true
   },
   "outputs": [
    {
     "data": {
      "text/plain": [
       "<bound method BaseEstimator.get_params of GridSearchCV(cv=10, estimator=DecisionTreeClassifier(max_depth=3),\n",
       "             param_grid={'criterion': ['gini', 'entropy'],\n",
       "                         'max_depth': [2, 3, 4, 5, 6, 7, 8],\n",
       "                         'max_features': [2, 3, 4],\n",
       "                         'max_leaf_nodes': [2, 5, 10, 20, 100],\n",
       "                         'min_samples_leaf': [1, 2, 5, 10, 20, 40, 100],\n",
       "                         'min_samples_split': [2, 5, 10, 20, 40],\n",
       "                         'splitter': ['best']})>"
      ]
     },
     "execution_count": 108,
     "metadata": {},
     "output_type": "execute_result"
    }
   ],
   "source": [
    "grid_cv_dtm.get_params "
   ]
  },
  {
   "cell_type": "code",
   "execution_count": 109,
   "metadata": {
    "ExecuteTime": {
     "end_time": "2020-07-05T20:49:53.372896Z",
     "start_time": "2020-07-05T20:49:53.363397Z"
    },
    "hidden": true
   },
   "outputs": [
    {
     "data": {
      "text/plain": [
       "{'criterion': 'entropy',\n",
       " 'max_depth': 7,\n",
       " 'max_features': 3,\n",
       " 'max_leaf_nodes': 20,\n",
       " 'min_samples_leaf': 1,\n",
       " 'min_samples_split': 2,\n",
       " 'splitter': 'best'}"
      ]
     },
     "execution_count": 109,
     "metadata": {},
     "output_type": "execute_result"
    }
   ],
   "source": [
    "params = grid_cv_dtm.best_params_\n",
    "params"
   ]
  },
  {
   "cell_type": "markdown",
   "metadata": {
    "hidden": true
   },
   "source": [
    "#### 4. Refinement of Decision tree model based on Best Hyperparameter tuning to improve rsquare metric"
   ]
  },
  {
   "cell_type": "code",
   "execution_count": 110,
   "metadata": {
    "ExecuteTime": {
     "end_time": "2020-07-05T20:54:27.600049Z",
     "start_time": "2020-07-05T20:54:27.582890Z"
    },
    "hidden": true
   },
   "outputs": [],
   "source": [
    "## Refit Decision tree model based on Best Hyperparameters::\n",
    "\n",
    "tree5 = DecisionTreeClassifier(criterion='entropy',max_depth=8,max_features=2,min_samples_leaf=5,min_samples_split=2,max_leaf_nodes=100,random_state=1234)\n",
    "\n",
    "tree5.fit(X_train, y_train)\n",
    "predictions = tree5.predict(X_test)"
   ]
  },
  {
   "cell_type": "code",
   "execution_count": 111,
   "metadata": {
    "ExecuteTime": {
     "end_time": "2020-07-05T20:54:56.064222Z",
     "start_time": "2020-07-05T20:54:56.054247Z"
    },
    "hidden": true
   },
   "outputs": [
    {
     "data": {
      "text/plain": [
       "array([0, 1, 1, 0, 1], dtype=int64)"
      ]
     },
     "execution_count": 111,
     "metadata": {},
     "output_type": "execute_result"
    }
   ],
   "source": [
    "predictions[:5]"
   ]
  },
  {
   "cell_type": "code",
   "execution_count": 112,
   "metadata": {
    "ExecuteTime": {
     "end_time": "2020-07-05T20:55:04.021190Z",
     "start_time": "2020-07-05T20:55:04.013212Z"
    },
    "hidden": true
   },
   "outputs": [
    {
     "data": {
      "text/plain": [
       "96      0\n",
       "983     1\n",
       "956     1\n",
       "577     0\n",
       "1352    1\n",
       "Name: class, dtype: int64"
      ]
     },
     "execution_count": 112,
     "metadata": {},
     "output_type": "execute_result"
    }
   ],
   "source": [
    "y_test[:5]"
   ]
  },
  {
   "cell_type": "markdown",
   "metadata": {
    "hidden": true
   },
   "source": [
    "<b> Evaluate Decision Tree Classifier Model Performance </b>"
   ]
  },
  {
   "cell_type": "code",
   "execution_count": 113,
   "metadata": {
    "ExecuteTime": {
     "end_time": "2020-07-05T20:55:12.583117Z",
     "start_time": "2020-07-05T20:55:12.580109Z"
    },
    "hidden": true
   },
   "outputs": [],
   "source": [
    "from sklearn.metrics import accuracy_score, confusion_matrix"
   ]
  },
  {
   "cell_type": "code",
   "execution_count": 114,
   "metadata": {
    "ExecuteTime": {
     "end_time": "2020-07-05T20:55:28.689049Z",
     "start_time": "2020-07-05T20:55:28.681068Z"
    },
    "hidden": true
   },
   "outputs": [
    {
     "data": {
      "text/plain": [
       "0.9941690962099126"
      ]
     },
     "execution_count": 114,
     "metadata": {},
     "output_type": "execute_result"
    }
   ],
   "source": [
    "# Accuracy rate   \n",
    "accuracy_score(y_test, predictions)"
   ]
  },
  {
   "cell_type": "code",
   "execution_count": 115,
   "metadata": {
    "ExecuteTime": {
     "end_time": "2020-07-05T20:56:03.731301Z",
     "start_time": "2020-07-05T20:56:03.706957Z"
    },
    "hidden": true,
    "scrolled": true
   },
   "outputs": [
    {
     "name": "stdout",
     "output_type": "stream",
     "text": [
      "              precision    recall  f1-score   support\n",
      "\n",
      "           0       1.00      0.99      0.99       195\n",
      "           1       0.99      1.00      0.99       148\n",
      "\n",
      "    accuracy                           0.99       343\n",
      "   macro avg       0.99      0.99      0.99       343\n",
      "weighted avg       0.99      0.99      0.99       343\n",
      "\n"
     ]
    }
   ],
   "source": [
    "# Classification report \n",
    "from sklearn.metrics import classification_report\n",
    "print(classification_report(y_test,predictions))"
   ]
  },
  {
   "cell_type": "code",
   "execution_count": 116,
   "metadata": {
    "ExecuteTime": {
     "end_time": "2020-07-05T21:55:55.782916Z",
     "start_time": "2020-07-05T21:55:55.774936Z"
    },
    "hidden": true
   },
   "outputs": [
    {
     "data": {
      "text/plain": [
       "341"
      ]
     },
     "execution_count": 116,
     "metadata": {},
     "output_type": "execute_result"
    }
   ],
   "source": [
    "# To check correct predictions\n",
    "accuracy_score(y_test, predictions, normalize=False)"
   ]
  },
  {
   "cell_type": "code",
   "execution_count": 117,
   "metadata": {
    "ExecuteTime": {
     "end_time": "2020-07-05T21:55:58.150311Z",
     "start_time": "2020-07-05T21:55:58.142080Z"
    },
    "hidden": true
   },
   "outputs": [],
   "source": [
    "confusion_mat = confusion_matrix(y_test, predictions) # actual vs predicted\n",
    "confusion_df = pd.DataFrame(confusion_mat, index=['Actual neg','Actual pos'],\\\n",
    "                            columns=['Predicted neg','Predicted pos'])"
   ]
  },
  {
   "cell_type": "code",
   "execution_count": 118,
   "metadata": {
    "ExecuteTime": {
     "end_time": "2020-07-05T21:55:59.326218Z",
     "start_time": "2020-07-05T21:55:59.317243Z"
    },
    "hidden": true
   },
   "outputs": [
    {
     "data": {
      "text/html": [
       "<div>\n",
       "<style scoped>\n",
       "    .dataframe tbody tr th:only-of-type {\n",
       "        vertical-align: middle;\n",
       "    }\n",
       "\n",
       "    .dataframe tbody tr th {\n",
       "        vertical-align: top;\n",
       "    }\n",
       "\n",
       "    .dataframe thead th {\n",
       "        text-align: right;\n",
       "    }\n",
       "</style>\n",
       "<table border=\"1\" class=\"dataframe\">\n",
       "  <thead>\n",
       "    <tr style=\"text-align: right;\">\n",
       "      <th></th>\n",
       "      <th>Predicted neg</th>\n",
       "      <th>Predicted pos</th>\n",
       "    </tr>\n",
       "  </thead>\n",
       "  <tbody>\n",
       "    <tr>\n",
       "      <th>Actual neg</th>\n",
       "      <td>193</td>\n",
       "      <td>2</td>\n",
       "    </tr>\n",
       "    <tr>\n",
       "      <th>Actual pos</th>\n",
       "      <td>0</td>\n",
       "      <td>148</td>\n",
       "    </tr>\n",
       "  </tbody>\n",
       "</table>\n",
       "</div>"
      ],
      "text/plain": [
       "            Predicted neg  Predicted pos\n",
       "Actual neg            193              2\n",
       "Actual pos              0            148"
      ]
     },
     "execution_count": 118,
     "metadata": {},
     "output_type": "execute_result"
    }
   ],
   "source": [
    "# To plot a confusion matrix\n",
    "confusion_df"
   ]
  },
  {
   "cell_type": "code",
   "execution_count": 119,
   "metadata": {
    "ExecuteTime": {
     "end_time": "2020-07-05T21:56:01.317103Z",
     "start_time": "2020-07-05T21:56:01.073691Z"
    },
    "hidden": true
   },
   "outputs": [
    {
     "data": {
      "image/png": "[encoded data removed]",
      "text/plain": [
       "<Figure size 432x288 with 2 Axes>"
      ]
     },
     "metadata": {
      "needs_background": "light"
     },
     "output_type": "display_data"
    }
   ],
   "source": [
    "# To make a heatmap of the confusion matrix\n",
    "cf_=sns.heatmap(confusion_df, cmap='Greens_r', annot=True,fmt='.2f')"
   ]
  },
  {
   "cell_type": "code",
   "execution_count": 120,
   "metadata": {
    "ExecuteTime": {
     "end_time": "2020-07-05T21:56:12.202510Z",
     "start_time": "2020-07-05T21:56:12.197520Z"
    },
    "hidden": true
   },
   "outputs": [
    {
     "data": {
      "text/plain": [
       "matplotlib.axes._subplots.AxesSubplot"
      ]
     },
     "execution_count": 120,
     "metadata": {},
     "output_type": "execute_result"
    }
   ],
   "source": [
    "type(cf_)"
   ]
  },
  {
   "cell_type": "code",
   "execution_count": 121,
   "metadata": {
    "ExecuteTime": {
     "end_time": "2020-07-05T21:56:12.215472Z",
     "start_time": "2020-07-05T21:56:12.211482Z"
    },
    "hidden": true
   },
   "outputs": [],
   "source": [
    "from sklearn.tree import export_graphviz\n",
    "import graphviz"
   ]
  },
  {
   "cell_type": "code",
   "execution_count": 122,
   "metadata": {
    "ExecuteTime": {
     "end_time": "2020-07-05T21:56:22.120062Z",
     "start_time": "2020-07-05T21:56:22.105585Z"
    },
    "hidden": true
   },
   "outputs": [],
   "source": [
    "dot_data = export_graphviz(tree5, filled=True, rounded=True, feature_names=X.columns,out_file=None,precision=2)"
   ]
  },
  {
   "cell_type": "code",
   "execution_count": 123,
   "metadata": {
    "ExecuteTime": {
     "end_time": "2020-07-05T21:56:23.520378Z",
     "start_time": "2020-07-05T21:56:23.281435Z"
    },
    "hidden": true,
    "scrolled": false
   },
   "outputs": [
    {
     "data": {
      "image/svg+xml": [
       "<?xml version=\"1.0\" encoding=\"UTF-8\" standalone=\"no\"?>\r\n",
       "<!DOCTYPE svg PUBLIC \"-//W3C//DTD SVG 1.1//EN\"\r\n",
       " \"http://www.w3.org/Graphics/SVG/1.1/DTD/svg11.dtd\">\r\n",
       "<!-- Generated by graphviz version 2.38.0 (20140413.2041)\r\n",
       " -->\r\n",
       "<!-- Title: Tree Pages: 1 -->\r\n",
       "<svg width=\"1495pt\" height=\"789pt\"\r\n",
       " viewBox=\"0.00 0.00 1495.00 789.00\" xmlns=\"http://www.w3.org/2000/svg\" xmlns:xlink=\"http://www.w3.org/1999/xlink\">\r\n",
       "<g id=\"graph0\" class=\"graph\" transform=\"scale(1 1) rotate(0) translate(4 785)\">\r\n",
       "<title>Tree</title>\r\n",
       "<polygon fill=\"white\" stroke=\"none\" points=\"-4,4 -4,-785 1491,-785 1491,4 -4,4\"/>\r\n",
       "<!-- 0 -->\r\n",
       "<g id=\"node1\" class=\"node\"><title>0</title>\r\n",
       "<path fill=\"#fae8da\" stroke=\"black\" d=\"M1260.5,-781C1260.5,-781 1154.5,-781 1154.5,-781 1148.5,-781 1142.5,-775 1142.5,-769 1142.5,-769 1142.5,-725 1142.5,-725 1142.5,-719 1148.5,-713 1154.5,-713 1154.5,-713 1260.5,-713 1260.5,-713 1266.5,-713 1272.5,-719 1272.5,-725 1272.5,-725 1272.5,-769 1272.5,-769 1272.5,-775 1266.5,-781 1260.5,-781\"/>\r\n",
       "<text text-anchor=\"middle\" x=\"1207.5\" y=\"-765.8\" font-family=\"Helvetica,sans-Serif\" font-size=\"14.00\">curtosis &lt;= 8.84</text>\r\n",
       "<text text-anchor=\"middle\" x=\"1207.5\" y=\"-750.8\" font-family=\"Helvetica,sans-Serif\" font-size=\"14.00\">entropy = 0.99</text>\r\n",
       "<text text-anchor=\"middle\" x=\"1207.5\" y=\"-735.8\" font-family=\"Helvetica,sans-Serif\" font-size=\"14.00\">samples = 1029</text>\r\n",
       "<text text-anchor=\"middle\" x=\"1207.5\" y=\"-720.8\" font-family=\"Helvetica,sans-Serif\" font-size=\"14.00\">value = [567, 462]</text>\r\n",
       "</g>\r\n",
       "<!-- 1 -->\r\n",
       "<g id=\"node2\" class=\"node\"><title>1</title>\r\n",
       "<path fill=\"#f7d7c0\" stroke=\"black\" d=\"M1192.5,-677C1192.5,-677 1086.5,-677 1086.5,-677 1080.5,-677 1074.5,-671 1074.5,-665 1074.5,-665 1074.5,-621 1074.5,-621 1074.5,-615 1080.5,-609 1086.5,-609 1086.5,-609 1192.5,-609 1192.5,-609 1198.5,-609 1204.5,-615 1204.5,-621 1204.5,-621 1204.5,-665 1204.5,-665 1204.5,-671 1198.5,-677 1192.5,-677\"/>\r\n",
       "<text text-anchor=\"middle\" x=\"1139.5\" y=\"-661.8\" font-family=\"Helvetica,sans-Serif\" font-size=\"14.00\">variance &lt;= 0.75</text>\r\n",
       "<text text-anchor=\"middle\" x=\"1139.5\" y=\"-646.8\" font-family=\"Helvetica,sans-Serif\" font-size=\"14.00\">entropy = 0.97</text>\r\n",
       "<text text-anchor=\"middle\" x=\"1139.5\" y=\"-631.8\" font-family=\"Helvetica,sans-Serif\" font-size=\"14.00\">samples = 955</text>\r\n",
       "<text text-anchor=\"middle\" x=\"1139.5\" y=\"-616.8\" font-family=\"Helvetica,sans-Serif\" font-size=\"14.00\">value = [567, 388]</text>\r\n",
       "</g>\r\n",
       "<!-- 0&#45;&gt;1 -->\r\n",
       "<g id=\"edge1\" class=\"edge\"><title>0&#45;&gt;1</title>\r\n",
       "<path fill=\"none\" stroke=\"black\" d=\"M1185.42,-712.884C1179.66,-704.243 1173.38,-694.819 1167.36,-685.793\"/>\r\n",
       "<polygon fill=\"black\" stroke=\"black\" points=\"1170.16,-683.678 1161.7,-677.299 1164.33,-687.561 1170.16,-683.678\"/>\r\n",
       "<text text-anchor=\"middle\" x=\"1156.8\" y=\"-698.114\" font-family=\"Helvetica,sans-Serif\" font-size=\"14.00\">True</text>\r\n",
       "</g>\r\n",
       "<!-- 2 -->\r\n",
       "<g id=\"node39\" class=\"node\"><title>2</title>\r\n",
       "<path fill=\"#399de5\" stroke=\"black\" d=\"M1316,-669.5C1316,-669.5 1235,-669.5 1235,-669.5 1229,-669.5 1223,-663.5 1223,-657.5 1223,-657.5 1223,-628.5 1223,-628.5 1223,-622.5 1229,-616.5 1235,-616.5 1235,-616.5 1316,-616.5 1316,-616.5 1322,-616.5 1328,-622.5 1328,-628.5 1328,-628.5 1328,-657.5 1328,-657.5 1328,-663.5 1322,-669.5 1316,-669.5\"/>\r\n",
       "<text text-anchor=\"middle\" x=\"1275.5\" y=\"-654.3\" font-family=\"Helvetica,sans-Serif\" font-size=\"14.00\">entropy = 0.0</text>\r\n",
       "<text text-anchor=\"middle\" x=\"1275.5\" y=\"-639.3\" font-family=\"Helvetica,sans-Serif\" font-size=\"14.00\">samples = 74</text>\r\n",
       "<text text-anchor=\"middle\" x=\"1275.5\" y=\"-624.3\" font-family=\"Helvetica,sans-Serif\" font-size=\"14.00\">value = [0, 74]</text>\r\n",
       "</g>\r\n",
       "<!-- 0&#45;&gt;2 -->\r\n",
       "<g id=\"edge38\" class=\"edge\"><title>0&#45;&gt;2</title>\r\n",
       "<path fill=\"none\" stroke=\"black\" d=\"M1229.58,-712.884C1237.06,-701.666 1245.42,-689.126 1252.93,-677.852\"/>\r\n",
       "<polygon fill=\"black\" stroke=\"black\" points=\"1255.85,-679.782 1258.49,-669.52 1250.03,-675.899 1255.85,-679.782\"/>\r\n",
       "<text text-anchor=\"middle\" x=\"1263.39\" y=\"-690.334\" font-family=\"Helvetica,sans-Serif\" font-size=\"14.00\">False</text>\r\n",
       "</g>\r\n",
       "<!-- 3 -->\r\n",
       "<g id=\"node3\" class=\"node\"><title>3</title>\r\n",
       "<path fill=\"#7fbfee\" stroke=\"black\" d=\"M1039.5,-573C1039.5,-573 933.5,-573 933.5,-573 927.5,-573 921.5,-567 921.5,-561 921.5,-561 921.5,-517 921.5,-517 921.5,-511 927.5,-505 933.5,-505 933.5,-505 1039.5,-505 1039.5,-505 1045.5,-505 1051.5,-511 1051.5,-517 1051.5,-517 1051.5,-561 1051.5,-561 1051.5,-567 1045.5,-573 1039.5,-573\"/>\r\n",
       "<text text-anchor=\"middle\" x=\"986.5\" y=\"-557.8\" font-family=\"Helvetica,sans-Serif\" font-size=\"14.00\">entropy &lt;= &#45;0.37</text>\r\n",
       "<text text-anchor=\"middle\" x=\"986.5\" y=\"-542.8\" font-family=\"Helvetica,sans-Serif\" font-size=\"14.00\">entropy = 0.83</text>\r\n",
       "<text text-anchor=\"middle\" x=\"986.5\" y=\"-527.8\" font-family=\"Helvetica,sans-Serif\" font-size=\"14.00\">samples = 484</text>\r\n",
       "<text text-anchor=\"middle\" x=\"986.5\" y=\"-512.8\" font-family=\"Helvetica,sans-Serif\" font-size=\"14.00\">value = [126, 358]</text>\r\n",
       "</g>\r\n",
       "<!-- 1&#45;&gt;3 -->\r\n",
       "<g id=\"edge2\" class=\"edge\"><title>1&#45;&gt;3</title>\r\n",
       "<path fill=\"none\" stroke=\"black\" d=\"M1089.83,-608.884C1075.46,-599.304 1059.64,-588.761 1044.8,-578.864\"/>\r\n",
       "<polygon fill=\"black\" stroke=\"black\" points=\"1046.45,-575.76 1036.19,-573.125 1042.57,-581.584 1046.45,-575.76\"/>\r\n",
       "</g>\r\n",
       "<!-- 4 -->\r\n",
       "<g id=\"node32\" class=\"node\"><title>4</title>\r\n",
       "<path fill=\"#e78a46\" stroke=\"black\" d=\"M1339,-573C1339,-573 1240,-573 1240,-573 1234,-573 1228,-567 1228,-561 1228,-561 1228,-517 1228,-517 1228,-511 1234,-505 1240,-505 1240,-505 1339,-505 1339,-505 1345,-505 1351,-511 1351,-517 1351,-517 1351,-561 1351,-561 1351,-567 1345,-573 1339,-573\"/>\r\n",
       "<text text-anchor=\"middle\" x=\"1289.5\" y=\"-557.8\" font-family=\"Helvetica,sans-Serif\" font-size=\"14.00\">curtosis &lt;= &#45;1.64</text>\r\n",
       "<text text-anchor=\"middle\" x=\"1289.5\" y=\"-542.8\" font-family=\"Helvetica,sans-Serif\" font-size=\"14.00\">entropy = 0.34</text>\r\n",
       "<text text-anchor=\"middle\" x=\"1289.5\" y=\"-527.8\" font-family=\"Helvetica,sans-Serif\" font-size=\"14.00\">samples = 471</text>\r\n",
       "<text text-anchor=\"middle\" x=\"1289.5\" y=\"-512.8\" font-family=\"Helvetica,sans-Serif\" font-size=\"14.00\">value = [441, 30]</text>\r\n",
       "</g>\r\n",
       "<!-- 1&#45;&gt;4 -->\r\n",
       "<g id=\"edge31\" class=\"edge\"><title>1&#45;&gt;4</title>\r\n",
       "<path fill=\"none\" stroke=\"black\" d=\"M1188.2,-608.884C1202.29,-599.304 1217.79,-588.761 1232.35,-578.864\"/>\r\n",
       "<polygon fill=\"black\" stroke=\"black\" points=\"1234.49,-581.642 1240.79,-573.125 1230.55,-575.854 1234.49,-581.642\"/>\r\n",
       "</g>\r\n",
       "<!-- 9 -->\r\n",
       "<g id=\"node4\" class=\"node\"><title>9</title>\r\n",
       "<path fill=\"#abd5f4\" stroke=\"black\" d=\"M630.5,-469C630.5,-469 522.5,-469 522.5,-469 516.5,-469 510.5,-463 510.5,-457 510.5,-457 510.5,-413 510.5,-413 510.5,-407 516.5,-401 522.5,-401 522.5,-401 630.5,-401 630.5,-401 636.5,-401 642.5,-407 642.5,-413 642.5,-413 642.5,-457 642.5,-457 642.5,-463 636.5,-469 630.5,-469\"/>\r\n",
       "<text text-anchor=\"middle\" x=\"576.5\" y=\"-453.8\" font-family=\"Helvetica,sans-Serif\" font-size=\"14.00\">skewness &lt;= 5.16</text>\r\n",
       "<text text-anchor=\"middle\" x=\"576.5\" y=\"-438.8\" font-family=\"Helvetica,sans-Serif\" font-size=\"14.00\">entropy = 0.95</text>\r\n",
       "<text text-anchor=\"middle\" x=\"576.5\" y=\"-423.8\" font-family=\"Helvetica,sans-Serif\" font-size=\"14.00\">samples = 301</text>\r\n",
       "<text text-anchor=\"middle\" x=\"576.5\" y=\"-408.8\" font-family=\"Helvetica,sans-Serif\" font-size=\"14.00\">value = [110, 191]</text>\r\n",
       "</g>\r\n",
       "<!-- 3&#45;&gt;9 -->\r\n",
       "<g id=\"edge3\" class=\"edge\"><title>3&#45;&gt;9</title>\r\n",
       "<path fill=\"none\" stroke=\"black\" d=\"M921.081,-521.725C848.057,-503.558 730.032,-474.196 652.847,-454.994\"/>\r\n",
       "<polygon fill=\"black\" stroke=\"black\" points=\"653.254,-451.488 642.705,-452.471 651.564,-458.281 653.254,-451.488\"/>\r\n",
       "</g>\r\n",
       "<!-- 10 -->\r\n",
       "<g id=\"node23\" class=\"node\"><title>10</title>\r\n",
       "<path fill=\"#4ca6e7\" stroke=\"black\" d=\"M1040.5,-469C1040.5,-469 932.5,-469 932.5,-469 926.5,-469 920.5,-463 920.5,-457 920.5,-457 920.5,-413 920.5,-413 920.5,-407 926.5,-401 932.5,-401 932.5,-401 1040.5,-401 1040.5,-401 1046.5,-401 1052.5,-407 1052.5,-413 1052.5,-413 1052.5,-457 1052.5,-457 1052.5,-463 1046.5,-469 1040.5,-469\"/>\r\n",
       "<text text-anchor=\"middle\" x=\"986.5\" y=\"-453.8\" font-family=\"Helvetica,sans-Serif\" font-size=\"14.00\">skewness &lt;= 0.81</text>\r\n",
       "<text text-anchor=\"middle\" x=\"986.5\" y=\"-438.8\" font-family=\"Helvetica,sans-Serif\" font-size=\"14.00\">entropy = 0.43</text>\r\n",
       "<text text-anchor=\"middle\" x=\"986.5\" y=\"-423.8\" font-family=\"Helvetica,sans-Serif\" font-size=\"14.00\">samples = 183</text>\r\n",
       "<text text-anchor=\"middle\" x=\"986.5\" y=\"-408.8\" font-family=\"Helvetica,sans-Serif\" font-size=\"14.00\">value = [16, 167]</text>\r\n",
       "</g>\r\n",
       "<!-- 3&#45;&gt;10 -->\r\n",
       "<g id=\"edge22\" class=\"edge\"><title>3&#45;&gt;10</title>\r\n",
       "<path fill=\"none\" stroke=\"black\" d=\"M986.5,-504.884C986.5,-496.778 986.5,-487.982 986.5,-479.472\"/>\r\n",
       "<polygon fill=\"black\" stroke=\"black\" points=\"990,-479.299 986.5,-469.299 983,-479.299 990,-479.299\"/>\r\n",
       "</g>\r\n",
       "<!-- 11 -->\r\n",
       "<g id=\"node5\" class=\"node\"><title>11</title>\r\n",
       "<path fill=\"#57ace9\" stroke=\"black\" d=\"M300.5,-365C300.5,-365 202.5,-365 202.5,-365 196.5,-365 190.5,-359 190.5,-353 190.5,-353 190.5,-309 190.5,-309 190.5,-303 196.5,-297 202.5,-297 202.5,-297 300.5,-297 300.5,-297 306.5,-297 312.5,-303 312.5,-309 312.5,-309 312.5,-353 312.5,-353 312.5,-359 306.5,-365 300.5,-365\"/>\r\n",
       "<text text-anchor=\"middle\" x=\"251.5\" y=\"-349.8\" font-family=\"Helvetica,sans-Serif\" font-size=\"14.00\">curtosis &lt;= 0.75</text>\r\n",
       "<text text-anchor=\"middle\" x=\"251.5\" y=\"-334.8\" font-family=\"Helvetica,sans-Serif\" font-size=\"14.00\">entropy = 0.56</text>\r\n",
       "<text text-anchor=\"middle\" x=\"251.5\" y=\"-319.8\" font-family=\"Helvetica,sans-Serif\" font-size=\"14.00\">samples = 183</text>\r\n",
       "<text text-anchor=\"middle\" x=\"251.5\" y=\"-304.8\" font-family=\"Helvetica,sans-Serif\" font-size=\"14.00\">value = [24, 159]</text>\r\n",
       "</g>\r\n",
       "<!-- 9&#45;&gt;11 -->\r\n",
       "<g id=\"edge4\" class=\"edge\"><title>9&#45;&gt;11</title>\r\n",
       "<path fill=\"none\" stroke=\"black\" d=\"M510.34,-413.236C455.714,-396.092 378.355,-371.813 322.452,-354.268\"/>\r\n",
       "<polygon fill=\"black\" stroke=\"black\" points=\"323.213,-350.839 312.624,-351.184 321.117,-357.517 323.213,-350.839\"/>\r\n",
       "</g>\r\n",
       "<!-- 12 -->\r\n",
       "<g id=\"node12\" class=\"node\"><title>12</title>\r\n",
       "<path fill=\"#efb083\" stroke=\"black\" d=\"M625,-365C625,-365 528,-365 528,-365 522,-365 516,-359 516,-353 516,-353 516,-309 516,-309 516,-303 522,-297 528,-297 528,-297 625,-297 625,-297 631,-297 637,-303 637,-309 637,-309 637,-353 637,-353 637,-359 631,-365 625,-365\"/>\r\n",
       "<text text-anchor=\"middle\" x=\"576.5\" y=\"-349.8\" font-family=\"Helvetica,sans-Serif\" font-size=\"14.00\">entropy &lt;= &#45;5.96</text>\r\n",
       "<text text-anchor=\"middle\" x=\"576.5\" y=\"-334.8\" font-family=\"Helvetica,sans-Serif\" font-size=\"14.00\">entropy = 0.84</text>\r\n",
       "<text text-anchor=\"middle\" x=\"576.5\" y=\"-319.8\" font-family=\"Helvetica,sans-Serif\" font-size=\"14.00\">samples = 118</text>\r\n",
       "<text text-anchor=\"middle\" x=\"576.5\" y=\"-304.8\" font-family=\"Helvetica,sans-Serif\" font-size=\"14.00\">value = [86, 32]</text>\r\n",
       "</g>\r\n",
       "<!-- 9&#45;&gt;12 -->\r\n",
       "<g id=\"edge11\" class=\"edge\"><title>9&#45;&gt;12</title>\r\n",
       "<path fill=\"none\" stroke=\"black\" d=\"M576.5,-400.884C576.5,-392.778 576.5,-383.982 576.5,-375.472\"/>\r\n",
       "<polygon fill=\"black\" stroke=\"black\" points=\"580,-375.299 576.5,-365.299 573,-375.299 580,-375.299\"/>\r\n",
       "</g>\r\n",
       "<!-- 13 -->\r\n",
       "<g id=\"node6\" class=\"node\"><title>13</title>\r\n",
       "<path fill=\"#399de5\" stroke=\"black\" d=\"M158,-253.5C158,-253.5 69,-253.5 69,-253.5 63,-253.5 57,-247.5 57,-241.5 57,-241.5 57,-212.5 57,-212.5 57,-206.5 63,-200.5 69,-200.5 69,-200.5 158,-200.5 158,-200.5 164,-200.5 170,-206.5 170,-212.5 170,-212.5 170,-241.5 170,-241.5 170,-247.5 164,-253.5 158,-253.5\"/>\r\n",
       "<text text-anchor=\"middle\" x=\"113.5\" y=\"-238.3\" font-family=\"Helvetica,sans-Serif\" font-size=\"14.00\">entropy = 0.0</text>\r\n",
       "<text text-anchor=\"middle\" x=\"113.5\" y=\"-223.3\" font-family=\"Helvetica,sans-Serif\" font-size=\"14.00\">samples = 136</text>\r\n",
       "<text text-anchor=\"middle\" x=\"113.5\" y=\"-208.3\" font-family=\"Helvetica,sans-Serif\" font-size=\"14.00\">value = [0, 136]</text>\r\n",
       "</g>\r\n",
       "<!-- 11&#45;&gt;13 -->\r\n",
       "<g id=\"edge5\" class=\"edge\"><title>11&#45;&gt;13</title>\r\n",
       "<path fill=\"none\" stroke=\"black\" d=\"M206.695,-296.884C190.477,-284.896 172.216,-271.399 156.185,-259.549\"/>\r\n",
       "<polygon fill=\"black\" stroke=\"black\" points=\"158.149,-256.649 148.027,-253.52 153.988,-262.279 158.149,-256.649\"/>\r\n",
       "</g>\r\n",
       "<!-- 14 -->\r\n",
       "<g id=\"node7\" class=\"node\"><title>14</title>\r\n",
       "<path fill=\"#fefaf7\" stroke=\"black\" d=\"M302.5,-261C302.5,-261 200.5,-261 200.5,-261 194.5,-261 188.5,-255 188.5,-249 188.5,-249 188.5,-205 188.5,-205 188.5,-199 194.5,-193 200.5,-193 200.5,-193 302.5,-193 302.5,-193 308.5,-193 314.5,-199 314.5,-205 314.5,-205 314.5,-249 314.5,-249 314.5,-255 308.5,-261 302.5,-261\"/>\r\n",
       "<text text-anchor=\"middle\" x=\"251.5\" y=\"-245.8\" font-family=\"Helvetica,sans-Serif\" font-size=\"14.00\">variance &lt;= &#45;1.55</text>\r\n",
       "<text text-anchor=\"middle\" x=\"251.5\" y=\"-230.8\" font-family=\"Helvetica,sans-Serif\" font-size=\"14.00\">entropy = 1.0</text>\r\n",
       "<text text-anchor=\"middle\" x=\"251.5\" y=\"-215.8\" font-family=\"Helvetica,sans-Serif\" font-size=\"14.00\">samples = 47</text>\r\n",
       "<text text-anchor=\"middle\" x=\"251.5\" y=\"-200.8\" font-family=\"Helvetica,sans-Serif\" font-size=\"14.00\">value = [24, 23]</text>\r\n",
       "</g>\r\n",
       "<!-- 11&#45;&gt;14 -->\r\n",
       "<g id=\"edge6\" class=\"edge\"><title>11&#45;&gt;14</title>\r\n",
       "<path fill=\"none\" stroke=\"black\" d=\"M251.5,-296.884C251.5,-288.778 251.5,-279.982 251.5,-271.472\"/>\r\n",
       "<polygon fill=\"black\" stroke=\"black\" points=\"255,-271.299 251.5,-261.299 248,-271.299 255,-271.299\"/>\r\n",
       "</g>\r\n",
       "<!-- 15 -->\r\n",
       "<g id=\"node8\" class=\"node\"><title>15</title>\r\n",
       "<path fill=\"#42a1e6\" stroke=\"black\" d=\"M168.5,-157C168.5,-157 60.5,-157 60.5,-157 54.5,-157 48.5,-151 48.5,-145 48.5,-145 48.5,-101 48.5,-101 48.5,-95 54.5,-89 60.5,-89 60.5,-89 168.5,-89 168.5,-89 174.5,-89 180.5,-95 180.5,-101 180.5,-101 180.5,-145 180.5,-145 180.5,-151 174.5,-157 168.5,-157\"/>\r\n",
       "<text text-anchor=\"middle\" x=\"114.5\" y=\"-141.8\" font-family=\"Helvetica,sans-Serif\" font-size=\"14.00\">skewness &lt;= 1.12</text>\r\n",
       "<text text-anchor=\"middle\" x=\"114.5\" y=\"-126.8\" font-family=\"Helvetica,sans-Serif\" font-size=\"14.00\">entropy = 0.25</text>\r\n",
       "<text text-anchor=\"middle\" x=\"114.5\" y=\"-111.8\" font-family=\"Helvetica,sans-Serif\" font-size=\"14.00\">samples = 24</text>\r\n",
       "<text text-anchor=\"middle\" x=\"114.5\" y=\"-96.8\" font-family=\"Helvetica,sans-Serif\" font-size=\"14.00\">value = [1, 23]</text>\r\n",
       "</g>\r\n",
       "<!-- 14&#45;&gt;15 -->\r\n",
       "<g id=\"edge7\" class=\"edge\"><title>14&#45;&gt;15</title>\r\n",
       "<path fill=\"none\" stroke=\"black\" d=\"M207.02,-192.884C194.338,-183.442 180.399,-173.064 167.274,-163.292\"/>\r\n",
       "<polygon fill=\"black\" stroke=\"black\" points=\"169.337,-160.464 159.226,-157.299 165.156,-166.079 169.337,-160.464\"/>\r\n",
       "</g>\r\n",
       "<!-- 16 -->\r\n",
       "<g id=\"node11\" class=\"node\"><title>16</title>\r\n",
       "<path fill=\"#e58139\" stroke=\"black\" d=\"M292,-149.5C292,-149.5 211,-149.5 211,-149.5 205,-149.5 199,-143.5 199,-137.5 199,-137.5 199,-108.5 199,-108.5 199,-102.5 205,-96.5 211,-96.5 211,-96.5 292,-96.5 292,-96.5 298,-96.5 304,-102.5 304,-108.5 304,-108.5 304,-137.5 304,-137.5 304,-143.5 298,-149.5 292,-149.5\"/>\r\n",
       "<text text-anchor=\"middle\" x=\"251.5\" y=\"-134.3\" font-family=\"Helvetica,sans-Serif\" font-size=\"14.00\">entropy = 0.0</text>\r\n",
       "<text text-anchor=\"middle\" x=\"251.5\" y=\"-119.3\" font-family=\"Helvetica,sans-Serif\" font-size=\"14.00\">samples = 23</text>\r\n",
       "<text text-anchor=\"middle\" x=\"251.5\" y=\"-104.3\" font-family=\"Helvetica,sans-Serif\" font-size=\"14.00\">value = [23, 0]</text>\r\n",
       "</g>\r\n",
       "<!-- 14&#45;&gt;16 -->\r\n",
       "<g id=\"edge10\" class=\"edge\"><title>14&#45;&gt;16</title>\r\n",
       "<path fill=\"none\" stroke=\"black\" d=\"M251.5,-192.884C251.5,-182.326 251.5,-170.597 251.5,-159.854\"/>\r\n",
       "<polygon fill=\"black\" stroke=\"black\" points=\"255,-159.52 251.5,-149.52 248,-159.52 255,-159.52\"/>\r\n",
       "</g>\r\n",
       "<!-- 35 -->\r\n",
       "<g id=\"node9\" class=\"node\"><title>35</title>\r\n",
       "<path fill=\"#399de5\" stroke=\"black\" d=\"M93,-53C93,-53 12,-53 12,-53 6,-53 0,-47 0,-41 0,-41 0,-12 0,-12 0,-6 6,-0 12,-0 12,-0 93,-0 93,-0 99,-0 105,-6 105,-12 105,-12 105,-41 105,-41 105,-47 99,-53 93,-53\"/>\r\n",
       "<text text-anchor=\"middle\" x=\"52.5\" y=\"-37.8\" font-family=\"Helvetica,sans-Serif\" font-size=\"14.00\">entropy = 0.0</text>\r\n",
       "<text text-anchor=\"middle\" x=\"52.5\" y=\"-22.8\" font-family=\"Helvetica,sans-Serif\" font-size=\"14.00\">samples = 19</text>\r\n",
       "<text text-anchor=\"middle\" x=\"52.5\" y=\"-7.8\" font-family=\"Helvetica,sans-Serif\" font-size=\"14.00\">value = [0, 19]</text>\r\n",
       "</g>\r\n",
       "<!-- 15&#45;&gt;35 -->\r\n",
       "<g id=\"edge8\" class=\"edge\"><title>15&#45;&gt;35</title>\r\n",
       "<path fill=\"none\" stroke=\"black\" d=\"M92.8154,-88.9485C87.0536,-80.1664 80.8185,-70.6629 75.0136,-61.815\"/>\r\n",
       "<polygon fill=\"black\" stroke=\"black\" points=\"77.7975,-59.6779 69.3855,-53.2367 71.9447,-63.5178 77.7975,-59.6779\"/>\r\n",
       "</g>\r\n",
       "<!-- 36 -->\r\n",
       "<g id=\"node10\" class=\"node\"><title>36</title>\r\n",
       "<path fill=\"#6ab6ec\" stroke=\"black\" d=\"M219.5,-53C219.5,-53 135.5,-53 135.5,-53 129.5,-53 123.5,-47 123.5,-41 123.5,-41 123.5,-12 123.5,-12 123.5,-6 129.5,-0 135.5,-0 135.5,-0 219.5,-0 219.5,-0 225.5,-0 231.5,-6 231.5,-12 231.5,-12 231.5,-41 231.5,-41 231.5,-47 225.5,-53 219.5,-53\"/>\r\n",
       "<text text-anchor=\"middle\" x=\"177.5\" y=\"-37.8\" font-family=\"Helvetica,sans-Serif\" font-size=\"14.00\">entropy = 0.72</text>\r\n",
       "<text text-anchor=\"middle\" x=\"177.5\" y=\"-22.8\" font-family=\"Helvetica,sans-Serif\" font-size=\"14.00\">samples = 5</text>\r\n",
       "<text text-anchor=\"middle\" x=\"177.5\" y=\"-7.8\" font-family=\"Helvetica,sans-Serif\" font-size=\"14.00\">value = [1, 4]</text>\r\n",
       "</g>\r\n",
       "<!-- 15&#45;&gt;36 -->\r\n",
       "<g id=\"edge9\" class=\"edge\"><title>15&#45;&gt;36</title>\r\n",
       "<path fill=\"none\" stroke=\"black\" d=\"M136.534,-88.9485C142.389,-80.1664 148.725,-70.6629 154.623,-61.815\"/>\r\n",
       "<polygon fill=\"black\" stroke=\"black\" points=\"157.707,-63.4987 160.342,-53.2367 151.883,-59.6158 157.707,-63.4987\"/>\r\n",
       "</g>\r\n",
       "<!-- 19 -->\r\n",
       "<g id=\"node13\" class=\"node\"><title>19</title>\r\n",
       "<path fill=\"#97cbf1\" stroke=\"black\" d=\"M557.5,-261C557.5,-261 449.5,-261 449.5,-261 443.5,-261 437.5,-255 437.5,-249 437.5,-249 437.5,-205 437.5,-205 437.5,-199 443.5,-193 449.5,-193 449.5,-193 557.5,-193 557.5,-193 563.5,-193 569.5,-199 569.5,-205 569.5,-205 569.5,-249 569.5,-249 569.5,-255 563.5,-261 557.5,-261\"/>\r\n",
       "<text text-anchor=\"middle\" x=\"503.5\" y=\"-245.8\" font-family=\"Helvetica,sans-Serif\" font-size=\"14.00\">skewness &lt;= 9.16</text>\r\n",
       "<text text-anchor=\"middle\" x=\"503.5\" y=\"-230.8\" font-family=\"Helvetica,sans-Serif\" font-size=\"14.00\">entropy = 0.91</text>\r\n",
       "<text text-anchor=\"middle\" x=\"503.5\" y=\"-215.8\" font-family=\"Helvetica,sans-Serif\" font-size=\"14.00\">samples = 28</text>\r\n",
       "<text text-anchor=\"middle\" x=\"503.5\" y=\"-200.8\" font-family=\"Helvetica,sans-Serif\" font-size=\"14.00\">value = [9, 19]</text>\r\n",
       "</g>\r\n",
       "<!-- 12&#45;&gt;19 -->\r\n",
       "<g id=\"edge12\" class=\"edge\"><title>12&#45;&gt;19</title>\r\n",
       "<path fill=\"none\" stroke=\"black\" d=\"M552.799,-296.884C546.552,-288.154 539.731,-278.625 533.211,-269.514\"/>\r\n",
       "<polygon fill=\"black\" stroke=\"black\" points=\"535.998,-267.394 527.332,-261.299 530.306,-271.468 535.998,-267.394\"/>\r\n",
       "</g>\r\n",
       "<!-- 20 -->\r\n",
       "<g id=\"node18\" class=\"node\"><title>20</title>\r\n",
       "<path fill=\"#e9965a\" stroke=\"black\" d=\"M701.5,-261C701.5,-261 599.5,-261 599.5,-261 593.5,-261 587.5,-255 587.5,-249 587.5,-249 587.5,-205 587.5,-205 587.5,-199 593.5,-193 599.5,-193 599.5,-193 701.5,-193 701.5,-193 707.5,-193 713.5,-199 713.5,-205 713.5,-205 713.5,-249 713.5,-249 713.5,-255 707.5,-261 701.5,-261\"/>\r\n",
       "<text text-anchor=\"middle\" x=\"650.5\" y=\"-245.8\" font-family=\"Helvetica,sans-Serif\" font-size=\"14.00\">variance &lt;= &#45;3.37</text>\r\n",
       "<text text-anchor=\"middle\" x=\"650.5\" y=\"-230.8\" font-family=\"Helvetica,sans-Serif\" font-size=\"14.00\">entropy = 0.6</text>\r\n",
       "<text text-anchor=\"middle\" x=\"650.5\" y=\"-215.8\" font-family=\"Helvetica,sans-Serif\" font-size=\"14.00\">samples = 90</text>\r\n",
       "<text text-anchor=\"middle\" x=\"650.5\" y=\"-200.8\" font-family=\"Helvetica,sans-Serif\" font-size=\"14.00\">value = [77, 13]</text>\r\n",
       "</g>\r\n",
       "<!-- 12&#45;&gt;20 -->\r\n",
       "<g id=\"edge17\" class=\"edge\"><title>12&#45;&gt;20</title>\r\n",
       "<path fill=\"none\" stroke=\"black\" d=\"M600.526,-296.884C606.859,-288.154 613.772,-278.625 620.382,-269.514\"/>\r\n",
       "<polygon fill=\"black\" stroke=\"black\" points=\"623.302,-271.449 626.342,-261.299 617.636,-267.338 623.302,-271.449\"/>\r\n",
       "</g>\r\n",
       "<!-- 23 -->\r\n",
       "<g id=\"node14\" class=\"node\"><title>23</title>\r\n",
       "<path fill=\"#399de5\" stroke=\"black\" d=\"M415,-149.5C415,-149.5 334,-149.5 334,-149.5 328,-149.5 322,-143.5 322,-137.5 322,-137.5 322,-108.5 322,-108.5 322,-102.5 328,-96.5 334,-96.5 334,-96.5 415,-96.5 415,-96.5 421,-96.5 427,-102.5 427,-108.5 427,-108.5 427,-137.5 427,-137.5 427,-143.5 421,-149.5 415,-149.5\"/>\r\n",
       "<text text-anchor=\"middle\" x=\"374.5\" y=\"-134.3\" font-family=\"Helvetica,sans-Serif\" font-size=\"14.00\">entropy = 0.0</text>\r\n",
       "<text text-anchor=\"middle\" x=\"374.5\" y=\"-119.3\" font-family=\"Helvetica,sans-Serif\" font-size=\"14.00\">samples = 16</text>\r\n",
       "<text text-anchor=\"middle\" x=\"374.5\" y=\"-104.3\" font-family=\"Helvetica,sans-Serif\" font-size=\"14.00\">value = [0, 16]</text>\r\n",
       "</g>\r\n",
       "<!-- 19&#45;&gt;23 -->\r\n",
       "<g id=\"edge13\" class=\"edge\"><title>19&#45;&gt;23</title>\r\n",
       "<path fill=\"none\" stroke=\"black\" d=\"M461.617,-192.884C446.596,-181.006 429.7,-167.646 414.814,-155.876\"/>\r\n",
       "<polygon fill=\"black\" stroke=\"black\" points=\"416.79,-152.977 406.775,-149.52 412.449,-158.468 416.79,-152.977\"/>\r\n",
       "</g>\r\n",
       "<!-- 24 -->\r\n",
       "<g id=\"node15\" class=\"node\"><title>24</title>\r\n",
       "<path fill=\"#eeab7b\" stroke=\"black\" d=\"M559.5,-157C559.5,-157 457.5,-157 457.5,-157 451.5,-157 445.5,-151 445.5,-145 445.5,-145 445.5,-101 445.5,-101 445.5,-95 451.5,-89 457.5,-89 457.5,-89 559.5,-89 559.5,-89 565.5,-89 571.5,-95 571.5,-101 571.5,-101 571.5,-145 571.5,-145 571.5,-151 565.5,-157 559.5,-157\"/>\r\n",
       "<text text-anchor=\"middle\" x=\"508.5\" y=\"-141.8\" font-family=\"Helvetica,sans-Serif\" font-size=\"14.00\">variance &lt;= &#45;2.39</text>\r\n",
       "<text text-anchor=\"middle\" x=\"508.5\" y=\"-126.8\" font-family=\"Helvetica,sans-Serif\" font-size=\"14.00\">entropy = 0.81</text>\r\n",
       "<text text-anchor=\"middle\" x=\"508.5\" y=\"-111.8\" font-family=\"Helvetica,sans-Serif\" font-size=\"14.00\">samples = 12</text>\r\n",
       "<text text-anchor=\"middle\" x=\"508.5\" y=\"-96.8\" font-family=\"Helvetica,sans-Serif\" font-size=\"14.00\">value = [9, 3]</text>\r\n",
       "</g>\r\n",
       "<!-- 19&#45;&gt;24 -->\r\n",
       "<g id=\"edge14\" class=\"edge\"><title>19&#45;&gt;24</title>\r\n",
       "<path fill=\"none\" stroke=\"black\" d=\"M505.123,-192.884C505.521,-184.778 505.952,-175.982 506.369,-167.472\"/>\r\n",
       "<polygon fill=\"black\" stroke=\"black\" points=\"509.874,-167.459 506.868,-157.299 502.882,-167.116 509.874,-167.459\"/>\r\n",
       "</g>\r\n",
       "<!-- 33 -->\r\n",
       "<g id=\"node16\" class=\"node\"><title>33</title>\r\n",
       "<path fill=\"#bddef6\" stroke=\"black\" d=\"M434.5,-53C434.5,-53 350.5,-53 350.5,-53 344.5,-53 338.5,-47 338.5,-41 338.5,-41 338.5,-12 338.5,-12 338.5,-6 344.5,-0 350.5,-0 350.5,-0 434.5,-0 434.5,-0 440.5,-0 446.5,-6 446.5,-12 446.5,-12 446.5,-41 446.5,-41 446.5,-47 440.5,-53 434.5,-53\"/>\r\n",
       "<text text-anchor=\"middle\" x=\"392.5\" y=\"-37.8\" font-family=\"Helvetica,sans-Serif\" font-size=\"14.00\">entropy = 0.97</text>\r\n",
       "<text text-anchor=\"middle\" x=\"392.5\" y=\"-22.8\" font-family=\"Helvetica,sans-Serif\" font-size=\"14.00\">samples = 5</text>\r\n",
       "<text text-anchor=\"middle\" x=\"392.5\" y=\"-7.8\" font-family=\"Helvetica,sans-Serif\" font-size=\"14.00\">value = [2, 3]</text>\r\n",
       "</g>\r\n",
       "<!-- 24&#45;&gt;33 -->\r\n",
       "<g id=\"edge15\" class=\"edge\"><title>24&#45;&gt;33</title>\r\n",
       "<path fill=\"none\" stroke=\"black\" d=\"M467.929,-88.9485C456.25,-79.4346 443.533,-69.074 431.925,-59.6175\"/>\r\n",
       "<polygon fill=\"black\" stroke=\"black\" points=\"434.056,-56.8392 424.092,-53.2367 429.635,-62.2663 434.056,-56.8392\"/>\r\n",
       "</g>\r\n",
       "<!-- 34 -->\r\n",
       "<g id=\"node17\" class=\"node\"><title>34</title>\r\n",
       "<path fill=\"#e58139\" stroke=\"black\" d=\"M552.5,-53C552.5,-53 476.5,-53 476.5,-53 470.5,-53 464.5,-47 464.5,-41 464.5,-41 464.5,-12 464.5,-12 464.5,-6 470.5,-0 476.5,-0 476.5,-0 552.5,-0 552.5,-0 558.5,-0 564.5,-6 564.5,-12 564.5,-12 564.5,-41 564.5,-41 564.5,-47 558.5,-53 552.5,-53\"/>\r\n",
       "<text text-anchor=\"middle\" x=\"514.5\" y=\"-37.8\" font-family=\"Helvetica,sans-Serif\" font-size=\"14.00\">entropy = 0.0</text>\r\n",
       "<text text-anchor=\"middle\" x=\"514.5\" y=\"-22.8\" font-family=\"Helvetica,sans-Serif\" font-size=\"14.00\">samples = 7</text>\r\n",
       "<text text-anchor=\"middle\" x=\"514.5\" y=\"-7.8\" font-family=\"Helvetica,sans-Serif\" font-size=\"14.00\">value = [7, 0]</text>\r\n",
       "</g>\r\n",
       "<!-- 24&#45;&gt;34 -->\r\n",
       "<g id=\"edge16\" class=\"edge\"><title>24&#45;&gt;34</title>\r\n",
       "<path fill=\"none\" stroke=\"black\" d=\"M510.599,-88.9485C511.121,-80.7153 511.684,-71.848 512.215,-63.4814\"/>\r\n",
       "<polygon fill=\"black\" stroke=\"black\" points=\"515.725,-63.4384 512.866,-53.2367 508.739,-62.9948 515.725,-63.4384\"/>\r\n",
       "</g>\r\n",
       "<!-- 21 -->\r\n",
       "<g id=\"node19\" class=\"node\"><title>21</title>\r\n",
       "<path fill=\"#48a5e7\" stroke=\"black\" d=\"M699,-157C699,-157 602,-157 602,-157 596,-157 590,-151 590,-145 590,-145 590,-101 590,-101 590,-95 596,-89 602,-89 602,-89 699,-89 699,-89 705,-89 711,-95 711,-101 711,-101 711,-145 711,-145 711,-151 705,-157 699,-157\"/>\r\n",
       "<text text-anchor=\"middle\" x=\"650.5\" y=\"-141.8\" font-family=\"Helvetica,sans-Serif\" font-size=\"14.00\">entropy &lt;= &#45;3.67</text>\r\n",
       "<text text-anchor=\"middle\" x=\"650.5\" y=\"-126.8\" font-family=\"Helvetica,sans-Serif\" font-size=\"14.00\">entropy = 0.37</text>\r\n",
       "<text text-anchor=\"middle\" x=\"650.5\" y=\"-111.8\" font-family=\"Helvetica,sans-Serif\" font-size=\"14.00\">samples = 14</text>\r\n",
       "<text text-anchor=\"middle\" x=\"650.5\" y=\"-96.8\" font-family=\"Helvetica,sans-Serif\" font-size=\"14.00\">value = [1, 13]</text>\r\n",
       "</g>\r\n",
       "<!-- 20&#45;&gt;21 -->\r\n",
       "<g id=\"edge18\" class=\"edge\"><title>20&#45;&gt;21</title>\r\n",
       "<path fill=\"none\" stroke=\"black\" d=\"M650.5,-192.884C650.5,-184.778 650.5,-175.982 650.5,-167.472\"/>\r\n",
       "<polygon fill=\"black\" stroke=\"black\" points=\"654,-167.299 650.5,-157.299 647,-167.299 654,-167.299\"/>\r\n",
       "</g>\r\n",
       "<!-- 22 -->\r\n",
       "<g id=\"node22\" class=\"node\"><title>22</title>\r\n",
       "<path fill=\"#e58139\" stroke=\"black\" d=\"M822,-149.5C822,-149.5 741,-149.5 741,-149.5 735,-149.5 729,-143.5 729,-137.5 729,-137.5 729,-108.5 729,-108.5 729,-102.5 735,-96.5 741,-96.5 741,-96.5 822,-96.5 822,-96.5 828,-96.5 834,-102.5 834,-108.5 834,-108.5 834,-137.5 834,-137.5 834,-143.5 828,-149.5 822,-149.5\"/>\r\n",
       "<text text-anchor=\"middle\" x=\"781.5\" y=\"-134.3\" font-family=\"Helvetica,sans-Serif\" font-size=\"14.00\">entropy = 0.0</text>\r\n",
       "<text text-anchor=\"middle\" x=\"781.5\" y=\"-119.3\" font-family=\"Helvetica,sans-Serif\" font-size=\"14.00\">samples = 76</text>\r\n",
       "<text text-anchor=\"middle\" x=\"781.5\" y=\"-104.3\" font-family=\"Helvetica,sans-Serif\" font-size=\"14.00\">value = [76, 0]</text>\r\n",
       "</g>\r\n",
       "<!-- 20&#45;&gt;22 -->\r\n",
       "<g id=\"edge21\" class=\"edge\"><title>20&#45;&gt;22</title>\r\n",
       "<path fill=\"none\" stroke=\"black\" d=\"M693.032,-192.884C708.287,-181.006 725.444,-167.646 740.561,-155.876\"/>\r\n",
       "<polygon fill=\"black\" stroke=\"black\" points=\"742.984,-158.425 748.724,-149.52 738.684,-152.902 742.984,-158.425\"/>\r\n",
       "</g>\r\n",
       "<!-- 37 -->\r\n",
       "<g id=\"node20\" class=\"node\"><title>37</title>\r\n",
       "<path fill=\"#399de5\" stroke=\"black\" d=\"M682.5,-53C682.5,-53 606.5,-53 606.5,-53 600.5,-53 594.5,-47 594.5,-41 594.5,-41 594.5,-12 594.5,-12 594.5,-6 600.5,-0 606.5,-0 606.5,-0 682.5,-0 682.5,-0 688.5,-0 694.5,-6 694.5,-12 694.5,-12 694.5,-41 694.5,-41 694.5,-47 688.5,-53 682.5,-53\"/>\r\n",
       "<text text-anchor=\"middle\" x=\"644.5\" y=\"-37.8\" font-family=\"Helvetica,sans-Serif\" font-size=\"14.00\">entropy = 0.0</text>\r\n",
       "<text text-anchor=\"middle\" x=\"644.5\" y=\"-22.8\" font-family=\"Helvetica,sans-Serif\" font-size=\"14.00\">samples = 9</text>\r\n",
       "<text text-anchor=\"middle\" x=\"644.5\" y=\"-7.8\" font-family=\"Helvetica,sans-Serif\" font-size=\"14.00\">value = [0, 9]</text>\r\n",
       "</g>\r\n",
       "<!-- 21&#45;&gt;37 -->\r\n",
       "<g id=\"edge19\" class=\"edge\"><title>21&#45;&gt;37</title>\r\n",
       "<path fill=\"none\" stroke=\"black\" d=\"M648.401,-88.9485C647.879,-80.7153 647.316,-71.848 646.785,-63.4814\"/>\r\n",
       "<polygon fill=\"black\" stroke=\"black\" points=\"650.261,-62.9948 646.134,-53.2367 643.275,-63.4384 650.261,-62.9948\"/>\r\n",
       "</g>\r\n",
       "<!-- 38 -->\r\n",
       "<g id=\"node21\" class=\"node\"><title>38</title>\r\n",
       "<path fill=\"#6ab6ec\" stroke=\"black\" d=\"M808.5,-53C808.5,-53 724.5,-53 724.5,-53 718.5,-53 712.5,-47 712.5,-41 712.5,-41 712.5,-12 712.5,-12 712.5,-6 718.5,-0 724.5,-0 724.5,-0 808.5,-0 808.5,-0 814.5,-0 820.5,-6 820.5,-12 820.5,-12 820.5,-41 820.5,-41 820.5,-47 814.5,-53 808.5,-53\"/>\r\n",
       "<text text-anchor=\"middle\" x=\"766.5\" y=\"-37.8\" font-family=\"Helvetica,sans-Serif\" font-size=\"14.00\">entropy = 0.72</text>\r\n",
       "<text text-anchor=\"middle\" x=\"766.5\" y=\"-22.8\" font-family=\"Helvetica,sans-Serif\" font-size=\"14.00\">samples = 5</text>\r\n",
       "<text text-anchor=\"middle\" x=\"766.5\" y=\"-7.8\" font-family=\"Helvetica,sans-Serif\" font-size=\"14.00\">value = [1, 4]</text>\r\n",
       "</g>\r\n",
       "<!-- 21&#45;&gt;38 -->\r\n",
       "<g id=\"edge20\" class=\"edge\"><title>21&#45;&gt;38</title>\r\n",
       "<path fill=\"none\" stroke=\"black\" d=\"M691.071,-88.9485C702.75,-79.4346 715.467,-69.074 727.075,-59.6175\"/>\r\n",
       "<polygon fill=\"black\" stroke=\"black\" points=\"729.365,-62.2663 734.908,-53.2367 724.944,-56.8392 729.365,-62.2663\"/>\r\n",
       "</g>\r\n",
       "<!-- 17 -->\r\n",
       "<g id=\"node24\" class=\"node\"><title>17</title>\r\n",
       "<path fill=\"#42a1e6\" stroke=\"black\" d=\"M964.5,-365C964.5,-365 870.5,-365 870.5,-365 864.5,-365 858.5,-359 858.5,-353 858.5,-353 858.5,-309 858.5,-309 858.5,-303 864.5,-297 870.5,-297 870.5,-297 964.5,-297 964.5,-297 970.5,-297 976.5,-303 976.5,-309 976.5,-309 976.5,-353 976.5,-353 976.5,-359 970.5,-365 964.5,-365\"/>\r\n",
       "<text text-anchor=\"middle\" x=\"917.5\" y=\"-349.8\" font-family=\"Helvetica,sans-Serif\" font-size=\"14.00\">variance &lt;= &#45;0.4</text>\r\n",
       "<text text-anchor=\"middle\" x=\"917.5\" y=\"-334.8\" font-family=\"Helvetica,sans-Serif\" font-size=\"14.00\">entropy = 0.25</text>\r\n",
       "<text text-anchor=\"middle\" x=\"917.5\" y=\"-319.8\" font-family=\"Helvetica,sans-Serif\" font-size=\"14.00\">samples = 168</text>\r\n",
       "<text text-anchor=\"middle\" x=\"917.5\" y=\"-304.8\" font-family=\"Helvetica,sans-Serif\" font-size=\"14.00\">value = [7, 161]</text>\r\n",
       "</g>\r\n",
       "<!-- 10&#45;&gt;17 -->\r\n",
       "<g id=\"edge23\" class=\"edge\"><title>10&#45;&gt;17</title>\r\n",
       "<path fill=\"none\" stroke=\"black\" d=\"M964.098,-400.884C958.253,-392.243 951.878,-382.819 945.772,-373.793\"/>\r\n",
       "<polygon fill=\"black\" stroke=\"black\" points=\"948.528,-371.621 940.026,-365.299 942.73,-375.543 948.528,-371.621\"/>\r\n",
       "</g>\r\n",
       "<!-- 18 -->\r\n",
       "<g id=\"node29\" class=\"node\"><title>18</title>\r\n",
       "<path fill=\"#f6d5bd\" stroke=\"black\" d=\"M1102,-365C1102,-365 1007,-365 1007,-365 1001,-365 995,-359 995,-353 995,-353 995,-309 995,-309 995,-303 1001,-297 1007,-297 1007,-297 1102,-297 1102,-297 1108,-297 1114,-303 1114,-309 1114,-309 1114,-353 1114,-353 1114,-359 1108,-365 1102,-365\"/>\r\n",
       "<text text-anchor=\"middle\" x=\"1054.5\" y=\"-349.8\" font-family=\"Helvetica,sans-Serif\" font-size=\"14.00\">curtosis &lt;= 2.56</text>\r\n",
       "<text text-anchor=\"middle\" x=\"1054.5\" y=\"-334.8\" font-family=\"Helvetica,sans-Serif\" font-size=\"14.00\">entropy = 0.97</text>\r\n",
       "<text text-anchor=\"middle\" x=\"1054.5\" y=\"-319.8\" font-family=\"Helvetica,sans-Serif\" font-size=\"14.00\">samples = 15</text>\r\n",
       "<text text-anchor=\"middle\" x=\"1054.5\" y=\"-304.8\" font-family=\"Helvetica,sans-Serif\" font-size=\"14.00\">value = [9, 6]</text>\r\n",
       "</g>\r\n",
       "<!-- 10&#45;&gt;18 -->\r\n",
       "<g id=\"edge28\" class=\"edge\"><title>10&#45;&gt;18</title>\r\n",
       "<path fill=\"none\" stroke=\"black\" d=\"M1008.58,-400.884C1014.34,-392.243 1020.62,-382.819 1026.64,-373.793\"/>\r\n",
       "<polygon fill=\"black\" stroke=\"black\" points=\"1029.67,-375.561 1032.3,-365.299 1023.84,-371.678 1029.67,-375.561\"/>\r\n",
       "</g>\r\n",
       "<!-- 25 -->\r\n",
       "<g id=\"node25\" class=\"node\"><title>25</title>\r\n",
       "<path fill=\"#399de5\" stroke=\"black\" d=\"M833,-253.5C833,-253.5 744,-253.5 744,-253.5 738,-253.5 732,-247.5 732,-241.5 732,-241.5 732,-212.5 732,-212.5 732,-206.5 738,-200.5 744,-200.5 744,-200.5 833,-200.5 833,-200.5 839,-200.5 845,-206.5 845,-212.5 845,-212.5 845,-241.5 845,-241.5 845,-247.5 839,-253.5 833,-253.5\"/>\r\n",
       "<text text-anchor=\"middle\" x=\"788.5\" y=\"-238.3\" font-family=\"Helvetica,sans-Serif\" font-size=\"14.00\">entropy = 0.0</text>\r\n",
       "<text text-anchor=\"middle\" x=\"788.5\" y=\"-223.3\" font-family=\"Helvetica,sans-Serif\" font-size=\"14.00\">samples = 127</text>\r\n",
       "<text text-anchor=\"middle\" x=\"788.5\" y=\"-208.3\" font-family=\"Helvetica,sans-Serif\" font-size=\"14.00\">value = [0, 127]</text>\r\n",
       "</g>\r\n",
       "<!-- 17&#45;&gt;25 -->\r\n",
       "<g id=\"edge24\" class=\"edge\"><title>17&#45;&gt;25</title>\r\n",
       "<path fill=\"none\" stroke=\"black\" d=\"M875.617,-296.884C860.596,-285.006 843.7,-271.646 828.814,-259.876\"/>\r\n",
       "<polygon fill=\"black\" stroke=\"black\" points=\"830.79,-256.977 820.775,-253.52 826.449,-262.468 830.79,-256.977\"/>\r\n",
       "</g>\r\n",
       "<!-- 26 -->\r\n",
       "<g id=\"node26\" class=\"node\"><title>26</title>\r\n",
       "<path fill=\"#62b1ea\" stroke=\"black\" d=\"M970,-261C970,-261 875,-261 875,-261 869,-261 863,-255 863,-249 863,-249 863,-205 863,-205 863,-199 869,-193 875,-193 875,-193 970,-193 970,-193 976,-193 982,-199 982,-205 982,-205 982,-249 982,-249 982,-255 976,-261 970,-261\"/>\r\n",
       "<text text-anchor=\"middle\" x=\"922.5\" y=\"-245.8\" font-family=\"Helvetica,sans-Serif\" font-size=\"14.00\">curtosis &lt;= 2.17</text>\r\n",
       "<text text-anchor=\"middle\" x=\"922.5\" y=\"-230.8\" font-family=\"Helvetica,sans-Serif\" font-size=\"14.00\">entropy = 0.66</text>\r\n",
       "<text text-anchor=\"middle\" x=\"922.5\" y=\"-215.8\" font-family=\"Helvetica,sans-Serif\" font-size=\"14.00\">samples = 41</text>\r\n",
       "<text text-anchor=\"middle\" x=\"922.5\" y=\"-200.8\" font-family=\"Helvetica,sans-Serif\" font-size=\"14.00\">value = [7, 34]</text>\r\n",
       "</g>\r\n",
       "<!-- 17&#45;&gt;26 -->\r\n",
       "<g id=\"edge25\" class=\"edge\"><title>17&#45;&gt;26</title>\r\n",
       "<path fill=\"none\" stroke=\"black\" d=\"M919.123,-296.884C919.521,-288.778 919.952,-279.982 920.369,-271.472\"/>\r\n",
       "<polygon fill=\"black\" stroke=\"black\" points=\"923.874,-271.459 920.868,-261.299 916.882,-271.116 923.874,-271.459\"/>\r\n",
       "</g>\r\n",
       "<!-- 27 -->\r\n",
       "<g id=\"node27\" class=\"node\"><title>27</title>\r\n",
       "<path fill=\"#399de5\" stroke=\"black\" d=\"M954,-149.5C954,-149.5 873,-149.5 873,-149.5 867,-149.5 861,-143.5 861,-137.5 861,-137.5 861,-108.5 861,-108.5 861,-102.5 867,-96.5 873,-96.5 873,-96.5 954,-96.5 954,-96.5 960,-96.5 966,-102.5 966,-108.5 966,-108.5 966,-137.5 966,-137.5 966,-143.5 960,-149.5 954,-149.5\"/>\r\n",
       "<text text-anchor=\"middle\" x=\"913.5\" y=\"-134.3\" font-family=\"Helvetica,sans-Serif\" font-size=\"14.00\">entropy = 0.0</text>\r\n",
       "<text text-anchor=\"middle\" x=\"913.5\" y=\"-119.3\" font-family=\"Helvetica,sans-Serif\" font-size=\"14.00\">samples = 33</text>\r\n",
       "<text text-anchor=\"middle\" x=\"913.5\" y=\"-104.3\" font-family=\"Helvetica,sans-Serif\" font-size=\"14.00\">value = [0, 33]</text>\r\n",
       "</g>\r\n",
       "<!-- 26&#45;&gt;27 -->\r\n",
       "<g id=\"edge26\" class=\"edge\"><title>26&#45;&gt;27</title>\r\n",
       "<path fill=\"none\" stroke=\"black\" d=\"M919.578,-192.884C918.637,-182.216 917.59,-170.352 916.634,-159.519\"/>\r\n",
       "<polygon fill=\"black\" stroke=\"black\" points=\"920.117,-159.174 915.752,-149.52 913.144,-159.789 920.117,-159.174\"/>\r\n",
       "</g>\r\n",
       "<!-- 28 -->\r\n",
       "<g id=\"node28\" class=\"node\"><title>28</title>\r\n",
       "<path fill=\"#e99355\" stroke=\"black\" d=\"M1080.5,-149.5C1080.5,-149.5 996.5,-149.5 996.5,-149.5 990.5,-149.5 984.5,-143.5 984.5,-137.5 984.5,-137.5 984.5,-108.5 984.5,-108.5 984.5,-102.5 990.5,-96.5 996.5,-96.5 996.5,-96.5 1080.5,-96.5 1080.5,-96.5 1086.5,-96.5 1092.5,-102.5 1092.5,-108.5 1092.5,-108.5 1092.5,-137.5 1092.5,-137.5 1092.5,-143.5 1086.5,-149.5 1080.5,-149.5\"/>\r\n",
       "<text text-anchor=\"middle\" x=\"1038.5\" y=\"-134.3\" font-family=\"Helvetica,sans-Serif\" font-size=\"14.00\">entropy = 0.54</text>\r\n",
       "<text text-anchor=\"middle\" x=\"1038.5\" y=\"-119.3\" font-family=\"Helvetica,sans-Serif\" font-size=\"14.00\">samples = 8</text>\r\n",
       "<text text-anchor=\"middle\" x=\"1038.5\" y=\"-104.3\" font-family=\"Helvetica,sans-Serif\" font-size=\"14.00\">value = [7, 1]</text>\r\n",
       "</g>\r\n",
       "<!-- 26&#45;&gt;28 -->\r\n",
       "<g id=\"edge27\" class=\"edge\"><title>26&#45;&gt;28</title>\r\n",
       "<path fill=\"none\" stroke=\"black\" d=\"M960.162,-192.884C973.545,-181.116 988.582,-167.894 1001.88,-156.203\"/>\r\n",
       "<polygon fill=\"black\" stroke=\"black\" points=\"1004.28,-158.752 1009.48,-149.52 999.656,-153.495 1004.28,-158.752\"/>\r\n",
       "</g>\r\n",
       "<!-- 29 -->\r\n",
       "<g id=\"node30\" class=\"node\"><title>29</title>\r\n",
       "<path fill=\"#399de5\" stroke=\"black\" d=\"M1088.5,-253.5C1088.5,-253.5 1012.5,-253.5 1012.5,-253.5 1006.5,-253.5 1000.5,-247.5 1000.5,-241.5 1000.5,-241.5 1000.5,-212.5 1000.5,-212.5 1000.5,-206.5 1006.5,-200.5 1012.5,-200.5 1012.5,-200.5 1088.5,-200.5 1088.5,-200.5 1094.5,-200.5 1100.5,-206.5 1100.5,-212.5 1100.5,-212.5 1100.5,-241.5 1100.5,-241.5 1100.5,-247.5 1094.5,-253.5 1088.5,-253.5\"/>\r\n",
       "<text text-anchor=\"middle\" x=\"1050.5\" y=\"-238.3\" font-family=\"Helvetica,sans-Serif\" font-size=\"14.00\">entropy = 0.0</text>\r\n",
       "<text text-anchor=\"middle\" x=\"1050.5\" y=\"-223.3\" font-family=\"Helvetica,sans-Serif\" font-size=\"14.00\">samples = 6</text>\r\n",
       "<text text-anchor=\"middle\" x=\"1050.5\" y=\"-208.3\" font-family=\"Helvetica,sans-Serif\" font-size=\"14.00\">value = [0, 6]</text>\r\n",
       "</g>\r\n",
       "<!-- 18&#45;&gt;29 -->\r\n",
       "<g id=\"edge29\" class=\"edge\"><title>18&#45;&gt;29</title>\r\n",
       "<path fill=\"none\" stroke=\"black\" d=\"M1053.2,-296.884C1052.78,-286.216 1052.32,-274.352 1051.89,-263.519\"/>\r\n",
       "<polygon fill=\"black\" stroke=\"black\" points=\"1055.39,-263.375 1051.5,-253.52 1048.4,-263.649 1055.39,-263.375\"/>\r\n",
       "</g>\r\n",
       "<!-- 30 -->\r\n",
       "<g id=\"node31\" class=\"node\"><title>30</title>\r\n",
       "<path fill=\"#e58139\" stroke=\"black\" d=\"M1206.5,-253.5C1206.5,-253.5 1130.5,-253.5 1130.5,-253.5 1124.5,-253.5 1118.5,-247.5 1118.5,-241.5 1118.5,-241.5 1118.5,-212.5 1118.5,-212.5 1118.5,-206.5 1124.5,-200.5 1130.5,-200.5 1130.5,-200.5 1206.5,-200.5 1206.5,-200.5 1212.5,-200.5 1218.5,-206.5 1218.5,-212.5 1218.5,-212.5 1218.5,-241.5 1218.5,-241.5 1218.5,-247.5 1212.5,-253.5 1206.5,-253.5\"/>\r\n",
       "<text text-anchor=\"middle\" x=\"1168.5\" y=\"-238.3\" font-family=\"Helvetica,sans-Serif\" font-size=\"14.00\">entropy = 0.0</text>\r\n",
       "<text text-anchor=\"middle\" x=\"1168.5\" y=\"-223.3\" font-family=\"Helvetica,sans-Serif\" font-size=\"14.00\">samples = 9</text>\r\n",
       "<text text-anchor=\"middle\" x=\"1168.5\" y=\"-208.3\" font-family=\"Helvetica,sans-Serif\" font-size=\"14.00\">value = [9, 0]</text>\r\n",
       "</g>\r\n",
       "<!-- 18&#45;&gt;30 -->\r\n",
       "<g id=\"edge30\" class=\"edge\"><title>18&#45;&gt;30</title>\r\n",
       "<path fill=\"none\" stroke=\"black\" d=\"M1091.51,-296.884C1104.66,-285.116 1119.44,-271.894 1132.51,-260.203\"/>\r\n",
       "<polygon fill=\"black\" stroke=\"black\" points=\"1134.86,-262.796 1139.98,-253.52 1130.19,-257.58 1134.86,-262.796\"/>\r\n",
       "</g>\r\n",
       "<!-- 5 -->\r\n",
       "<g id=\"node33\" class=\"node\"><title>5</title>\r\n",
       "<path fill=\"#eb9c64\" stroke=\"black\" d=\"M1343.5,-469C1343.5,-469 1235.5,-469 1235.5,-469 1229.5,-469 1223.5,-463 1223.5,-457 1223.5,-457 1223.5,-413 1223.5,-413 1223.5,-407 1229.5,-401 1235.5,-401 1235.5,-401 1343.5,-401 1343.5,-401 1349.5,-401 1355.5,-407 1355.5,-413 1355.5,-413 1355.5,-457 1355.5,-457 1355.5,-463 1349.5,-469 1343.5,-469\"/>\r\n",
       "<text text-anchor=\"middle\" x=\"1289.5\" y=\"-453.8\" font-family=\"Helvetica,sans-Serif\" font-size=\"14.00\">skewness &lt;= 4.92</text>\r\n",
       "<text text-anchor=\"middle\" x=\"1289.5\" y=\"-438.8\" font-family=\"Helvetica,sans-Serif\" font-size=\"14.00\">entropy = 0.68</text>\r\n",
       "<text text-anchor=\"middle\" x=\"1289.5\" y=\"-423.8\" font-family=\"Helvetica,sans-Serif\" font-size=\"14.00\">samples = 168</text>\r\n",
       "<text text-anchor=\"middle\" x=\"1289.5\" y=\"-408.8\" font-family=\"Helvetica,sans-Serif\" font-size=\"14.00\">value = [138, 30]</text>\r\n",
       "</g>\r\n",
       "<!-- 4&#45;&gt;5 -->\r\n",
       "<g id=\"edge32\" class=\"edge\"><title>4&#45;&gt;5</title>\r\n",
       "<path fill=\"none\" stroke=\"black\" d=\"M1289.5,-504.884C1289.5,-496.778 1289.5,-487.982 1289.5,-479.472\"/>\r\n",
       "<polygon fill=\"black\" stroke=\"black\" points=\"1293,-479.299 1289.5,-469.299 1286,-479.299 1293,-479.299\"/>\r\n",
       "</g>\r\n",
       "<!-- 6 -->\r\n",
       "<g id=\"node38\" class=\"node\"><title>6</title>\r\n",
       "<path fill=\"#e58139\" stroke=\"black\" d=\"M1475,-461.5C1475,-461.5 1386,-461.5 1386,-461.5 1380,-461.5 1374,-455.5 1374,-449.5 1374,-449.5 1374,-420.5 1374,-420.5 1374,-414.5 1380,-408.5 1386,-408.5 1386,-408.5 1475,-408.5 1475,-408.5 1481,-408.5 1487,-414.5 1487,-420.5 1487,-420.5 1487,-449.5 1487,-449.5 1487,-455.5 1481,-461.5 1475,-461.5\"/>\r\n",
       "<text text-anchor=\"middle\" x=\"1430.5\" y=\"-446.3\" font-family=\"Helvetica,sans-Serif\" font-size=\"14.00\">entropy = 0.0</text>\r\n",
       "<text text-anchor=\"middle\" x=\"1430.5\" y=\"-431.3\" font-family=\"Helvetica,sans-Serif\" font-size=\"14.00\">samples = 303</text>\r\n",
       "<text text-anchor=\"middle\" x=\"1430.5\" y=\"-416.3\" font-family=\"Helvetica,sans-Serif\" font-size=\"14.00\">value = [303, 0]</text>\r\n",
       "</g>\r\n",
       "<!-- 4&#45;&gt;6 -->\r\n",
       "<g id=\"edge37\" class=\"edge\"><title>4&#45;&gt;6</title>\r\n",
       "<path fill=\"none\" stroke=\"black\" d=\"M1335.28,-504.884C1351.85,-492.896 1370.51,-479.399 1386.89,-467.549\"/>\r\n",
       "<polygon fill=\"black\" stroke=\"black\" points=\"1389.17,-470.217 1395.22,-461.52 1385.07,-464.545 1389.17,-470.217\"/>\r\n",
       "</g>\r\n",
       "<!-- 7 -->\r\n",
       "<g id=\"node34\" class=\"node\"><title>7</title>\r\n",
       "<path fill=\"#4da7e8\" stroke=\"black\" d=\"M1338.5,-365C1338.5,-365 1240.5,-365 1240.5,-365 1234.5,-365 1228.5,-359 1228.5,-353 1228.5,-353 1228.5,-309 1228.5,-309 1228.5,-303 1234.5,-297 1240.5,-297 1240.5,-297 1338.5,-297 1338.5,-297 1344.5,-297 1350.5,-303 1350.5,-309 1350.5,-309 1350.5,-353 1350.5,-353 1350.5,-359 1344.5,-365 1338.5,-365\"/>\r\n",
       "<text text-anchor=\"middle\" x=\"1289.5\" y=\"-349.8\" font-family=\"Helvetica,sans-Serif\" font-size=\"14.00\">variance &lt;= 2.21</text>\r\n",
       "<text text-anchor=\"middle\" x=\"1289.5\" y=\"-334.8\" font-family=\"Helvetica,sans-Serif\" font-size=\"14.00\">entropy = 0.44</text>\r\n",
       "<text text-anchor=\"middle\" x=\"1289.5\" y=\"-319.8\" font-family=\"Helvetica,sans-Serif\" font-size=\"14.00\">samples = 33</text>\r\n",
       "<text text-anchor=\"middle\" x=\"1289.5\" y=\"-304.8\" font-family=\"Helvetica,sans-Serif\" font-size=\"14.00\">value = [3, 30]</text>\r\n",
       "</g>\r\n",
       "<!-- 5&#45;&gt;7 -->\r\n",
       "<g id=\"edge33\" class=\"edge\"><title>5&#45;&gt;7</title>\r\n",
       "<path fill=\"none\" stroke=\"black\" d=\"M1289.5,-400.884C1289.5,-392.778 1289.5,-383.982 1289.5,-375.472\"/>\r\n",
       "<polygon fill=\"black\" stroke=\"black\" points=\"1293,-375.299 1289.5,-365.299 1286,-375.299 1293,-375.299\"/>\r\n",
       "</g>\r\n",
       "<!-- 8 -->\r\n",
       "<g id=\"node37\" class=\"node\"><title>8</title>\r\n",
       "<path fill=\"#e58139\" stroke=\"black\" d=\"M1470,-357.5C1470,-357.5 1381,-357.5 1381,-357.5 1375,-357.5 1369,-351.5 1369,-345.5 1369,-345.5 1369,-316.5 1369,-316.5 1369,-310.5 1375,-304.5 1381,-304.5 1381,-304.5 1470,-304.5 1470,-304.5 1476,-304.5 1482,-310.5 1482,-316.5 1482,-316.5 1482,-345.5 1482,-345.5 1482,-351.5 1476,-357.5 1470,-357.5\"/>\r\n",
       "<text text-anchor=\"middle\" x=\"1425.5\" y=\"-342.3\" font-family=\"Helvetica,sans-Serif\" font-size=\"14.00\">entropy = 0.0</text>\r\n",
       "<text text-anchor=\"middle\" x=\"1425.5\" y=\"-327.3\" font-family=\"Helvetica,sans-Serif\" font-size=\"14.00\">samples = 135</text>\r\n",
       "<text text-anchor=\"middle\" x=\"1425.5\" y=\"-312.3\" font-family=\"Helvetica,sans-Serif\" font-size=\"14.00\">value = [135, 0]</text>\r\n",
       "</g>\r\n",
       "<!-- 5&#45;&gt;8 -->\r\n",
       "<g id=\"edge36\" class=\"edge\"><title>5&#45;&gt;8</title>\r\n",
       "<path fill=\"none\" stroke=\"black\" d=\"M1333.66,-400.884C1349.64,-388.896 1367.63,-375.399 1383.43,-363.549\"/>\r\n",
       "<polygon fill=\"black\" stroke=\"black\" points=\"1385.57,-366.32 1391.47,-357.52 1381.37,-360.72 1385.57,-366.32\"/>\r\n",
       "</g>\r\n",
       "<!-- 31 -->\r\n",
       "<g id=\"node35\" class=\"node\"><title>31</title>\r\n",
       "<path fill=\"#399de5\" stroke=\"black\" d=\"M1330,-253.5C1330,-253.5 1249,-253.5 1249,-253.5 1243,-253.5 1237,-247.5 1237,-241.5 1237,-241.5 1237,-212.5 1237,-212.5 1237,-206.5 1243,-200.5 1249,-200.5 1249,-200.5 1330,-200.5 1330,-200.5 1336,-200.5 1342,-206.5 1342,-212.5 1342,-212.5 1342,-241.5 1342,-241.5 1342,-247.5 1336,-253.5 1330,-253.5\"/>\r\n",
       "<text text-anchor=\"middle\" x=\"1289.5\" y=\"-238.3\" font-family=\"Helvetica,sans-Serif\" font-size=\"14.00\">entropy = 0.0</text>\r\n",
       "<text text-anchor=\"middle\" x=\"1289.5\" y=\"-223.3\" font-family=\"Helvetica,sans-Serif\" font-size=\"14.00\">samples = 28</text>\r\n",
       "<text text-anchor=\"middle\" x=\"1289.5\" y=\"-208.3\" font-family=\"Helvetica,sans-Serif\" font-size=\"14.00\">value = [0, 28]</text>\r\n",
       "</g>\r\n",
       "<!-- 7&#45;&gt;31 -->\r\n",
       "<g id=\"edge34\" class=\"edge\"><title>7&#45;&gt;31</title>\r\n",
       "<path fill=\"none\" stroke=\"black\" d=\"M1289.5,-296.884C1289.5,-286.326 1289.5,-274.597 1289.5,-263.854\"/>\r\n",
       "<polygon fill=\"black\" stroke=\"black\" points=\"1293,-263.52 1289.5,-253.52 1286,-263.52 1293,-263.52\"/>\r\n",
       "</g>\r\n",
       "<!-- 32 -->\r\n",
       "<g id=\"node36\" class=\"node\"><title>32</title>\r\n",
       "<path fill=\"#f6d5bd\" stroke=\"black\" d=\"M1456.5,-253.5C1456.5,-253.5 1372.5,-253.5 1372.5,-253.5 1366.5,-253.5 1360.5,-247.5 1360.5,-241.5 1360.5,-241.5 1360.5,-212.5 1360.5,-212.5 1360.5,-206.5 1366.5,-200.5 1372.5,-200.5 1372.5,-200.5 1456.5,-200.5 1456.5,-200.5 1462.5,-200.5 1468.5,-206.5 1468.5,-212.5 1468.5,-212.5 1468.5,-241.5 1468.5,-241.5 1468.5,-247.5 1462.5,-253.5 1456.5,-253.5\"/>\r\n",
       "<text text-anchor=\"middle\" x=\"1414.5\" y=\"-238.3\" font-family=\"Helvetica,sans-Serif\" font-size=\"14.00\">entropy = 0.97</text>\r\n",
       "<text text-anchor=\"middle\" x=\"1414.5\" y=\"-223.3\" font-family=\"Helvetica,sans-Serif\" font-size=\"14.00\">samples = 5</text>\r\n",
       "<text text-anchor=\"middle\" x=\"1414.5\" y=\"-208.3\" font-family=\"Helvetica,sans-Serif\" font-size=\"14.00\">value = [3, 2]</text>\r\n",
       "</g>\r\n",
       "<!-- 7&#45;&gt;32 -->\r\n",
       "<g id=\"edge35\" class=\"edge\"><title>7&#45;&gt;32</title>\r\n",
       "<path fill=\"none\" stroke=\"black\" d=\"M1330.08,-296.884C1344.64,-285.006 1361.01,-271.646 1375.44,-259.876\"/>\r\n",
       "<polygon fill=\"black\" stroke=\"black\" points=\"1377.69,-262.554 1383.23,-253.52 1373.26,-257.13 1377.69,-262.554\"/>\r\n",
       "</g>\r\n",
       "</g>\r\n",
       "</svg>\r\n"
      ],
      "text/plain": [
       "<graphviz.files.Source at 0x27a70a7edc8>"
      ]
     },
     "execution_count": 123,
     "metadata": {},
     "output_type": "execute_result"
    }
   ],
   "source": [
    "graph=graphviz.Source(dot_data)\n",
    "graph"
   ]
  },
  {
   "cell_type": "markdown",
   "metadata": {},
   "source": [
    "### Insights from the Final Classification Decision Tree Model :-\n",
    "Depth-0: Bank Notes with Curtosis <=8.84 and entropy < -0.37 and skewness < 5.16 have predicted values as 110 (1) & 191 (0) with its entropy value as 0.95"
   ]
  },
  {
   "cell_type": "code",
   "execution_count": 124,
   "metadata": {
    "ExecuteTime": {
     "end_time": "2020-07-05T21:56:38.847853Z",
     "start_time": "2020-07-05T21:56:38.477330Z"
    },
    "hidden": true
   },
   "outputs": [
    {
     "data": {
      "text/plain": [
       "'DT_Classifier_2.pdf'"
      ]
     },
     "execution_count": 124,
     "metadata": {},
     "output_type": "execute_result"
    }
   ],
   "source": [
    "# export decision tree to PDF file \n",
    "graph.render(\"DT_Classifier_2\",view = True)"
   ]
  },
  {
   "cell_type": "code",
   "execution_count": 125,
   "metadata": {
    "ExecuteTime": {
     "end_time": "2020-07-05T22:00:13.501816Z",
     "start_time": "2020-07-05T22:00:13.497039Z"
    },
    "hidden": true
   },
   "outputs": [],
   "source": [
    "from pydotplus import graph_from_dot_data"
   ]
  },
  {
   "cell_type": "code",
   "execution_count": 126,
   "metadata": {
    "ExecuteTime": {
     "end_time": "2020-07-05T22:00:14.386911Z",
     "start_time": "2020-07-05T22:00:14.102435Z"
    },
    "hidden": true
   },
   "outputs": [],
   "source": [
    "graph = graph_from_dot_data(dot_data)"
   ]
  },
  {
   "cell_type": "code",
   "execution_count": 127,
   "metadata": {
    "ExecuteTime": {
     "end_time": "2020-07-05T22:00:15.243337Z",
     "start_time": "2020-07-05T22:00:14.841807Z"
    },
    "hidden": true
   },
   "outputs": [
    {
     "data": {
      "text/plain": [
       "True"
      ]
     },
     "execution_count": 127,
     "metadata": {},
     "output_type": "execute_result"
    }
   ],
   "source": [
    "# To save the decision classifier tree in png format \n",
    "graph.write_png(\"Classifier_tree2.png\")"
   ]
  },
  {
   "cell_type": "markdown",
   "metadata": {
    "hidden": true
   },
   "source": [
    "#### 5. Refit the Final Decision tree classification model based on Best Hyperparameters & Best Features to improve model accuracy"
   ]
  },
  {
   "cell_type": "code",
   "execution_count": 128,
   "metadata": {
    "ExecuteTime": {
     "end_time": "2020-07-05T22:10:20.650746Z",
     "start_time": "2020-07-05T22:10:20.634148Z"
    },
    "hidden": true
   },
   "outputs": [],
   "source": [
    "## Refit Decision tree model based on Best Hyperparameters::\n",
    "\n",
    "tree6 = DecisionTreeClassifier(criterion='entropy',max_depth=9,max_features=2,min_samples_leaf=5,min_samples_split=2,max_leaf_nodes=400,random_state=1234)\n",
    "\n",
    "tree6.fit(X_train, y_train)\n",
    "predictions = tree6.predict(X_test)"
   ]
  },
  {
   "cell_type": "code",
   "execution_count": 129,
   "metadata": {
    "ExecuteTime": {
     "end_time": "2020-07-05T22:10:20.955565Z",
     "start_time": "2020-07-05T22:10:20.949511Z"
    },
    "hidden": true
   },
   "outputs": [
    {
     "data": {
      "text/plain": [
       "array([0, 1, 1, 0, 1], dtype=int64)"
      ]
     },
     "execution_count": 129,
     "metadata": {},
     "output_type": "execute_result"
    }
   ],
   "source": [
    "predictions[:5]"
   ]
  },
  {
   "cell_type": "code",
   "execution_count": 130,
   "metadata": {
    "ExecuteTime": {
     "end_time": "2020-07-05T22:10:21.267824Z",
     "start_time": "2020-07-05T22:10:21.258850Z"
    },
    "hidden": true,
    "scrolled": true
   },
   "outputs": [
    {
     "data": {
      "text/plain": [
       "96      0\n",
       "983     1\n",
       "956     1\n",
       "577     0\n",
       "1352    1\n",
       "Name: class, dtype: int64"
      ]
     },
     "execution_count": 130,
     "metadata": {},
     "output_type": "execute_result"
    }
   ],
   "source": [
    "y_test[:5]"
   ]
  },
  {
   "cell_type": "markdown",
   "metadata": {
    "hidden": true
   },
   "source": [
    "<b> Evaluate Decision Tree Classifier Model Performance </b>"
   ]
  },
  {
   "cell_type": "code",
   "execution_count": 131,
   "metadata": {
    "ExecuteTime": {
     "end_time": "2020-07-05T22:10:21.530950Z",
     "start_time": "2020-07-05T22:10:21.526666Z"
    },
    "hidden": true
   },
   "outputs": [],
   "source": [
    "from sklearn.metrics import accuracy_score, confusion_matrix"
   ]
  },
  {
   "cell_type": "code",
   "execution_count": 132,
   "metadata": {
    "ExecuteTime": {
     "end_time": "2020-07-05T22:10:22.227908Z",
     "start_time": "2020-07-05T22:10:22.220781Z"
    },
    "hidden": true,
    "scrolled": true
   },
   "outputs": [
    {
     "name": "stdout",
     "output_type": "stream",
     "text": [
      "Accuracy of Decision Tree model :  99.42\n"
     ]
    }
   ],
   "source": [
    "# Accuracy rate   \n",
    "acc_dt = round( metrics.accuracy_score(y_test, predictions) * 100, 2 )\n",
    "print( 'Accuracy of Decision Tree model : ', acc_dt )"
   ]
  },
  {
   "cell_type": "markdown",
   "metadata": {
    "hidden": true
   },
   "source": [
    "###### <font color=red> <b><u><i> Insights from the Final Refined Classification Decision Tree Model from Hyperparameter tuning and more optimal parameters :-\n",
    "- <i><font color=red> Slightly higher accuracy is achieved in the final refined model with accuracy of 99.42% compared with previous model iteration of accuracy rate of 99.41%</font> </i>\n",
    "    </i></u></b> </font>"
   ]
  },
  {
   "cell_type": "code",
   "execution_count": 133,
   "metadata": {
    "ExecuteTime": {
     "end_time": "2020-07-05T22:13:24.816012Z",
     "start_time": "2020-07-05T22:13:24.802534Z"
    },
    "hidden": true,
    "scrolled": false
   },
   "outputs": [
    {
     "name": "stdout",
     "output_type": "stream",
     "text": [
      "              precision    recall  f1-score   support\n",
      "\n",
      "           0       1.00      0.99      0.99       195\n",
      "           1       0.99      1.00      0.99       148\n",
      "\n",
      "    accuracy                           0.99       343\n",
      "   macro avg       0.99      0.99      0.99       343\n",
      "weighted avg       0.99      0.99      0.99       343\n",
      "\n"
     ]
    }
   ],
   "source": [
    "# Classification report \n",
    "from sklearn.metrics import classification_report\n",
    "print(classification_report(y_test,predictions))"
   ]
  },
  {
   "cell_type": "code",
   "execution_count": 134,
   "metadata": {
    "ExecuteTime": {
     "end_time": "2020-07-05T22:13:26.919834Z",
     "start_time": "2020-07-05T22:13:26.910861Z"
    },
    "hidden": true
   },
   "outputs": [
    {
     "data": {
      "text/plain": [
       "341"
      ]
     },
     "execution_count": 134,
     "metadata": {},
     "output_type": "execute_result"
    }
   ],
   "source": [
    "# To check correct predictions\n",
    "accuracy_score(y_test, predictions, normalize=False)"
   ]
  },
  {
   "cell_type": "code",
   "execution_count": 135,
   "metadata": {
    "ExecuteTime": {
     "end_time": "2020-07-05T22:13:28.715942Z",
     "start_time": "2020-07-05T22:13:28.706970Z"
    },
    "hidden": true
   },
   "outputs": [],
   "source": [
    "confusion_mat = confusion_matrix(y_test, predictions) # actual vs predicted\n",
    "confusion_df = pd.DataFrame(confusion_mat, index=['Actual neg','Actual pos'],\\\n",
    "                            columns=['Predicted neg','Predicted pos'])"
   ]
  },
  {
   "cell_type": "code",
   "execution_count": 136,
   "metadata": {
    "ExecuteTime": {
     "end_time": "2020-07-05T22:13:29.442036Z",
     "start_time": "2020-07-05T22:13:29.433062Z"
    },
    "hidden": true
   },
   "outputs": [
    {
     "data": {
      "text/html": [
       "<div>\n",
       "<style scoped>\n",
       "    .dataframe tbody tr th:only-of-type {\n",
       "        vertical-align: middle;\n",
       "    }\n",
       "\n",
       "    .dataframe tbody tr th {\n",
       "        vertical-align: top;\n",
       "    }\n",
       "\n",
       "    .dataframe thead th {\n",
       "        text-align: right;\n",
       "    }\n",
       "</style>\n",
       "<table border=\"1\" class=\"dataframe\">\n",
       "  <thead>\n",
       "    <tr style=\"text-align: right;\">\n",
       "      <th></th>\n",
       "      <th>Predicted neg</th>\n",
       "      <th>Predicted pos</th>\n",
       "    </tr>\n",
       "  </thead>\n",
       "  <tbody>\n",
       "    <tr>\n",
       "      <th>Actual neg</th>\n",
       "      <td>193</td>\n",
       "      <td>2</td>\n",
       "    </tr>\n",
       "    <tr>\n",
       "      <th>Actual pos</th>\n",
       "      <td>0</td>\n",
       "      <td>148</td>\n",
       "    </tr>\n",
       "  </tbody>\n",
       "</table>\n",
       "</div>"
      ],
      "text/plain": [
       "            Predicted neg  Predicted pos\n",
       "Actual neg            193              2\n",
       "Actual pos              0            148"
      ]
     },
     "execution_count": 136,
     "metadata": {},
     "output_type": "execute_result"
    }
   ],
   "source": [
    "# To plot a confusion matrix\n",
    "confusion_df"
   ]
  },
  {
   "cell_type": "code",
   "execution_count": 137,
   "metadata": {
    "ExecuteTime": {
     "end_time": "2020-07-05T22:13:31.533893Z",
     "start_time": "2020-07-05T22:13:31.323431Z"
    },
    "hidden": true
   },
   "outputs": [
    {
     "data": {
      "image/png": "[encoded data removed]",
      "text/plain": [
       "<Figure size 432x288 with 2 Axes>"
      ]
     },
     "metadata": {
      "needs_background": "light"
     },
     "output_type": "display_data"
    }
   ],
   "source": [
    "# To make a heatmap of the confusion matrix\n",
    "cf_=sns.heatmap(confusion_df, cmap='Greens_r', annot=True,fmt='.2f')"
   ]
  },
  {
   "cell_type": "code",
   "execution_count": 138,
   "metadata": {
    "ExecuteTime": {
     "end_time": "2020-07-05T22:13:32.944894Z",
     "start_time": "2020-07-05T22:13:32.937916Z"
    },
    "hidden": true
   },
   "outputs": [
    {
     "data": {
      "text/plain": [
       "matplotlib.axes._subplots.AxesSubplot"
      ]
     },
     "execution_count": 138,
     "metadata": {},
     "output_type": "execute_result"
    }
   ],
   "source": [
    "type(cf_)"
   ]
  },
  {
   "cell_type": "code",
   "execution_count": 139,
   "metadata": {
    "ExecuteTime": {
     "end_time": "2020-07-05T22:13:33.370264Z",
     "start_time": "2020-07-05T22:13:33.365923Z"
    },
    "hidden": true
   },
   "outputs": [],
   "source": [
    "from sklearn.tree import export_graphviz\n",
    "import graphviz"
   ]
  },
  {
   "cell_type": "code",
   "execution_count": 140,
   "metadata": {
    "ExecuteTime": {
     "end_time": "2020-07-05T22:13:58.486288Z",
     "start_time": "2020-07-05T22:13:58.472326Z"
    },
    "hidden": true
   },
   "outputs": [],
   "source": [
    "dot_data = export_graphviz(tree6, filled=True, rounded=True, feature_names=X.columns,out_file=None,precision=2)"
   ]
  },
  {
   "cell_type": "code",
   "execution_count": 141,
   "metadata": {
    "ExecuteTime": {
     "end_time": "2020-07-05T22:13:59.452245Z",
     "start_time": "2020-07-05T22:13:59.248786Z"
    },
    "hidden": true,
    "scrolled": false
   },
   "outputs": [
    {
     "data": {
      "image/svg+xml": [
       "<?xml version=\"1.0\" encoding=\"UTF-8\" standalone=\"no\"?>\r\n",
       "<!DOCTYPE svg PUBLIC \"-//W3C//DTD SVG 1.1//EN\"\r\n",
       " \"http://www.w3.org/Graphics/SVG/1.1/DTD/svg11.dtd\">\r\n",
       "<!-- Generated by graphviz version 2.38.0 (20140413.2041)\r\n",
       " -->\r\n",
       "<!-- Title: Tree Pages: 1 -->\r\n",
       "<svg width=\"1495pt\" height=\"789pt\"\r\n",
       " viewBox=\"0.00 0.00 1495.00 789.00\" xmlns=\"http://www.w3.org/2000/svg\" xmlns:xlink=\"http://www.w3.org/1999/xlink\">\r\n",
       "<g id=\"graph0\" class=\"graph\" transform=\"scale(1 1) rotate(0) translate(4 785)\">\r\n",
       "<title>Tree</title>\r\n",
       "<polygon fill=\"white\" stroke=\"none\" points=\"-4,4 -4,-785 1491,-785 1491,4 -4,4\"/>\r\n",
       "<!-- 0 -->\r\n",
       "<g id=\"node1\" class=\"node\"><title>0</title>\r\n",
       "<path fill=\"#fae8da\" stroke=\"black\" d=\"M1260.5,-781C1260.5,-781 1154.5,-781 1154.5,-781 1148.5,-781 1142.5,-775 1142.5,-769 1142.5,-769 1142.5,-725 1142.5,-725 1142.5,-719 1148.5,-713 1154.5,-713 1154.5,-713 1260.5,-713 1260.5,-713 1266.5,-713 1272.5,-719 1272.5,-725 1272.5,-725 1272.5,-769 1272.5,-769 1272.5,-775 1266.5,-781 1260.5,-781\"/>\r\n",
       "<text text-anchor=\"middle\" x=\"1207.5\" y=\"-765.8\" font-family=\"Helvetica,sans-Serif\" font-size=\"14.00\">curtosis &lt;= 8.84</text>\r\n",
       "<text text-anchor=\"middle\" x=\"1207.5\" y=\"-750.8\" font-family=\"Helvetica,sans-Serif\" font-size=\"14.00\">entropy = 0.99</text>\r\n",
       "<text text-anchor=\"middle\" x=\"1207.5\" y=\"-735.8\" font-family=\"Helvetica,sans-Serif\" font-size=\"14.00\">samples = 1029</text>\r\n",
       "<text text-anchor=\"middle\" x=\"1207.5\" y=\"-720.8\" font-family=\"Helvetica,sans-Serif\" font-size=\"14.00\">value = [567, 462]</text>\r\n",
       "</g>\r\n",
       "<!-- 1 -->\r\n",
       "<g id=\"node2\" class=\"node\"><title>1</title>\r\n",
       "<path fill=\"#f7d7c0\" stroke=\"black\" d=\"M1192.5,-677C1192.5,-677 1086.5,-677 1086.5,-677 1080.5,-677 1074.5,-671 1074.5,-665 1074.5,-665 1074.5,-621 1074.5,-621 1074.5,-615 1080.5,-609 1086.5,-609 1086.5,-609 1192.5,-609 1192.5,-609 1198.5,-609 1204.5,-615 1204.5,-621 1204.5,-621 1204.5,-665 1204.5,-665 1204.5,-671 1198.5,-677 1192.5,-677\"/>\r\n",
       "<text text-anchor=\"middle\" x=\"1139.5\" y=\"-661.8\" font-family=\"Helvetica,sans-Serif\" font-size=\"14.00\">variance &lt;= 0.75</text>\r\n",
       "<text text-anchor=\"middle\" x=\"1139.5\" y=\"-646.8\" font-family=\"Helvetica,sans-Serif\" font-size=\"14.00\">entropy = 0.97</text>\r\n",
       "<text text-anchor=\"middle\" x=\"1139.5\" y=\"-631.8\" font-family=\"Helvetica,sans-Serif\" font-size=\"14.00\">samples = 955</text>\r\n",
       "<text text-anchor=\"middle\" x=\"1139.5\" y=\"-616.8\" font-family=\"Helvetica,sans-Serif\" font-size=\"14.00\">value = [567, 388]</text>\r\n",
       "</g>\r\n",
       "<!-- 0&#45;&gt;1 -->\r\n",
       "<g id=\"edge1\" class=\"edge\"><title>0&#45;&gt;1</title>\r\n",
       "<path fill=\"none\" stroke=\"black\" d=\"M1185.42,-712.884C1179.66,-704.243 1173.38,-694.819 1167.36,-685.793\"/>\r\n",
       "<polygon fill=\"black\" stroke=\"black\" points=\"1170.16,-683.678 1161.7,-677.299 1164.33,-687.561 1170.16,-683.678\"/>\r\n",
       "<text text-anchor=\"middle\" x=\"1156.8\" y=\"-698.114\" font-family=\"Helvetica,sans-Serif\" font-size=\"14.00\">True</text>\r\n",
       "</g>\r\n",
       "<!-- 2 -->\r\n",
       "<g id=\"node39\" class=\"node\"><title>2</title>\r\n",
       "<path fill=\"#399de5\" stroke=\"black\" d=\"M1316,-669.5C1316,-669.5 1235,-669.5 1235,-669.5 1229,-669.5 1223,-663.5 1223,-657.5 1223,-657.5 1223,-628.5 1223,-628.5 1223,-622.5 1229,-616.5 1235,-616.5 1235,-616.5 1316,-616.5 1316,-616.5 1322,-616.5 1328,-622.5 1328,-628.5 1328,-628.5 1328,-657.5 1328,-657.5 1328,-663.5 1322,-669.5 1316,-669.5\"/>\r\n",
       "<text text-anchor=\"middle\" x=\"1275.5\" y=\"-654.3\" font-family=\"Helvetica,sans-Serif\" font-size=\"14.00\">entropy = 0.0</text>\r\n",
       "<text text-anchor=\"middle\" x=\"1275.5\" y=\"-639.3\" font-family=\"Helvetica,sans-Serif\" font-size=\"14.00\">samples = 74</text>\r\n",
       "<text text-anchor=\"middle\" x=\"1275.5\" y=\"-624.3\" font-family=\"Helvetica,sans-Serif\" font-size=\"14.00\">value = [0, 74]</text>\r\n",
       "</g>\r\n",
       "<!-- 0&#45;&gt;2 -->\r\n",
       "<g id=\"edge38\" class=\"edge\"><title>0&#45;&gt;2</title>\r\n",
       "<path fill=\"none\" stroke=\"black\" d=\"M1229.58,-712.884C1237.06,-701.666 1245.42,-689.126 1252.93,-677.852\"/>\r\n",
       "<polygon fill=\"black\" stroke=\"black\" points=\"1255.85,-679.782 1258.49,-669.52 1250.03,-675.899 1255.85,-679.782\"/>\r\n",
       "<text text-anchor=\"middle\" x=\"1263.39\" y=\"-690.334\" font-family=\"Helvetica,sans-Serif\" font-size=\"14.00\">False</text>\r\n",
       "</g>\r\n",
       "<!-- 3 -->\r\n",
       "<g id=\"node3\" class=\"node\"><title>3</title>\r\n",
       "<path fill=\"#7fbfee\" stroke=\"black\" d=\"M1039.5,-573C1039.5,-573 933.5,-573 933.5,-573 927.5,-573 921.5,-567 921.5,-561 921.5,-561 921.5,-517 921.5,-517 921.5,-511 927.5,-505 933.5,-505 933.5,-505 1039.5,-505 1039.5,-505 1045.5,-505 1051.5,-511 1051.5,-517 1051.5,-517 1051.5,-561 1051.5,-561 1051.5,-567 1045.5,-573 1039.5,-573\"/>\r\n",
       "<text text-anchor=\"middle\" x=\"986.5\" y=\"-557.8\" font-family=\"Helvetica,sans-Serif\" font-size=\"14.00\">entropy &lt;= &#45;0.37</text>\r\n",
       "<text text-anchor=\"middle\" x=\"986.5\" y=\"-542.8\" font-family=\"Helvetica,sans-Serif\" font-size=\"14.00\">entropy = 0.83</text>\r\n",
       "<text text-anchor=\"middle\" x=\"986.5\" y=\"-527.8\" font-family=\"Helvetica,sans-Serif\" font-size=\"14.00\">samples = 484</text>\r\n",
       "<text text-anchor=\"middle\" x=\"986.5\" y=\"-512.8\" font-family=\"Helvetica,sans-Serif\" font-size=\"14.00\">value = [126, 358]</text>\r\n",
       "</g>\r\n",
       "<!-- 1&#45;&gt;3 -->\r\n",
       "<g id=\"edge2\" class=\"edge\"><title>1&#45;&gt;3</title>\r\n",
       "<path fill=\"none\" stroke=\"black\" d=\"M1089.83,-608.884C1075.46,-599.304 1059.64,-588.761 1044.8,-578.864\"/>\r\n",
       "<polygon fill=\"black\" stroke=\"black\" points=\"1046.45,-575.76 1036.19,-573.125 1042.57,-581.584 1046.45,-575.76\"/>\r\n",
       "</g>\r\n",
       "<!-- 4 -->\r\n",
       "<g id=\"node32\" class=\"node\"><title>4</title>\r\n",
       "<path fill=\"#e78a46\" stroke=\"black\" d=\"M1339,-573C1339,-573 1240,-573 1240,-573 1234,-573 1228,-567 1228,-561 1228,-561 1228,-517 1228,-517 1228,-511 1234,-505 1240,-505 1240,-505 1339,-505 1339,-505 1345,-505 1351,-511 1351,-517 1351,-517 1351,-561 1351,-561 1351,-567 1345,-573 1339,-573\"/>\r\n",
       "<text text-anchor=\"middle\" x=\"1289.5\" y=\"-557.8\" font-family=\"Helvetica,sans-Serif\" font-size=\"14.00\">curtosis &lt;= &#45;1.64</text>\r\n",
       "<text text-anchor=\"middle\" x=\"1289.5\" y=\"-542.8\" font-family=\"Helvetica,sans-Serif\" font-size=\"14.00\">entropy = 0.34</text>\r\n",
       "<text text-anchor=\"middle\" x=\"1289.5\" y=\"-527.8\" font-family=\"Helvetica,sans-Serif\" font-size=\"14.00\">samples = 471</text>\r\n",
       "<text text-anchor=\"middle\" x=\"1289.5\" y=\"-512.8\" font-family=\"Helvetica,sans-Serif\" font-size=\"14.00\">value = [441, 30]</text>\r\n",
       "</g>\r\n",
       "<!-- 1&#45;&gt;4 -->\r\n",
       "<g id=\"edge31\" class=\"edge\"><title>1&#45;&gt;4</title>\r\n",
       "<path fill=\"none\" stroke=\"black\" d=\"M1188.2,-608.884C1202.29,-599.304 1217.79,-588.761 1232.35,-578.864\"/>\r\n",
       "<polygon fill=\"black\" stroke=\"black\" points=\"1234.49,-581.642 1240.79,-573.125 1230.55,-575.854 1234.49,-581.642\"/>\r\n",
       "</g>\r\n",
       "<!-- 9 -->\r\n",
       "<g id=\"node4\" class=\"node\"><title>9</title>\r\n",
       "<path fill=\"#abd5f4\" stroke=\"black\" d=\"M630.5,-469C630.5,-469 522.5,-469 522.5,-469 516.5,-469 510.5,-463 510.5,-457 510.5,-457 510.5,-413 510.5,-413 510.5,-407 516.5,-401 522.5,-401 522.5,-401 630.5,-401 630.5,-401 636.5,-401 642.5,-407 642.5,-413 642.5,-413 642.5,-457 642.5,-457 642.5,-463 636.5,-469 630.5,-469\"/>\r\n",
       "<text text-anchor=\"middle\" x=\"576.5\" y=\"-453.8\" font-family=\"Helvetica,sans-Serif\" font-size=\"14.00\">skewness &lt;= 5.16</text>\r\n",
       "<text text-anchor=\"middle\" x=\"576.5\" y=\"-438.8\" font-family=\"Helvetica,sans-Serif\" font-size=\"14.00\">entropy = 0.95</text>\r\n",
       "<text text-anchor=\"middle\" x=\"576.5\" y=\"-423.8\" font-family=\"Helvetica,sans-Serif\" font-size=\"14.00\">samples = 301</text>\r\n",
       "<text text-anchor=\"middle\" x=\"576.5\" y=\"-408.8\" font-family=\"Helvetica,sans-Serif\" font-size=\"14.00\">value = [110, 191]</text>\r\n",
       "</g>\r\n",
       "<!-- 3&#45;&gt;9 -->\r\n",
       "<g id=\"edge3\" class=\"edge\"><title>3&#45;&gt;9</title>\r\n",
       "<path fill=\"none\" stroke=\"black\" d=\"M921.081,-521.725C848.057,-503.558 730.032,-474.196 652.847,-454.994\"/>\r\n",
       "<polygon fill=\"black\" stroke=\"black\" points=\"653.254,-451.488 642.705,-452.471 651.564,-458.281 653.254,-451.488\"/>\r\n",
       "</g>\r\n",
       "<!-- 10 -->\r\n",
       "<g id=\"node23\" class=\"node\"><title>10</title>\r\n",
       "<path fill=\"#4ca6e7\" stroke=\"black\" d=\"M1040.5,-469C1040.5,-469 932.5,-469 932.5,-469 926.5,-469 920.5,-463 920.5,-457 920.5,-457 920.5,-413 920.5,-413 920.5,-407 926.5,-401 932.5,-401 932.5,-401 1040.5,-401 1040.5,-401 1046.5,-401 1052.5,-407 1052.5,-413 1052.5,-413 1052.5,-457 1052.5,-457 1052.5,-463 1046.5,-469 1040.5,-469\"/>\r\n",
       "<text text-anchor=\"middle\" x=\"986.5\" y=\"-453.8\" font-family=\"Helvetica,sans-Serif\" font-size=\"14.00\">skewness &lt;= 0.81</text>\r\n",
       "<text text-anchor=\"middle\" x=\"986.5\" y=\"-438.8\" font-family=\"Helvetica,sans-Serif\" font-size=\"14.00\">entropy = 0.43</text>\r\n",
       "<text text-anchor=\"middle\" x=\"986.5\" y=\"-423.8\" font-family=\"Helvetica,sans-Serif\" font-size=\"14.00\">samples = 183</text>\r\n",
       "<text text-anchor=\"middle\" x=\"986.5\" y=\"-408.8\" font-family=\"Helvetica,sans-Serif\" font-size=\"14.00\">value = [16, 167]</text>\r\n",
       "</g>\r\n",
       "<!-- 3&#45;&gt;10 -->\r\n",
       "<g id=\"edge22\" class=\"edge\"><title>3&#45;&gt;10</title>\r\n",
       "<path fill=\"none\" stroke=\"black\" d=\"M986.5,-504.884C986.5,-496.778 986.5,-487.982 986.5,-479.472\"/>\r\n",
       "<polygon fill=\"black\" stroke=\"black\" points=\"990,-479.299 986.5,-469.299 983,-479.299 990,-479.299\"/>\r\n",
       "</g>\r\n",
       "<!-- 11 -->\r\n",
       "<g id=\"node5\" class=\"node\"><title>11</title>\r\n",
       "<path fill=\"#57ace9\" stroke=\"black\" d=\"M300.5,-365C300.5,-365 202.5,-365 202.5,-365 196.5,-365 190.5,-359 190.5,-353 190.5,-353 190.5,-309 190.5,-309 190.5,-303 196.5,-297 202.5,-297 202.5,-297 300.5,-297 300.5,-297 306.5,-297 312.5,-303 312.5,-309 312.5,-309 312.5,-353 312.5,-353 312.5,-359 306.5,-365 300.5,-365\"/>\r\n",
       "<text text-anchor=\"middle\" x=\"251.5\" y=\"-349.8\" font-family=\"Helvetica,sans-Serif\" font-size=\"14.00\">curtosis &lt;= 0.75</text>\r\n",
       "<text text-anchor=\"middle\" x=\"251.5\" y=\"-334.8\" font-family=\"Helvetica,sans-Serif\" font-size=\"14.00\">entropy = 0.56</text>\r\n",
       "<text text-anchor=\"middle\" x=\"251.5\" y=\"-319.8\" font-family=\"Helvetica,sans-Serif\" font-size=\"14.00\">samples = 183</text>\r\n",
       "<text text-anchor=\"middle\" x=\"251.5\" y=\"-304.8\" font-family=\"Helvetica,sans-Serif\" font-size=\"14.00\">value = [24, 159]</text>\r\n",
       "</g>\r\n",
       "<!-- 9&#45;&gt;11 -->\r\n",
       "<g id=\"edge4\" class=\"edge\"><title>9&#45;&gt;11</title>\r\n",
       "<path fill=\"none\" stroke=\"black\" d=\"M510.34,-413.236C455.714,-396.092 378.355,-371.813 322.452,-354.268\"/>\r\n",
       "<polygon fill=\"black\" stroke=\"black\" points=\"323.213,-350.839 312.624,-351.184 321.117,-357.517 323.213,-350.839\"/>\r\n",
       "</g>\r\n",
       "<!-- 12 -->\r\n",
       "<g id=\"node12\" class=\"node\"><title>12</title>\r\n",
       "<path fill=\"#efb083\" stroke=\"black\" d=\"M625,-365C625,-365 528,-365 528,-365 522,-365 516,-359 516,-353 516,-353 516,-309 516,-309 516,-303 522,-297 528,-297 528,-297 625,-297 625,-297 631,-297 637,-303 637,-309 637,-309 637,-353 637,-353 637,-359 631,-365 625,-365\"/>\r\n",
       "<text text-anchor=\"middle\" x=\"576.5\" y=\"-349.8\" font-family=\"Helvetica,sans-Serif\" font-size=\"14.00\">entropy &lt;= &#45;5.96</text>\r\n",
       "<text text-anchor=\"middle\" x=\"576.5\" y=\"-334.8\" font-family=\"Helvetica,sans-Serif\" font-size=\"14.00\">entropy = 0.84</text>\r\n",
       "<text text-anchor=\"middle\" x=\"576.5\" y=\"-319.8\" font-family=\"Helvetica,sans-Serif\" font-size=\"14.00\">samples = 118</text>\r\n",
       "<text text-anchor=\"middle\" x=\"576.5\" y=\"-304.8\" font-family=\"Helvetica,sans-Serif\" font-size=\"14.00\">value = [86, 32]</text>\r\n",
       "</g>\r\n",
       "<!-- 9&#45;&gt;12 -->\r\n",
       "<g id=\"edge11\" class=\"edge\"><title>9&#45;&gt;12</title>\r\n",
       "<path fill=\"none\" stroke=\"black\" d=\"M576.5,-400.884C576.5,-392.778 576.5,-383.982 576.5,-375.472\"/>\r\n",
       "<polygon fill=\"black\" stroke=\"black\" points=\"580,-375.299 576.5,-365.299 573,-375.299 580,-375.299\"/>\r\n",
       "</g>\r\n",
       "<!-- 13 -->\r\n",
       "<g id=\"node6\" class=\"node\"><title>13</title>\r\n",
       "<path fill=\"#399de5\" stroke=\"black\" d=\"M158,-253.5C158,-253.5 69,-253.5 69,-253.5 63,-253.5 57,-247.5 57,-241.5 57,-241.5 57,-212.5 57,-212.5 57,-206.5 63,-200.5 69,-200.5 69,-200.5 158,-200.5 158,-200.5 164,-200.5 170,-206.5 170,-212.5 170,-212.5 170,-241.5 170,-241.5 170,-247.5 164,-253.5 158,-253.5\"/>\r\n",
       "<text text-anchor=\"middle\" x=\"113.5\" y=\"-238.3\" font-family=\"Helvetica,sans-Serif\" font-size=\"14.00\">entropy = 0.0</text>\r\n",
       "<text text-anchor=\"middle\" x=\"113.5\" y=\"-223.3\" font-family=\"Helvetica,sans-Serif\" font-size=\"14.00\">samples = 136</text>\r\n",
       "<text text-anchor=\"middle\" x=\"113.5\" y=\"-208.3\" font-family=\"Helvetica,sans-Serif\" font-size=\"14.00\">value = [0, 136]</text>\r\n",
       "</g>\r\n",
       "<!-- 11&#45;&gt;13 -->\r\n",
       "<g id=\"edge5\" class=\"edge\"><title>11&#45;&gt;13</title>\r\n",
       "<path fill=\"none\" stroke=\"black\" d=\"M206.695,-296.884C190.477,-284.896 172.216,-271.399 156.185,-259.549\"/>\r\n",
       "<polygon fill=\"black\" stroke=\"black\" points=\"158.149,-256.649 148.027,-253.52 153.988,-262.279 158.149,-256.649\"/>\r\n",
       "</g>\r\n",
       "<!-- 14 -->\r\n",
       "<g id=\"node7\" class=\"node\"><title>14</title>\r\n",
       "<path fill=\"#fefaf7\" stroke=\"black\" d=\"M302.5,-261C302.5,-261 200.5,-261 200.5,-261 194.5,-261 188.5,-255 188.5,-249 188.5,-249 188.5,-205 188.5,-205 188.5,-199 194.5,-193 200.5,-193 200.5,-193 302.5,-193 302.5,-193 308.5,-193 314.5,-199 314.5,-205 314.5,-205 314.5,-249 314.5,-249 314.5,-255 308.5,-261 302.5,-261\"/>\r\n",
       "<text text-anchor=\"middle\" x=\"251.5\" y=\"-245.8\" font-family=\"Helvetica,sans-Serif\" font-size=\"14.00\">variance &lt;= &#45;1.55</text>\r\n",
       "<text text-anchor=\"middle\" x=\"251.5\" y=\"-230.8\" font-family=\"Helvetica,sans-Serif\" font-size=\"14.00\">entropy = 1.0</text>\r\n",
       "<text text-anchor=\"middle\" x=\"251.5\" y=\"-215.8\" font-family=\"Helvetica,sans-Serif\" font-size=\"14.00\">samples = 47</text>\r\n",
       "<text text-anchor=\"middle\" x=\"251.5\" y=\"-200.8\" font-family=\"Helvetica,sans-Serif\" font-size=\"14.00\">value = [24, 23]</text>\r\n",
       "</g>\r\n",
       "<!-- 11&#45;&gt;14 -->\r\n",
       "<g id=\"edge6\" class=\"edge\"><title>11&#45;&gt;14</title>\r\n",
       "<path fill=\"none\" stroke=\"black\" d=\"M251.5,-296.884C251.5,-288.778 251.5,-279.982 251.5,-271.472\"/>\r\n",
       "<polygon fill=\"black\" stroke=\"black\" points=\"255,-271.299 251.5,-261.299 248,-271.299 255,-271.299\"/>\r\n",
       "</g>\r\n",
       "<!-- 15 -->\r\n",
       "<g id=\"node8\" class=\"node\"><title>15</title>\r\n",
       "<path fill=\"#42a1e6\" stroke=\"black\" d=\"M168.5,-157C168.5,-157 60.5,-157 60.5,-157 54.5,-157 48.5,-151 48.5,-145 48.5,-145 48.5,-101 48.5,-101 48.5,-95 54.5,-89 60.5,-89 60.5,-89 168.5,-89 168.5,-89 174.5,-89 180.5,-95 180.5,-101 180.5,-101 180.5,-145 180.5,-145 180.5,-151 174.5,-157 168.5,-157\"/>\r\n",
       "<text text-anchor=\"middle\" x=\"114.5\" y=\"-141.8\" font-family=\"Helvetica,sans-Serif\" font-size=\"14.00\">skewness &lt;= 1.12</text>\r\n",
       "<text text-anchor=\"middle\" x=\"114.5\" y=\"-126.8\" font-family=\"Helvetica,sans-Serif\" font-size=\"14.00\">entropy = 0.25</text>\r\n",
       "<text text-anchor=\"middle\" x=\"114.5\" y=\"-111.8\" font-family=\"Helvetica,sans-Serif\" font-size=\"14.00\">samples = 24</text>\r\n",
       "<text text-anchor=\"middle\" x=\"114.5\" y=\"-96.8\" font-family=\"Helvetica,sans-Serif\" font-size=\"14.00\">value = [1, 23]</text>\r\n",
       "</g>\r\n",
       "<!-- 14&#45;&gt;15 -->\r\n",
       "<g id=\"edge7\" class=\"edge\"><title>14&#45;&gt;15</title>\r\n",
       "<path fill=\"none\" stroke=\"black\" d=\"M207.02,-192.884C194.338,-183.442 180.399,-173.064 167.274,-163.292\"/>\r\n",
       "<polygon fill=\"black\" stroke=\"black\" points=\"169.337,-160.464 159.226,-157.299 165.156,-166.079 169.337,-160.464\"/>\r\n",
       "</g>\r\n",
       "<!-- 16 -->\r\n",
       "<g id=\"node11\" class=\"node\"><title>16</title>\r\n",
       "<path fill=\"#e58139\" stroke=\"black\" d=\"M292,-149.5C292,-149.5 211,-149.5 211,-149.5 205,-149.5 199,-143.5 199,-137.5 199,-137.5 199,-108.5 199,-108.5 199,-102.5 205,-96.5 211,-96.5 211,-96.5 292,-96.5 292,-96.5 298,-96.5 304,-102.5 304,-108.5 304,-108.5 304,-137.5 304,-137.5 304,-143.5 298,-149.5 292,-149.5\"/>\r\n",
       "<text text-anchor=\"middle\" x=\"251.5\" y=\"-134.3\" font-family=\"Helvetica,sans-Serif\" font-size=\"14.00\">entropy = 0.0</text>\r\n",
       "<text text-anchor=\"middle\" x=\"251.5\" y=\"-119.3\" font-family=\"Helvetica,sans-Serif\" font-size=\"14.00\">samples = 23</text>\r\n",
       "<text text-anchor=\"middle\" x=\"251.5\" y=\"-104.3\" font-family=\"Helvetica,sans-Serif\" font-size=\"14.00\">value = [23, 0]</text>\r\n",
       "</g>\r\n",
       "<!-- 14&#45;&gt;16 -->\r\n",
       "<g id=\"edge10\" class=\"edge\"><title>14&#45;&gt;16</title>\r\n",
       "<path fill=\"none\" stroke=\"black\" d=\"M251.5,-192.884C251.5,-182.326 251.5,-170.597 251.5,-159.854\"/>\r\n",
       "<polygon fill=\"black\" stroke=\"black\" points=\"255,-159.52 251.5,-149.52 248,-159.52 255,-159.52\"/>\r\n",
       "</g>\r\n",
       "<!-- 35 -->\r\n",
       "<g id=\"node9\" class=\"node\"><title>35</title>\r\n",
       "<path fill=\"#399de5\" stroke=\"black\" d=\"M93,-53C93,-53 12,-53 12,-53 6,-53 0,-47 0,-41 0,-41 0,-12 0,-12 0,-6 6,-0 12,-0 12,-0 93,-0 93,-0 99,-0 105,-6 105,-12 105,-12 105,-41 105,-41 105,-47 99,-53 93,-53\"/>\r\n",
       "<text text-anchor=\"middle\" x=\"52.5\" y=\"-37.8\" font-family=\"Helvetica,sans-Serif\" font-size=\"14.00\">entropy = 0.0</text>\r\n",
       "<text text-anchor=\"middle\" x=\"52.5\" y=\"-22.8\" font-family=\"Helvetica,sans-Serif\" font-size=\"14.00\">samples = 19</text>\r\n",
       "<text text-anchor=\"middle\" x=\"52.5\" y=\"-7.8\" font-family=\"Helvetica,sans-Serif\" font-size=\"14.00\">value = [0, 19]</text>\r\n",
       "</g>\r\n",
       "<!-- 15&#45;&gt;35 -->\r\n",
       "<g id=\"edge8\" class=\"edge\"><title>15&#45;&gt;35</title>\r\n",
       "<path fill=\"none\" stroke=\"black\" d=\"M92.8154,-88.9485C87.0536,-80.1664 80.8185,-70.6629 75.0136,-61.815\"/>\r\n",
       "<polygon fill=\"black\" stroke=\"black\" points=\"77.7975,-59.6779 69.3855,-53.2367 71.9447,-63.5178 77.7975,-59.6779\"/>\r\n",
       "</g>\r\n",
       "<!-- 36 -->\r\n",
       "<g id=\"node10\" class=\"node\"><title>36</title>\r\n",
       "<path fill=\"#6ab6ec\" stroke=\"black\" d=\"M219.5,-53C219.5,-53 135.5,-53 135.5,-53 129.5,-53 123.5,-47 123.5,-41 123.5,-41 123.5,-12 123.5,-12 123.5,-6 129.5,-0 135.5,-0 135.5,-0 219.5,-0 219.5,-0 225.5,-0 231.5,-6 231.5,-12 231.5,-12 231.5,-41 231.5,-41 231.5,-47 225.5,-53 219.5,-53\"/>\r\n",
       "<text text-anchor=\"middle\" x=\"177.5\" y=\"-37.8\" font-family=\"Helvetica,sans-Serif\" font-size=\"14.00\">entropy = 0.72</text>\r\n",
       "<text text-anchor=\"middle\" x=\"177.5\" y=\"-22.8\" font-family=\"Helvetica,sans-Serif\" font-size=\"14.00\">samples = 5</text>\r\n",
       "<text text-anchor=\"middle\" x=\"177.5\" y=\"-7.8\" font-family=\"Helvetica,sans-Serif\" font-size=\"14.00\">value = [1, 4]</text>\r\n",
       "</g>\r\n",
       "<!-- 15&#45;&gt;36 -->\r\n",
       "<g id=\"edge9\" class=\"edge\"><title>15&#45;&gt;36</title>\r\n",
       "<path fill=\"none\" stroke=\"black\" d=\"M136.534,-88.9485C142.389,-80.1664 148.725,-70.6629 154.623,-61.815\"/>\r\n",
       "<polygon fill=\"black\" stroke=\"black\" points=\"157.707,-63.4987 160.342,-53.2367 151.883,-59.6158 157.707,-63.4987\"/>\r\n",
       "</g>\r\n",
       "<!-- 19 -->\r\n",
       "<g id=\"node13\" class=\"node\"><title>19</title>\r\n",
       "<path fill=\"#97cbf1\" stroke=\"black\" d=\"M557.5,-261C557.5,-261 449.5,-261 449.5,-261 443.5,-261 437.5,-255 437.5,-249 437.5,-249 437.5,-205 437.5,-205 437.5,-199 443.5,-193 449.5,-193 449.5,-193 557.5,-193 557.5,-193 563.5,-193 569.5,-199 569.5,-205 569.5,-205 569.5,-249 569.5,-249 569.5,-255 563.5,-261 557.5,-261\"/>\r\n",
       "<text text-anchor=\"middle\" x=\"503.5\" y=\"-245.8\" font-family=\"Helvetica,sans-Serif\" font-size=\"14.00\">skewness &lt;= 9.16</text>\r\n",
       "<text text-anchor=\"middle\" x=\"503.5\" y=\"-230.8\" font-family=\"Helvetica,sans-Serif\" font-size=\"14.00\">entropy = 0.91</text>\r\n",
       "<text text-anchor=\"middle\" x=\"503.5\" y=\"-215.8\" font-family=\"Helvetica,sans-Serif\" font-size=\"14.00\">samples = 28</text>\r\n",
       "<text text-anchor=\"middle\" x=\"503.5\" y=\"-200.8\" font-family=\"Helvetica,sans-Serif\" font-size=\"14.00\">value = [9, 19]</text>\r\n",
       "</g>\r\n",
       "<!-- 12&#45;&gt;19 -->\r\n",
       "<g id=\"edge12\" class=\"edge\"><title>12&#45;&gt;19</title>\r\n",
       "<path fill=\"none\" stroke=\"black\" d=\"M552.799,-296.884C546.552,-288.154 539.731,-278.625 533.211,-269.514\"/>\r\n",
       "<polygon fill=\"black\" stroke=\"black\" points=\"535.998,-267.394 527.332,-261.299 530.306,-271.468 535.998,-267.394\"/>\r\n",
       "</g>\r\n",
       "<!-- 20 -->\r\n",
       "<g id=\"node18\" class=\"node\"><title>20</title>\r\n",
       "<path fill=\"#e9965a\" stroke=\"black\" d=\"M701.5,-261C701.5,-261 599.5,-261 599.5,-261 593.5,-261 587.5,-255 587.5,-249 587.5,-249 587.5,-205 587.5,-205 587.5,-199 593.5,-193 599.5,-193 599.5,-193 701.5,-193 701.5,-193 707.5,-193 713.5,-199 713.5,-205 713.5,-205 713.5,-249 713.5,-249 713.5,-255 707.5,-261 701.5,-261\"/>\r\n",
       "<text text-anchor=\"middle\" x=\"650.5\" y=\"-245.8\" font-family=\"Helvetica,sans-Serif\" font-size=\"14.00\">variance &lt;= &#45;3.37</text>\r\n",
       "<text text-anchor=\"middle\" x=\"650.5\" y=\"-230.8\" font-family=\"Helvetica,sans-Serif\" font-size=\"14.00\">entropy = 0.6</text>\r\n",
       "<text text-anchor=\"middle\" x=\"650.5\" y=\"-215.8\" font-family=\"Helvetica,sans-Serif\" font-size=\"14.00\">samples = 90</text>\r\n",
       "<text text-anchor=\"middle\" x=\"650.5\" y=\"-200.8\" font-family=\"Helvetica,sans-Serif\" font-size=\"14.00\">value = [77, 13]</text>\r\n",
       "</g>\r\n",
       "<!-- 12&#45;&gt;20 -->\r\n",
       "<g id=\"edge17\" class=\"edge\"><title>12&#45;&gt;20</title>\r\n",
       "<path fill=\"none\" stroke=\"black\" d=\"M600.526,-296.884C606.859,-288.154 613.772,-278.625 620.382,-269.514\"/>\r\n",
       "<polygon fill=\"black\" stroke=\"black\" points=\"623.302,-271.449 626.342,-261.299 617.636,-267.338 623.302,-271.449\"/>\r\n",
       "</g>\r\n",
       "<!-- 23 -->\r\n",
       "<g id=\"node14\" class=\"node\"><title>23</title>\r\n",
       "<path fill=\"#399de5\" stroke=\"black\" d=\"M415,-149.5C415,-149.5 334,-149.5 334,-149.5 328,-149.5 322,-143.5 322,-137.5 322,-137.5 322,-108.5 322,-108.5 322,-102.5 328,-96.5 334,-96.5 334,-96.5 415,-96.5 415,-96.5 421,-96.5 427,-102.5 427,-108.5 427,-108.5 427,-137.5 427,-137.5 427,-143.5 421,-149.5 415,-149.5\"/>\r\n",
       "<text text-anchor=\"middle\" x=\"374.5\" y=\"-134.3\" font-family=\"Helvetica,sans-Serif\" font-size=\"14.00\">entropy = 0.0</text>\r\n",
       "<text text-anchor=\"middle\" x=\"374.5\" y=\"-119.3\" font-family=\"Helvetica,sans-Serif\" font-size=\"14.00\">samples = 16</text>\r\n",
       "<text text-anchor=\"middle\" x=\"374.5\" y=\"-104.3\" font-family=\"Helvetica,sans-Serif\" font-size=\"14.00\">value = [0, 16]</text>\r\n",
       "</g>\r\n",
       "<!-- 19&#45;&gt;23 -->\r\n",
       "<g id=\"edge13\" class=\"edge\"><title>19&#45;&gt;23</title>\r\n",
       "<path fill=\"none\" stroke=\"black\" d=\"M461.617,-192.884C446.596,-181.006 429.7,-167.646 414.814,-155.876\"/>\r\n",
       "<polygon fill=\"black\" stroke=\"black\" points=\"416.79,-152.977 406.775,-149.52 412.449,-158.468 416.79,-152.977\"/>\r\n",
       "</g>\r\n",
       "<!-- 24 -->\r\n",
       "<g id=\"node15\" class=\"node\"><title>24</title>\r\n",
       "<path fill=\"#eeab7b\" stroke=\"black\" d=\"M559.5,-157C559.5,-157 457.5,-157 457.5,-157 451.5,-157 445.5,-151 445.5,-145 445.5,-145 445.5,-101 445.5,-101 445.5,-95 451.5,-89 457.5,-89 457.5,-89 559.5,-89 559.5,-89 565.5,-89 571.5,-95 571.5,-101 571.5,-101 571.5,-145 571.5,-145 571.5,-151 565.5,-157 559.5,-157\"/>\r\n",
       "<text text-anchor=\"middle\" x=\"508.5\" y=\"-141.8\" font-family=\"Helvetica,sans-Serif\" font-size=\"14.00\">variance &lt;= &#45;2.39</text>\r\n",
       "<text text-anchor=\"middle\" x=\"508.5\" y=\"-126.8\" font-family=\"Helvetica,sans-Serif\" font-size=\"14.00\">entropy = 0.81</text>\r\n",
       "<text text-anchor=\"middle\" x=\"508.5\" y=\"-111.8\" font-family=\"Helvetica,sans-Serif\" font-size=\"14.00\">samples = 12</text>\r\n",
       "<text text-anchor=\"middle\" x=\"508.5\" y=\"-96.8\" font-family=\"Helvetica,sans-Serif\" font-size=\"14.00\">value = [9, 3]</text>\r\n",
       "</g>\r\n",
       "<!-- 19&#45;&gt;24 -->\r\n",
       "<g id=\"edge14\" class=\"edge\"><title>19&#45;&gt;24</title>\r\n",
       "<path fill=\"none\" stroke=\"black\" d=\"M505.123,-192.884C505.521,-184.778 505.952,-175.982 506.369,-167.472\"/>\r\n",
       "<polygon fill=\"black\" stroke=\"black\" points=\"509.874,-167.459 506.868,-157.299 502.882,-167.116 509.874,-167.459\"/>\r\n",
       "</g>\r\n",
       "<!-- 33 -->\r\n",
       "<g id=\"node16\" class=\"node\"><title>33</title>\r\n",
       "<path fill=\"#bddef6\" stroke=\"black\" d=\"M434.5,-53C434.5,-53 350.5,-53 350.5,-53 344.5,-53 338.5,-47 338.5,-41 338.5,-41 338.5,-12 338.5,-12 338.5,-6 344.5,-0 350.5,-0 350.5,-0 434.5,-0 434.5,-0 440.5,-0 446.5,-6 446.5,-12 446.5,-12 446.5,-41 446.5,-41 446.5,-47 440.5,-53 434.5,-53\"/>\r\n",
       "<text text-anchor=\"middle\" x=\"392.5\" y=\"-37.8\" font-family=\"Helvetica,sans-Serif\" font-size=\"14.00\">entropy = 0.97</text>\r\n",
       "<text text-anchor=\"middle\" x=\"392.5\" y=\"-22.8\" font-family=\"Helvetica,sans-Serif\" font-size=\"14.00\">samples = 5</text>\r\n",
       "<text text-anchor=\"middle\" x=\"392.5\" y=\"-7.8\" font-family=\"Helvetica,sans-Serif\" font-size=\"14.00\">value = [2, 3]</text>\r\n",
       "</g>\r\n",
       "<!-- 24&#45;&gt;33 -->\r\n",
       "<g id=\"edge15\" class=\"edge\"><title>24&#45;&gt;33</title>\r\n",
       "<path fill=\"none\" stroke=\"black\" d=\"M467.929,-88.9485C456.25,-79.4346 443.533,-69.074 431.925,-59.6175\"/>\r\n",
       "<polygon fill=\"black\" stroke=\"black\" points=\"434.056,-56.8392 424.092,-53.2367 429.635,-62.2663 434.056,-56.8392\"/>\r\n",
       "</g>\r\n",
       "<!-- 34 -->\r\n",
       "<g id=\"node17\" class=\"node\"><title>34</title>\r\n",
       "<path fill=\"#e58139\" stroke=\"black\" d=\"M552.5,-53C552.5,-53 476.5,-53 476.5,-53 470.5,-53 464.5,-47 464.5,-41 464.5,-41 464.5,-12 464.5,-12 464.5,-6 470.5,-0 476.5,-0 476.5,-0 552.5,-0 552.5,-0 558.5,-0 564.5,-6 564.5,-12 564.5,-12 564.5,-41 564.5,-41 564.5,-47 558.5,-53 552.5,-53\"/>\r\n",
       "<text text-anchor=\"middle\" x=\"514.5\" y=\"-37.8\" font-family=\"Helvetica,sans-Serif\" font-size=\"14.00\">entropy = 0.0</text>\r\n",
       "<text text-anchor=\"middle\" x=\"514.5\" y=\"-22.8\" font-family=\"Helvetica,sans-Serif\" font-size=\"14.00\">samples = 7</text>\r\n",
       "<text text-anchor=\"middle\" x=\"514.5\" y=\"-7.8\" font-family=\"Helvetica,sans-Serif\" font-size=\"14.00\">value = [7, 0]</text>\r\n",
       "</g>\r\n",
       "<!-- 24&#45;&gt;34 -->\r\n",
       "<g id=\"edge16\" class=\"edge\"><title>24&#45;&gt;34</title>\r\n",
       "<path fill=\"none\" stroke=\"black\" d=\"M510.599,-88.9485C511.121,-80.7153 511.684,-71.848 512.215,-63.4814\"/>\r\n",
       "<polygon fill=\"black\" stroke=\"black\" points=\"515.725,-63.4384 512.866,-53.2367 508.739,-62.9948 515.725,-63.4384\"/>\r\n",
       "</g>\r\n",
       "<!-- 21 -->\r\n",
       "<g id=\"node19\" class=\"node\"><title>21</title>\r\n",
       "<path fill=\"#48a5e7\" stroke=\"black\" d=\"M699,-157C699,-157 602,-157 602,-157 596,-157 590,-151 590,-145 590,-145 590,-101 590,-101 590,-95 596,-89 602,-89 602,-89 699,-89 699,-89 705,-89 711,-95 711,-101 711,-101 711,-145 711,-145 711,-151 705,-157 699,-157\"/>\r\n",
       "<text text-anchor=\"middle\" x=\"650.5\" y=\"-141.8\" font-family=\"Helvetica,sans-Serif\" font-size=\"14.00\">entropy &lt;= &#45;3.67</text>\r\n",
       "<text text-anchor=\"middle\" x=\"650.5\" y=\"-126.8\" font-family=\"Helvetica,sans-Serif\" font-size=\"14.00\">entropy = 0.37</text>\r\n",
       "<text text-anchor=\"middle\" x=\"650.5\" y=\"-111.8\" font-family=\"Helvetica,sans-Serif\" font-size=\"14.00\">samples = 14</text>\r\n",
       "<text text-anchor=\"middle\" x=\"650.5\" y=\"-96.8\" font-family=\"Helvetica,sans-Serif\" font-size=\"14.00\">value = [1, 13]</text>\r\n",
       "</g>\r\n",
       "<!-- 20&#45;&gt;21 -->\r\n",
       "<g id=\"edge18\" class=\"edge\"><title>20&#45;&gt;21</title>\r\n",
       "<path fill=\"none\" stroke=\"black\" d=\"M650.5,-192.884C650.5,-184.778 650.5,-175.982 650.5,-167.472\"/>\r\n",
       "<polygon fill=\"black\" stroke=\"black\" points=\"654,-167.299 650.5,-157.299 647,-167.299 654,-167.299\"/>\r\n",
       "</g>\r\n",
       "<!-- 22 -->\r\n",
       "<g id=\"node22\" class=\"node\"><title>22</title>\r\n",
       "<path fill=\"#e58139\" stroke=\"black\" d=\"M822,-149.5C822,-149.5 741,-149.5 741,-149.5 735,-149.5 729,-143.5 729,-137.5 729,-137.5 729,-108.5 729,-108.5 729,-102.5 735,-96.5 741,-96.5 741,-96.5 822,-96.5 822,-96.5 828,-96.5 834,-102.5 834,-108.5 834,-108.5 834,-137.5 834,-137.5 834,-143.5 828,-149.5 822,-149.5\"/>\r\n",
       "<text text-anchor=\"middle\" x=\"781.5\" y=\"-134.3\" font-family=\"Helvetica,sans-Serif\" font-size=\"14.00\">entropy = 0.0</text>\r\n",
       "<text text-anchor=\"middle\" x=\"781.5\" y=\"-119.3\" font-family=\"Helvetica,sans-Serif\" font-size=\"14.00\">samples = 76</text>\r\n",
       "<text text-anchor=\"middle\" x=\"781.5\" y=\"-104.3\" font-family=\"Helvetica,sans-Serif\" font-size=\"14.00\">value = [76, 0]</text>\r\n",
       "</g>\r\n",
       "<!-- 20&#45;&gt;22 -->\r\n",
       "<g id=\"edge21\" class=\"edge\"><title>20&#45;&gt;22</title>\r\n",
       "<path fill=\"none\" stroke=\"black\" d=\"M693.032,-192.884C708.287,-181.006 725.444,-167.646 740.561,-155.876\"/>\r\n",
       "<polygon fill=\"black\" stroke=\"black\" points=\"742.984,-158.425 748.724,-149.52 738.684,-152.902 742.984,-158.425\"/>\r\n",
       "</g>\r\n",
       "<!-- 37 -->\r\n",
       "<g id=\"node20\" class=\"node\"><title>37</title>\r\n",
       "<path fill=\"#399de5\" stroke=\"black\" d=\"M682.5,-53C682.5,-53 606.5,-53 606.5,-53 600.5,-53 594.5,-47 594.5,-41 594.5,-41 594.5,-12 594.5,-12 594.5,-6 600.5,-0 606.5,-0 606.5,-0 682.5,-0 682.5,-0 688.5,-0 694.5,-6 694.5,-12 694.5,-12 694.5,-41 694.5,-41 694.5,-47 688.5,-53 682.5,-53\"/>\r\n",
       "<text text-anchor=\"middle\" x=\"644.5\" y=\"-37.8\" font-family=\"Helvetica,sans-Serif\" font-size=\"14.00\">entropy = 0.0</text>\r\n",
       "<text text-anchor=\"middle\" x=\"644.5\" y=\"-22.8\" font-family=\"Helvetica,sans-Serif\" font-size=\"14.00\">samples = 9</text>\r\n",
       "<text text-anchor=\"middle\" x=\"644.5\" y=\"-7.8\" font-family=\"Helvetica,sans-Serif\" font-size=\"14.00\">value = [0, 9]</text>\r\n",
       "</g>\r\n",
       "<!-- 21&#45;&gt;37 -->\r\n",
       "<g id=\"edge19\" class=\"edge\"><title>21&#45;&gt;37</title>\r\n",
       "<path fill=\"none\" stroke=\"black\" d=\"M648.401,-88.9485C647.879,-80.7153 647.316,-71.848 646.785,-63.4814\"/>\r\n",
       "<polygon fill=\"black\" stroke=\"black\" points=\"650.261,-62.9948 646.134,-53.2367 643.275,-63.4384 650.261,-62.9948\"/>\r\n",
       "</g>\r\n",
       "<!-- 38 -->\r\n",
       "<g id=\"node21\" class=\"node\"><title>38</title>\r\n",
       "<path fill=\"#6ab6ec\" stroke=\"black\" d=\"M808.5,-53C808.5,-53 724.5,-53 724.5,-53 718.5,-53 712.5,-47 712.5,-41 712.5,-41 712.5,-12 712.5,-12 712.5,-6 718.5,-0 724.5,-0 724.5,-0 808.5,-0 808.5,-0 814.5,-0 820.5,-6 820.5,-12 820.5,-12 820.5,-41 820.5,-41 820.5,-47 814.5,-53 808.5,-53\"/>\r\n",
       "<text text-anchor=\"middle\" x=\"766.5\" y=\"-37.8\" font-family=\"Helvetica,sans-Serif\" font-size=\"14.00\">entropy = 0.72</text>\r\n",
       "<text text-anchor=\"middle\" x=\"766.5\" y=\"-22.8\" font-family=\"Helvetica,sans-Serif\" font-size=\"14.00\">samples = 5</text>\r\n",
       "<text text-anchor=\"middle\" x=\"766.5\" y=\"-7.8\" font-family=\"Helvetica,sans-Serif\" font-size=\"14.00\">value = [1, 4]</text>\r\n",
       "</g>\r\n",
       "<!-- 21&#45;&gt;38 -->\r\n",
       "<g id=\"edge20\" class=\"edge\"><title>21&#45;&gt;38</title>\r\n",
       "<path fill=\"none\" stroke=\"black\" d=\"M691.071,-88.9485C702.75,-79.4346 715.467,-69.074 727.075,-59.6175\"/>\r\n",
       "<polygon fill=\"black\" stroke=\"black\" points=\"729.365,-62.2663 734.908,-53.2367 724.944,-56.8392 729.365,-62.2663\"/>\r\n",
       "</g>\r\n",
       "<!-- 17 -->\r\n",
       "<g id=\"node24\" class=\"node\"><title>17</title>\r\n",
       "<path fill=\"#42a1e6\" stroke=\"black\" d=\"M964.5,-365C964.5,-365 870.5,-365 870.5,-365 864.5,-365 858.5,-359 858.5,-353 858.5,-353 858.5,-309 858.5,-309 858.5,-303 864.5,-297 870.5,-297 870.5,-297 964.5,-297 964.5,-297 970.5,-297 976.5,-303 976.5,-309 976.5,-309 976.5,-353 976.5,-353 976.5,-359 970.5,-365 964.5,-365\"/>\r\n",
       "<text text-anchor=\"middle\" x=\"917.5\" y=\"-349.8\" font-family=\"Helvetica,sans-Serif\" font-size=\"14.00\">variance &lt;= &#45;0.4</text>\r\n",
       "<text text-anchor=\"middle\" x=\"917.5\" y=\"-334.8\" font-family=\"Helvetica,sans-Serif\" font-size=\"14.00\">entropy = 0.25</text>\r\n",
       "<text text-anchor=\"middle\" x=\"917.5\" y=\"-319.8\" font-family=\"Helvetica,sans-Serif\" font-size=\"14.00\">samples = 168</text>\r\n",
       "<text text-anchor=\"middle\" x=\"917.5\" y=\"-304.8\" font-family=\"Helvetica,sans-Serif\" font-size=\"14.00\">value = [7, 161]</text>\r\n",
       "</g>\r\n",
       "<!-- 10&#45;&gt;17 -->\r\n",
       "<g id=\"edge23\" class=\"edge\"><title>10&#45;&gt;17</title>\r\n",
       "<path fill=\"none\" stroke=\"black\" d=\"M964.098,-400.884C958.253,-392.243 951.878,-382.819 945.772,-373.793\"/>\r\n",
       "<polygon fill=\"black\" stroke=\"black\" points=\"948.528,-371.621 940.026,-365.299 942.73,-375.543 948.528,-371.621\"/>\r\n",
       "</g>\r\n",
       "<!-- 18 -->\r\n",
       "<g id=\"node29\" class=\"node\"><title>18</title>\r\n",
       "<path fill=\"#f6d5bd\" stroke=\"black\" d=\"M1102,-365C1102,-365 1007,-365 1007,-365 1001,-365 995,-359 995,-353 995,-353 995,-309 995,-309 995,-303 1001,-297 1007,-297 1007,-297 1102,-297 1102,-297 1108,-297 1114,-303 1114,-309 1114,-309 1114,-353 1114,-353 1114,-359 1108,-365 1102,-365\"/>\r\n",
       "<text text-anchor=\"middle\" x=\"1054.5\" y=\"-349.8\" font-family=\"Helvetica,sans-Serif\" font-size=\"14.00\">curtosis &lt;= 2.56</text>\r\n",
       "<text text-anchor=\"middle\" x=\"1054.5\" y=\"-334.8\" font-family=\"Helvetica,sans-Serif\" font-size=\"14.00\">entropy = 0.97</text>\r\n",
       "<text text-anchor=\"middle\" x=\"1054.5\" y=\"-319.8\" font-family=\"Helvetica,sans-Serif\" font-size=\"14.00\">samples = 15</text>\r\n",
       "<text text-anchor=\"middle\" x=\"1054.5\" y=\"-304.8\" font-family=\"Helvetica,sans-Serif\" font-size=\"14.00\">value = [9, 6]</text>\r\n",
       "</g>\r\n",
       "<!-- 10&#45;&gt;18 -->\r\n",
       "<g id=\"edge28\" class=\"edge\"><title>10&#45;&gt;18</title>\r\n",
       "<path fill=\"none\" stroke=\"black\" d=\"M1008.58,-400.884C1014.34,-392.243 1020.62,-382.819 1026.64,-373.793\"/>\r\n",
       "<polygon fill=\"black\" stroke=\"black\" points=\"1029.67,-375.561 1032.3,-365.299 1023.84,-371.678 1029.67,-375.561\"/>\r\n",
       "</g>\r\n",
       "<!-- 25 -->\r\n",
       "<g id=\"node25\" class=\"node\"><title>25</title>\r\n",
       "<path fill=\"#399de5\" stroke=\"black\" d=\"M833,-253.5C833,-253.5 744,-253.5 744,-253.5 738,-253.5 732,-247.5 732,-241.5 732,-241.5 732,-212.5 732,-212.5 732,-206.5 738,-200.5 744,-200.5 744,-200.5 833,-200.5 833,-200.5 839,-200.5 845,-206.5 845,-212.5 845,-212.5 845,-241.5 845,-241.5 845,-247.5 839,-253.5 833,-253.5\"/>\r\n",
       "<text text-anchor=\"middle\" x=\"788.5\" y=\"-238.3\" font-family=\"Helvetica,sans-Serif\" font-size=\"14.00\">entropy = 0.0</text>\r\n",
       "<text text-anchor=\"middle\" x=\"788.5\" y=\"-223.3\" font-family=\"Helvetica,sans-Serif\" font-size=\"14.00\">samples = 127</text>\r\n",
       "<text text-anchor=\"middle\" x=\"788.5\" y=\"-208.3\" font-family=\"Helvetica,sans-Serif\" font-size=\"14.00\">value = [0, 127]</text>\r\n",
       "</g>\r\n",
       "<!-- 17&#45;&gt;25 -->\r\n",
       "<g id=\"edge24\" class=\"edge\"><title>17&#45;&gt;25</title>\r\n",
       "<path fill=\"none\" stroke=\"black\" d=\"M875.617,-296.884C860.596,-285.006 843.7,-271.646 828.814,-259.876\"/>\r\n",
       "<polygon fill=\"black\" stroke=\"black\" points=\"830.79,-256.977 820.775,-253.52 826.449,-262.468 830.79,-256.977\"/>\r\n",
       "</g>\r\n",
       "<!-- 26 -->\r\n",
       "<g id=\"node26\" class=\"node\"><title>26</title>\r\n",
       "<path fill=\"#62b1ea\" stroke=\"black\" d=\"M970,-261C970,-261 875,-261 875,-261 869,-261 863,-255 863,-249 863,-249 863,-205 863,-205 863,-199 869,-193 875,-193 875,-193 970,-193 970,-193 976,-193 982,-199 982,-205 982,-205 982,-249 982,-249 982,-255 976,-261 970,-261\"/>\r\n",
       "<text text-anchor=\"middle\" x=\"922.5\" y=\"-245.8\" font-family=\"Helvetica,sans-Serif\" font-size=\"14.00\">curtosis &lt;= 2.17</text>\r\n",
       "<text text-anchor=\"middle\" x=\"922.5\" y=\"-230.8\" font-family=\"Helvetica,sans-Serif\" font-size=\"14.00\">entropy = 0.66</text>\r\n",
       "<text text-anchor=\"middle\" x=\"922.5\" y=\"-215.8\" font-family=\"Helvetica,sans-Serif\" font-size=\"14.00\">samples = 41</text>\r\n",
       "<text text-anchor=\"middle\" x=\"922.5\" y=\"-200.8\" font-family=\"Helvetica,sans-Serif\" font-size=\"14.00\">value = [7, 34]</text>\r\n",
       "</g>\r\n",
       "<!-- 17&#45;&gt;26 -->\r\n",
       "<g id=\"edge25\" class=\"edge\"><title>17&#45;&gt;26</title>\r\n",
       "<path fill=\"none\" stroke=\"black\" d=\"M919.123,-296.884C919.521,-288.778 919.952,-279.982 920.369,-271.472\"/>\r\n",
       "<polygon fill=\"black\" stroke=\"black\" points=\"923.874,-271.459 920.868,-261.299 916.882,-271.116 923.874,-271.459\"/>\r\n",
       "</g>\r\n",
       "<!-- 27 -->\r\n",
       "<g id=\"node27\" class=\"node\"><title>27</title>\r\n",
       "<path fill=\"#399de5\" stroke=\"black\" d=\"M954,-149.5C954,-149.5 873,-149.5 873,-149.5 867,-149.5 861,-143.5 861,-137.5 861,-137.5 861,-108.5 861,-108.5 861,-102.5 867,-96.5 873,-96.5 873,-96.5 954,-96.5 954,-96.5 960,-96.5 966,-102.5 966,-108.5 966,-108.5 966,-137.5 966,-137.5 966,-143.5 960,-149.5 954,-149.5\"/>\r\n",
       "<text text-anchor=\"middle\" x=\"913.5\" y=\"-134.3\" font-family=\"Helvetica,sans-Serif\" font-size=\"14.00\">entropy = 0.0</text>\r\n",
       "<text text-anchor=\"middle\" x=\"913.5\" y=\"-119.3\" font-family=\"Helvetica,sans-Serif\" font-size=\"14.00\">samples = 33</text>\r\n",
       "<text text-anchor=\"middle\" x=\"913.5\" y=\"-104.3\" font-family=\"Helvetica,sans-Serif\" font-size=\"14.00\">value = [0, 33]</text>\r\n",
       "</g>\r\n",
       "<!-- 26&#45;&gt;27 -->\r\n",
       "<g id=\"edge26\" class=\"edge\"><title>26&#45;&gt;27</title>\r\n",
       "<path fill=\"none\" stroke=\"black\" d=\"M919.578,-192.884C918.637,-182.216 917.59,-170.352 916.634,-159.519\"/>\r\n",
       "<polygon fill=\"black\" stroke=\"black\" points=\"920.117,-159.174 915.752,-149.52 913.144,-159.789 920.117,-159.174\"/>\r\n",
       "</g>\r\n",
       "<!-- 28 -->\r\n",
       "<g id=\"node28\" class=\"node\"><title>28</title>\r\n",
       "<path fill=\"#e99355\" stroke=\"black\" d=\"M1080.5,-149.5C1080.5,-149.5 996.5,-149.5 996.5,-149.5 990.5,-149.5 984.5,-143.5 984.5,-137.5 984.5,-137.5 984.5,-108.5 984.5,-108.5 984.5,-102.5 990.5,-96.5 996.5,-96.5 996.5,-96.5 1080.5,-96.5 1080.5,-96.5 1086.5,-96.5 1092.5,-102.5 1092.5,-108.5 1092.5,-108.5 1092.5,-137.5 1092.5,-137.5 1092.5,-143.5 1086.5,-149.5 1080.5,-149.5\"/>\r\n",
       "<text text-anchor=\"middle\" x=\"1038.5\" y=\"-134.3\" font-family=\"Helvetica,sans-Serif\" font-size=\"14.00\">entropy = 0.54</text>\r\n",
       "<text text-anchor=\"middle\" x=\"1038.5\" y=\"-119.3\" font-family=\"Helvetica,sans-Serif\" font-size=\"14.00\">samples = 8</text>\r\n",
       "<text text-anchor=\"middle\" x=\"1038.5\" y=\"-104.3\" font-family=\"Helvetica,sans-Serif\" font-size=\"14.00\">value = [7, 1]</text>\r\n",
       "</g>\r\n",
       "<!-- 26&#45;&gt;28 -->\r\n",
       "<g id=\"edge27\" class=\"edge\"><title>26&#45;&gt;28</title>\r\n",
       "<path fill=\"none\" stroke=\"black\" d=\"M960.162,-192.884C973.545,-181.116 988.582,-167.894 1001.88,-156.203\"/>\r\n",
       "<polygon fill=\"black\" stroke=\"black\" points=\"1004.28,-158.752 1009.48,-149.52 999.656,-153.495 1004.28,-158.752\"/>\r\n",
       "</g>\r\n",
       "<!-- 29 -->\r\n",
       "<g id=\"node30\" class=\"node\"><title>29</title>\r\n",
       "<path fill=\"#399de5\" stroke=\"black\" d=\"M1088.5,-253.5C1088.5,-253.5 1012.5,-253.5 1012.5,-253.5 1006.5,-253.5 1000.5,-247.5 1000.5,-241.5 1000.5,-241.5 1000.5,-212.5 1000.5,-212.5 1000.5,-206.5 1006.5,-200.5 1012.5,-200.5 1012.5,-200.5 1088.5,-200.5 1088.5,-200.5 1094.5,-200.5 1100.5,-206.5 1100.5,-212.5 1100.5,-212.5 1100.5,-241.5 1100.5,-241.5 1100.5,-247.5 1094.5,-253.5 1088.5,-253.5\"/>\r\n",
       "<text text-anchor=\"middle\" x=\"1050.5\" y=\"-238.3\" font-family=\"Helvetica,sans-Serif\" font-size=\"14.00\">entropy = 0.0</text>\r\n",
       "<text text-anchor=\"middle\" x=\"1050.5\" y=\"-223.3\" font-family=\"Helvetica,sans-Serif\" font-size=\"14.00\">samples = 6</text>\r\n",
       "<text text-anchor=\"middle\" x=\"1050.5\" y=\"-208.3\" font-family=\"Helvetica,sans-Serif\" font-size=\"14.00\">value = [0, 6]</text>\r\n",
       "</g>\r\n",
       "<!-- 18&#45;&gt;29 -->\r\n",
       "<g id=\"edge29\" class=\"edge\"><title>18&#45;&gt;29</title>\r\n",
       "<path fill=\"none\" stroke=\"black\" d=\"M1053.2,-296.884C1052.78,-286.216 1052.32,-274.352 1051.89,-263.519\"/>\r\n",
       "<polygon fill=\"black\" stroke=\"black\" points=\"1055.39,-263.375 1051.5,-253.52 1048.4,-263.649 1055.39,-263.375\"/>\r\n",
       "</g>\r\n",
       "<!-- 30 -->\r\n",
       "<g id=\"node31\" class=\"node\"><title>30</title>\r\n",
       "<path fill=\"#e58139\" stroke=\"black\" d=\"M1206.5,-253.5C1206.5,-253.5 1130.5,-253.5 1130.5,-253.5 1124.5,-253.5 1118.5,-247.5 1118.5,-241.5 1118.5,-241.5 1118.5,-212.5 1118.5,-212.5 1118.5,-206.5 1124.5,-200.5 1130.5,-200.5 1130.5,-200.5 1206.5,-200.5 1206.5,-200.5 1212.5,-200.5 1218.5,-206.5 1218.5,-212.5 1218.5,-212.5 1218.5,-241.5 1218.5,-241.5 1218.5,-247.5 1212.5,-253.5 1206.5,-253.5\"/>\r\n",
       "<text text-anchor=\"middle\" x=\"1168.5\" y=\"-238.3\" font-family=\"Helvetica,sans-Serif\" font-size=\"14.00\">entropy = 0.0</text>\r\n",
       "<text text-anchor=\"middle\" x=\"1168.5\" y=\"-223.3\" font-family=\"Helvetica,sans-Serif\" font-size=\"14.00\">samples = 9</text>\r\n",
       "<text text-anchor=\"middle\" x=\"1168.5\" y=\"-208.3\" font-family=\"Helvetica,sans-Serif\" font-size=\"14.00\">value = [9, 0]</text>\r\n",
       "</g>\r\n",
       "<!-- 18&#45;&gt;30 -->\r\n",
       "<g id=\"edge30\" class=\"edge\"><title>18&#45;&gt;30</title>\r\n",
       "<path fill=\"none\" stroke=\"black\" d=\"M1091.51,-296.884C1104.66,-285.116 1119.44,-271.894 1132.51,-260.203\"/>\r\n",
       "<polygon fill=\"black\" stroke=\"black\" points=\"1134.86,-262.796 1139.98,-253.52 1130.19,-257.58 1134.86,-262.796\"/>\r\n",
       "</g>\r\n",
       "<!-- 5 -->\r\n",
       "<g id=\"node33\" class=\"node\"><title>5</title>\r\n",
       "<path fill=\"#eb9c64\" stroke=\"black\" d=\"M1343.5,-469C1343.5,-469 1235.5,-469 1235.5,-469 1229.5,-469 1223.5,-463 1223.5,-457 1223.5,-457 1223.5,-413 1223.5,-413 1223.5,-407 1229.5,-401 1235.5,-401 1235.5,-401 1343.5,-401 1343.5,-401 1349.5,-401 1355.5,-407 1355.5,-413 1355.5,-413 1355.5,-457 1355.5,-457 1355.5,-463 1349.5,-469 1343.5,-469\"/>\r\n",
       "<text text-anchor=\"middle\" x=\"1289.5\" y=\"-453.8\" font-family=\"Helvetica,sans-Serif\" font-size=\"14.00\">skewness &lt;= 4.92</text>\r\n",
       "<text text-anchor=\"middle\" x=\"1289.5\" y=\"-438.8\" font-family=\"Helvetica,sans-Serif\" font-size=\"14.00\">entropy = 0.68</text>\r\n",
       "<text text-anchor=\"middle\" x=\"1289.5\" y=\"-423.8\" font-family=\"Helvetica,sans-Serif\" font-size=\"14.00\">samples = 168</text>\r\n",
       "<text text-anchor=\"middle\" x=\"1289.5\" y=\"-408.8\" font-family=\"Helvetica,sans-Serif\" font-size=\"14.00\">value = [138, 30]</text>\r\n",
       "</g>\r\n",
       "<!-- 4&#45;&gt;5 -->\r\n",
       "<g id=\"edge32\" class=\"edge\"><title>4&#45;&gt;5</title>\r\n",
       "<path fill=\"none\" stroke=\"black\" d=\"M1289.5,-504.884C1289.5,-496.778 1289.5,-487.982 1289.5,-479.472\"/>\r\n",
       "<polygon fill=\"black\" stroke=\"black\" points=\"1293,-479.299 1289.5,-469.299 1286,-479.299 1293,-479.299\"/>\r\n",
       "</g>\r\n",
       "<!-- 6 -->\r\n",
       "<g id=\"node38\" class=\"node\"><title>6</title>\r\n",
       "<path fill=\"#e58139\" stroke=\"black\" d=\"M1475,-461.5C1475,-461.5 1386,-461.5 1386,-461.5 1380,-461.5 1374,-455.5 1374,-449.5 1374,-449.5 1374,-420.5 1374,-420.5 1374,-414.5 1380,-408.5 1386,-408.5 1386,-408.5 1475,-408.5 1475,-408.5 1481,-408.5 1487,-414.5 1487,-420.5 1487,-420.5 1487,-449.5 1487,-449.5 1487,-455.5 1481,-461.5 1475,-461.5\"/>\r\n",
       "<text text-anchor=\"middle\" x=\"1430.5\" y=\"-446.3\" font-family=\"Helvetica,sans-Serif\" font-size=\"14.00\">entropy = 0.0</text>\r\n",
       "<text text-anchor=\"middle\" x=\"1430.5\" y=\"-431.3\" font-family=\"Helvetica,sans-Serif\" font-size=\"14.00\">samples = 303</text>\r\n",
       "<text text-anchor=\"middle\" x=\"1430.5\" y=\"-416.3\" font-family=\"Helvetica,sans-Serif\" font-size=\"14.00\">value = [303, 0]</text>\r\n",
       "</g>\r\n",
       "<!-- 4&#45;&gt;6 -->\r\n",
       "<g id=\"edge37\" class=\"edge\"><title>4&#45;&gt;6</title>\r\n",
       "<path fill=\"none\" stroke=\"black\" d=\"M1335.28,-504.884C1351.85,-492.896 1370.51,-479.399 1386.89,-467.549\"/>\r\n",
       "<polygon fill=\"black\" stroke=\"black\" points=\"1389.17,-470.217 1395.22,-461.52 1385.07,-464.545 1389.17,-470.217\"/>\r\n",
       "</g>\r\n",
       "<!-- 7 -->\r\n",
       "<g id=\"node34\" class=\"node\"><title>7</title>\r\n",
       "<path fill=\"#4da7e8\" stroke=\"black\" d=\"M1338.5,-365C1338.5,-365 1240.5,-365 1240.5,-365 1234.5,-365 1228.5,-359 1228.5,-353 1228.5,-353 1228.5,-309 1228.5,-309 1228.5,-303 1234.5,-297 1240.5,-297 1240.5,-297 1338.5,-297 1338.5,-297 1344.5,-297 1350.5,-303 1350.5,-309 1350.5,-309 1350.5,-353 1350.5,-353 1350.5,-359 1344.5,-365 1338.5,-365\"/>\r\n",
       "<text text-anchor=\"middle\" x=\"1289.5\" y=\"-349.8\" font-family=\"Helvetica,sans-Serif\" font-size=\"14.00\">variance &lt;= 2.21</text>\r\n",
       "<text text-anchor=\"middle\" x=\"1289.5\" y=\"-334.8\" font-family=\"Helvetica,sans-Serif\" font-size=\"14.00\">entropy = 0.44</text>\r\n",
       "<text text-anchor=\"middle\" x=\"1289.5\" y=\"-319.8\" font-family=\"Helvetica,sans-Serif\" font-size=\"14.00\">samples = 33</text>\r\n",
       "<text text-anchor=\"middle\" x=\"1289.5\" y=\"-304.8\" font-family=\"Helvetica,sans-Serif\" font-size=\"14.00\">value = [3, 30]</text>\r\n",
       "</g>\r\n",
       "<!-- 5&#45;&gt;7 -->\r\n",
       "<g id=\"edge33\" class=\"edge\"><title>5&#45;&gt;7</title>\r\n",
       "<path fill=\"none\" stroke=\"black\" d=\"M1289.5,-400.884C1289.5,-392.778 1289.5,-383.982 1289.5,-375.472\"/>\r\n",
       "<polygon fill=\"black\" stroke=\"black\" points=\"1293,-375.299 1289.5,-365.299 1286,-375.299 1293,-375.299\"/>\r\n",
       "</g>\r\n",
       "<!-- 8 -->\r\n",
       "<g id=\"node37\" class=\"node\"><title>8</title>\r\n",
       "<path fill=\"#e58139\" stroke=\"black\" d=\"M1470,-357.5C1470,-357.5 1381,-357.5 1381,-357.5 1375,-357.5 1369,-351.5 1369,-345.5 1369,-345.5 1369,-316.5 1369,-316.5 1369,-310.5 1375,-304.5 1381,-304.5 1381,-304.5 1470,-304.5 1470,-304.5 1476,-304.5 1482,-310.5 1482,-316.5 1482,-316.5 1482,-345.5 1482,-345.5 1482,-351.5 1476,-357.5 1470,-357.5\"/>\r\n",
       "<text text-anchor=\"middle\" x=\"1425.5\" y=\"-342.3\" font-family=\"Helvetica,sans-Serif\" font-size=\"14.00\">entropy = 0.0</text>\r\n",
       "<text text-anchor=\"middle\" x=\"1425.5\" y=\"-327.3\" font-family=\"Helvetica,sans-Serif\" font-size=\"14.00\">samples = 135</text>\r\n",
       "<text text-anchor=\"middle\" x=\"1425.5\" y=\"-312.3\" font-family=\"Helvetica,sans-Serif\" font-size=\"14.00\">value = [135, 0]</text>\r\n",
       "</g>\r\n",
       "<!-- 5&#45;&gt;8 -->\r\n",
       "<g id=\"edge36\" class=\"edge\"><title>5&#45;&gt;8</title>\r\n",
       "<path fill=\"none\" stroke=\"black\" d=\"M1333.66,-400.884C1349.64,-388.896 1367.63,-375.399 1383.43,-363.549\"/>\r\n",
       "<polygon fill=\"black\" stroke=\"black\" points=\"1385.57,-366.32 1391.47,-357.52 1381.37,-360.72 1385.57,-366.32\"/>\r\n",
       "</g>\r\n",
       "<!-- 31 -->\r\n",
       "<g id=\"node35\" class=\"node\"><title>31</title>\r\n",
       "<path fill=\"#399de5\" stroke=\"black\" d=\"M1330,-253.5C1330,-253.5 1249,-253.5 1249,-253.5 1243,-253.5 1237,-247.5 1237,-241.5 1237,-241.5 1237,-212.5 1237,-212.5 1237,-206.5 1243,-200.5 1249,-200.5 1249,-200.5 1330,-200.5 1330,-200.5 1336,-200.5 1342,-206.5 1342,-212.5 1342,-212.5 1342,-241.5 1342,-241.5 1342,-247.5 1336,-253.5 1330,-253.5\"/>\r\n",
       "<text text-anchor=\"middle\" x=\"1289.5\" y=\"-238.3\" font-family=\"Helvetica,sans-Serif\" font-size=\"14.00\">entropy = 0.0</text>\r\n",
       "<text text-anchor=\"middle\" x=\"1289.5\" y=\"-223.3\" font-family=\"Helvetica,sans-Serif\" font-size=\"14.00\">samples = 28</text>\r\n",
       "<text text-anchor=\"middle\" x=\"1289.5\" y=\"-208.3\" font-family=\"Helvetica,sans-Serif\" font-size=\"14.00\">value = [0, 28]</text>\r\n",
       "</g>\r\n",
       "<!-- 7&#45;&gt;31 -->\r\n",
       "<g id=\"edge34\" class=\"edge\"><title>7&#45;&gt;31</title>\r\n",
       "<path fill=\"none\" stroke=\"black\" d=\"M1289.5,-296.884C1289.5,-286.326 1289.5,-274.597 1289.5,-263.854\"/>\r\n",
       "<polygon fill=\"black\" stroke=\"black\" points=\"1293,-263.52 1289.5,-253.52 1286,-263.52 1293,-263.52\"/>\r\n",
       "</g>\r\n",
       "<!-- 32 -->\r\n",
       "<g id=\"node36\" class=\"node\"><title>32</title>\r\n",
       "<path fill=\"#f6d5bd\" stroke=\"black\" d=\"M1456.5,-253.5C1456.5,-253.5 1372.5,-253.5 1372.5,-253.5 1366.5,-253.5 1360.5,-247.5 1360.5,-241.5 1360.5,-241.5 1360.5,-212.5 1360.5,-212.5 1360.5,-206.5 1366.5,-200.5 1372.5,-200.5 1372.5,-200.5 1456.5,-200.5 1456.5,-200.5 1462.5,-200.5 1468.5,-206.5 1468.5,-212.5 1468.5,-212.5 1468.5,-241.5 1468.5,-241.5 1468.5,-247.5 1462.5,-253.5 1456.5,-253.5\"/>\r\n",
       "<text text-anchor=\"middle\" x=\"1414.5\" y=\"-238.3\" font-family=\"Helvetica,sans-Serif\" font-size=\"14.00\">entropy = 0.97</text>\r\n",
       "<text text-anchor=\"middle\" x=\"1414.5\" y=\"-223.3\" font-family=\"Helvetica,sans-Serif\" font-size=\"14.00\">samples = 5</text>\r\n",
       "<text text-anchor=\"middle\" x=\"1414.5\" y=\"-208.3\" font-family=\"Helvetica,sans-Serif\" font-size=\"14.00\">value = [3, 2]</text>\r\n",
       "</g>\r\n",
       "<!-- 7&#45;&gt;32 -->\r\n",
       "<g id=\"edge35\" class=\"edge\"><title>7&#45;&gt;32</title>\r\n",
       "<path fill=\"none\" stroke=\"black\" d=\"M1330.08,-296.884C1344.64,-285.006 1361.01,-271.646 1375.44,-259.876\"/>\r\n",
       "<polygon fill=\"black\" stroke=\"black\" points=\"1377.69,-262.554 1383.23,-253.52 1373.26,-257.13 1377.69,-262.554\"/>\r\n",
       "</g>\r\n",
       "</g>\r\n",
       "</svg>\r\n"
      ],
      "text/plain": [
       "<graphviz.files.Source at 0x27a74bfe9c8>"
      ]
     },
     "execution_count": 141,
     "metadata": {},
     "output_type": "execute_result"
    }
   ],
   "source": [
    "graph=graphviz.Source(dot_data)\n",
    "graph"
   ]
  },
  {
   "cell_type": "markdown",
   "metadata": {},
   "source": [
    "## Predictions about the fake or authentic note based upon the classifier decision tree: -\n",
    "- Depth-0: Bank Notes with Curtosis <=8.84 and entropy < -0.37 and skewness < 5.16 have predicted values as 110 (1) & 191 (0) with its entropy value as 0.95\n",
    "- The last model iteration is the best because it use optimal no of features (variance, skewness and entropy) in our case with deeper tree depth and higher quantity of max_leaf_nodes "
   ]
  },
  {
   "cell_type": "code",
   "execution_count": 142,
   "metadata": {
    "ExecuteTime": {
     "end_time": "2020-07-05T22:14:17.380042Z",
     "start_time": "2020-07-05T22:14:17.077848Z"
    },
    "hidden": true
   },
   "outputs": [
    {
     "data": {
      "text/plain": [
       "'DT_Classifier_3.pdf'"
      ]
     },
     "execution_count": 142,
     "metadata": {},
     "output_type": "execute_result"
    }
   ],
   "source": [
    "# export decision tree to PDF file \n",
    "graph.render(\"DT_Classifier_3\",view = True)"
   ]
  },
  {
   "cell_type": "code",
   "execution_count": 143,
   "metadata": {
    "ExecuteTime": {
     "end_time": "2020-07-05T22:14:39.982783Z",
     "start_time": "2020-07-05T22:14:39.978134Z"
    },
    "hidden": true
   },
   "outputs": [],
   "source": [
    "from pydotplus import graph_from_dot_data"
   ]
  },
  {
   "cell_type": "code",
   "execution_count": 144,
   "metadata": {
    "ExecuteTime": {
     "end_time": "2020-07-05T22:14:40.917652Z",
     "start_time": "2020-07-05T22:14:40.566410Z"
    },
    "hidden": true
   },
   "outputs": [],
   "source": [
    "graph = graph_from_dot_data(dot_data)"
   ]
  },
  {
   "cell_type": "code",
   "execution_count": 145,
   "metadata": {
    "ExecuteTime": {
     "end_time": "2020-07-05T22:14:41.566933Z",
     "start_time": "2020-07-05T22:14:41.144910Z"
    },
    "hidden": true,
    "scrolled": true
   },
   "outputs": [
    {
     "data": {
      "text/plain": [
       "True"
      ]
     },
     "execution_count": 145,
     "metadata": {},
     "output_type": "execute_result"
    }
   ],
   "source": [
    "# To save the decision classifier tree in png format \n",
    "graph.write_png(\"Classifier_tree3.png\")"
   ]
  },
  {
   "cell_type": "code",
   "execution_count": 152,
   "metadata": {},
   "outputs": [],
   "source": [
    "from sklearn.model_selection import cross_validate, ShuffleSplit, GridSearchCV\n",
    "base_results = cross_validate(tree6, X, y, cv=5, return_train_score=True)"
   ]
  },
  {
   "cell_type": "code",
   "execution_count": 153,
   "metadata": {
    "ExecuteTime": {
     "end_time": "2020-07-05T22:16:39.871360Z",
     "start_time": "2020-07-05T22:16:39.858230Z"
    },
    "hidden": true
   },
   "outputs": [],
   "source": [
    "def plot_feature_importances(df):\n",
    "    \n",
    "    # Sort features according to importance\n",
    "    df = df.sort_values('importance', ascending = False).reset_index()\n",
    "    \n",
    "    # Normalize the feature importances to add up to one\n",
    "    df['importance_normalized'] = df['importance'] / df['importance'].sum()\n",
    "\n",
    "    # Make a horizontal bar chart of feature importances\n",
    "    plt.figure(figsize = (10, 6))\n",
    "    ax = plt.subplot()\n",
    "    \n",
    "    # Need to reverse the index to plot most important on top\n",
    "    ax.barh(list(reversed(list(df.index[:15]))), \n",
    "            df['importance_normalized'].head(15), \n",
    "            align = 'center', edgecolor = 'k')\n",
    "    \n",
    "    # Set the yticks and labels\n",
    "    ax.set_yticks(list(reversed(list(df.index[:15]))))\n",
    "    ax.set_yticklabels(df['feature'].head(15))\n",
    "    \n",
    "    # Plot labeling\n",
    "    plt.xlabel('Normalized Importance'); plt.title('Feature Importances')\n",
    "    plt.show()\n",
    "    \n",
    "    return df"
   ]
  },
  {
   "cell_type": "code",
   "execution_count": 154,
   "metadata": {
    "ExecuteTime": {
     "end_time": "2020-07-05T22:17:19.930972Z",
     "start_time": "2020-07-05T22:17:19.769381Z"
    },
    "hidden": true,
    "scrolled": false
   },
   "outputs": [
    {
     "data": {
      "image/png": "[encoded data removed]",
      "text/plain": [
       "<Figure size 720x432 with 1 Axes>"
      ]
     },
     "metadata": {
      "needs_background": "light"
     },
     "output_type": "display_data"
    }
   ],
   "source": [
    "importance = tree6.feature_importances_\n",
    "feature = X.columns\n",
    "fi = pd.DataFrame()\n",
    "fi['importance'] = importance\n",
    "fi['feature'] = feature\n",
    "fi_sorted = plot_feature_importances(fi)"
   ]
  },
  {
   "cell_type": "markdown",
   "metadata": {
    "hidden": true
   },
   "source": [
    "#### <font color=red> <b><u><i> Best Features from the Final Classification Decision Tree Model :-\n",
    "- <i><font color=red> The feature importance after the best fit model has changed and hence their level of significance matters a lot more than in the original model. </font> </i>\n",
    "- <i><font color=red> 50% of variable importance is contributed by variance and remaining 50% by curtosis, skewness and entropy </font> </i>\n",
    "    </i></u></b> </font>"
   ]
  },
  {
   "cell_type": "markdown",
   "metadata": {
    "hidden": true
   },
   "source": [
    "### References used for Decision tree regressor:-\n",
    "- https://scikit-learn.org/stable/modules/generated/sklearn.tree.DecisionTreeRegressor.html\n",
    "- https://scikit-learn.org/stable/modules/generated/sklearn.tree.DecisionTreeClassifier.html"
   ]
  }
 ],
 "metadata": {
  "kernelspec": {
   "display_name": "Python 3",
   "language": "python",
   "name": "python3"
  },
  "language_info": {
   "codemirror_mode": {
    "name": "ipython",
    "version": 3
   },
   "file_extension": ".py",
   "mimetype": "text/x-python",
   "name": "python",
   "nbconvert_exporter": "python",
   "pygments_lexer": "ipython3",
   "version": "3.7.7"
  },
  "toc": {
   "base_numbering": 1,
   "nav_menu": {},
   "number_sections": false,
   "sideBar": true,
   "skip_h1_title": false,
   "title_cell": "Table of Contents",
   "title_sidebar": "Contents",
   "toc_cell": false,
   "toc_position": {
    "height": "calc(100% - 180px)",
    "left": "10px",
    "top": "150px",
    "width": "308.565px"
   },
   "toc_section_display": true,
   "toc_window_display": true
  }
 },
 "nbformat": 4,
 "nbformat_minor": 2
}
